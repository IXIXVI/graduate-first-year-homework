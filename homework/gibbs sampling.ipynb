{
 "metadata": {
  "language_info": {
   "codemirror_mode": {
    "name": "ipython",
    "version": 3
   },
   "file_extension": ".py",
   "mimetype": "text/x-python",
   "name": "python",
   "nbconvert_exporter": "python",
   "pygments_lexer": "ipython3",
   "version": "3.8.5"
  },
  "orig_nbformat": 4,
  "kernelspec": {
   "name": "python3",
   "display_name": "Python 3.8.5 64-bit ('base': conda)"
  },
  "interpreter": {
   "hash": "b3ba2566441a7c06988d0923437866b63cedc61552a5af99d1f4fb67d367b25f"
  }
 },
 "nbformat": 4,
 "nbformat_minor": 2,
 "cells": [
  {
   "cell_type": "code",
   "execution_count": 1,
   "metadata": {},
   "outputs": [],
   "source": [
    "import numpy as np\n",
    "import matplotlib.pyplot as plt"
   ]
  },
  {
   "cell_type": "code",
   "execution_count": 2,
   "metadata": {},
   "outputs": [],
   "source": [
    "p=3\n",
    "k=3000#迭代次数"
   ]
  },
  {
   "cell_type": "code",
   "execution_count": 3,
   "metadata": {},
   "outputs": [
    {
     "output_type": "stream",
     "name": "stdout",
     "text": [
      "mean= [ 0  5 10] \n\nCovariance=\n [[1.  0.1 0.1]\n [0.1 1.  0.1]\n [0.1 0.1 1. ]]\n"
     ]
    }
   ],
   "source": [
    "np.random.seed(124)\n",
    "s=p*(p-1)/2\n",
    "mean=np.array([0,5,10])\n",
    "#np.random.randn(p)\n",
    "cov=np.zeros((p,p))\n",
    "\n",
    "for i in range(p+1):\n",
    "    for j in range(i,p):\n",
    "            cov[i,j]=0.1\n",
    "            cov[i,i]=1\n",
    "            cov[j,i]=cov[i,j]\n",
    "\n",
    "print(\"mean=\",mean,\"\\n\\nCovariance=\\n\",cov)"
   ]
  },
  {
   "cell_type": "code",
   "execution_count": 4,
   "metadata": {},
   "outputs": [
    {
     "output_type": "execute_result",
     "data": {
      "text/plain": [
       "array([0.9, 1.2, 0.9])"
      ]
     },
     "metadata": {},
     "execution_count": 4
    }
   ],
   "source": [
    "eigenvalue,featurevector=np.linalg.eig(cov)\n",
    "eigenvalue"
   ]
  },
  {
   "cell_type": "code",
   "execution_count": 5,
   "metadata": {},
   "outputs": [],
   "source": [
    "#交换第i个分量和第一个分量，求i的条件分布\n",
    "#多元分布下求第i+1个分量的条件分布\n",
    "def cond(x,mean,cov,i):#x为样本，mean为目标分布的均值，\n",
    "                       #cov为目标发布的方差，i表示第i+1个分量\n",
    "    t=cov\n",
    "    t[[0,i],:] = t[[i,0],:] \n",
    "    t[:,[0,i]] = t[:,[i,0]]\n",
    "    invt22=np.matrix(t[1:,1:]).I\n",
    "    t12=np.matrix(t[0,1:])\n",
    "    t21=t12.T\n",
    "    a=np.dot(t12,invt22)\n",
    "    b=x[1:]-mean[1:]\n",
    "    meani=mean[i]+np.dot(a,b)\n",
    "    c=np.dot(a,t21)\n",
    "    covi=t[0,0]-c\n",
    "    return meani,covi"
   ]
  },
  {
   "cell_type": "code",
   "execution_count": 6,
   "metadata": {},
   "outputs": [],
   "source": [
    "sample=np.zeros((k,p))\n",
    "sample[0]=[0,0,0]"
   ]
  },
  {
   "cell_type": "code",
   "execution_count": 7,
   "metadata": {},
   "outputs": [
    {
     "output_type": "execute_result",
     "data": {
      "text/plain": [
       "(matrix([[-1.36363636]]), matrix([[0.98181818]]))"
      ]
     },
     "metadata": {},
     "execution_count": 7
    }
   ],
   "source": [
    "s=cond(sample[0],mean,cov,0)\n",
    "s"
   ]
  },
  {
   "cell_type": "code",
   "execution_count": 8,
   "metadata": {},
   "outputs": [],
   "source": [
    "for i in range(1,k):\n",
    "    sample[i]=sample[i-1]\n",
    "    for j in range(p):\n",
    "        s=cond(sample[i],mean,cov,j)\n",
    "        a=float(s[0])\n",
    "        b=float(s[1])\n",
    "        e=np.random.randn(1)\n",
    "        sample[i][j]=e*np.sqrt(b)+a"
   ]
  },
  {
   "cell_type": "code",
   "execution_count": 9,
   "metadata": {},
   "outputs": [
    {
     "output_type": "execute_result",
     "data": {
      "text/plain": [
       "array([[-0.07705582,  6.16351736,  8.92203541],\n",
       "       [ 0.21269418,  5.25060076,  9.73956509],\n",
       "       [ 0.4234657 ,  3.21743448,  9.00466566],\n",
       "       [-0.78148581,  6.28626003, 10.60483076],\n",
       "       [ 1.9460695 ,  4.3509062 , 12.34077332],\n",
       "       [-1.15058383,  4.46320571, 11.89746059],\n",
       "       [-0.50600512,  5.74239481, 10.54726627],\n",
       "       [ 0.42310161,  5.2017915 ,  9.9180977 ],\n",
       "       [-1.37934397,  5.48305382, 11.13499669],\n",
       "       [-0.09208601,  4.01491538,  9.78463012]])"
      ]
     },
     "metadata": {},
     "execution_count": 9
    }
   ],
   "source": [
    "sample[-10:]"
   ]
  },
  {
   "cell_type": "code",
   "execution_count": 10,
   "metadata": {},
   "outputs": [
    {
     "output_type": "execute_result",
     "data": {
      "text/plain": [
       "array([0.11419397, 4.91442869, 9.98342207])"
      ]
     },
     "metadata": {},
     "execution_count": 10
    }
   ],
   "source": [
    "sample[-100:].sum(axis=0)/100"
   ]
  },
  {
   "cell_type": "code",
   "execution_count": null,
   "metadata": {},
   "outputs": [],
   "source": []
  }
 ]
}