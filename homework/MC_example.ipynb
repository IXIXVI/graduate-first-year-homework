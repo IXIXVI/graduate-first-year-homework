{
 "metadata": {
  "language_info": {
   "codemirror_mode": {
    "name": "ipython",
    "version": 3
   },
   "file_extension": ".py",
   "mimetype": "text/x-python",
   "name": "python",
   "nbconvert_exporter": "python",
   "pygments_lexer": "ipython3",
   "version": "3.7.6-final"
  },
  "orig_nbformat": 2,
  "kernelspec": {
   "name": "python3",
   "display_name": "Python 3"
  }
 },
 "nbformat": 4,
 "nbformat_minor": 2,
 "cells": [
  {
   "cell_type": "code",
   "execution_count": 1,
   "metadata": {},
   "outputs": [],
   "source": [
    "import numpy as np\n",
    "import math"
   ]
  },
  {
   "cell_type": "code",
   "execution_count": 2,
   "metadata": {},
   "outputs": [],
   "source": [
    "aa=np.zeros((10000,20),int)"
   ]
  },
  {
   "cell_type": "code",
   "execution_count": 3,
   "metadata": {},
   "outputs": [],
   "source": [
    "def I(x):\n",
    "    c=np.random.uniform()\n",
    "    if x<=c:\n",
    "        return -1\n",
    "    else:\n",
    "        return 1\n"
   ]
  },
  {
   "cell_type": "code",
   "execution_count": 4,
   "metadata": {},
   "outputs": [],
   "source": [
    "for i in range(10000):\n",
    "    for j in range(1,20):\n",
    "        aa[i][j]=aa[i][j-1]+I(0.5)\n",
    "        if aa[i][j]<-10 or aa[i][j]>10:\n",
    "            aa[i][19]=100\n",
    "            break"
   ]
  },
  {
   "cell_type": "code",
   "execution_count": 5,
   "metadata": {},
   "outputs": [],
   "source": [
    "num=0\n",
    "for i in range(0,10000):\n",
    "    if aa[i][19]==100:\n",
    "        num+=1"
   ]
  },
  {
   "cell_type": "code",
   "execution_count": 6,
   "metadata": {},
   "outputs": [
    {
     "output_type": "execute_result",
     "data": {
      "text/plain": [
       "0.9744"
      ]
     },
     "metadata": {},
     "execution_count": 6
    }
   ],
   "source": [
    "1-(num/10000)"
   ]
  },
  {
   "cell_type": "code",
   "execution_count": 7,
   "metadata": {},
   "outputs": [],
   "source": [
    "#n！：factorial\n",
    "def fa(n):\n",
    "    if n==2:\n",
    "        return 2\n",
    "    else:\n",
    "        return n*fa(n-1)\n",
    "#排列组合\n",
    "def c(n,m):\n",
    "    x=fa(n)/(fa(m)*fa(n-m))\n",
    "    return x"
   ]
  },
  {
   "cell_type": "code",
   "execution_count": 8,
   "metadata": {},
   "outputs": [
    {
     "output_type": "execute_result",
     "data": {
      "text/plain": [
       "0.9642791748046875"
      ]
     },
     "metadata": {},
     "execution_count": 8
    }
   ],
   "source": [
    "a=2*(np.power(0.5,11)+13*np.power(0.5,13)+c(15,2)*np.power(0.5,15)+c(17,3)*np.power(0.5,17)+c(19,4)*np.power(0.5,19))\n",
    "1-a"
   ]
  },
  {
   "cell_type": "code",
   "execution_count": null,
   "metadata": {},
   "outputs": [],
   "source": []
  }
 ]
}