{
 "metadata": {
  "language_info": {
   "codemirror_mode": {
    "name": "ipython",
    "version": 3
   },
   "file_extension": ".py",
   "mimetype": "text/x-python",
   "name": "python",
   "nbconvert_exporter": "python",
   "pygments_lexer": "ipython3",
   "version": "3.7.6-final"
  },
  "orig_nbformat": 2,
  "kernelspec": {
   "name": "python3",
   "display_name": "Python 3"
  }
 },
 "nbformat": 4,
 "nbformat_minor": 2,
 "cells": [
  {
   "cell_type": "code",
   "execution_count": 1,
   "metadata": {},
   "outputs": [],
   "source": [
    "import numpy as np\n",
    "from math import log\n",
    "import time"
   ]
  },
  {
   "cell_type": "code",
   "execution_count": 2,
   "metadata": {},
   "outputs": [],
   "source": [
    "start = time.time()\n",
    "num=10000#训练集样本数\n",
    "d1=1000#测试集样本数\n",
    "d2=0#测试集样本中判断正确个数的初值\n",
    "d3=20#（0,1）间分为几份\n",
    "X=[[0.3,0.7],[0.7,0.3]]#两正态分布的中心"
   ]
  },
  {
   "cell_type": "code",
   "execution_count": 3,
   "metadata": {},
   "outputs": [],
   "source": [
    "#坐标转换\n",
    "def cf(i):\n",
    "    c=np.floor(i*d3)+1\n",
    "    #这里x1/x2都分为20类，否则需分类定义\n",
    "    return c"
   ]
  },
  {
   "cell_type": "code",
   "execution_count": 4,
   "metadata": {},
   "outputs": [],
   "source": [
    "#生成训练集,第一列为类别，第二列为第一个特征，第三列为第二个特征\n",
    "aa=np.empty((num,3))\n",
    "for i in range(0,int(0.6*num)):\n",
    "    aa[i][0]=0\n",
    "    aa[i][1]=cf(np.random.normal(0.3,np.sqrt(0.4)))\n",
    "    aa[i][2]=cf(np.random.normal(0.7,np.sqrt(0.4)))\n",
    "\n",
    "for i in range(int(0.6*num),num):\n",
    "    aa[i][0]=1\n",
    "    aa[i][1]=cf(np.random.normal(0.7,np.sqrt(0.4)))\n",
    "    aa[i][2]=cf(np.random.normal(0.3,np.sqrt(0.4)))"
   ]
  },
  {
   "cell_type": "code",
   "execution_count": 5,
   "metadata": {},
   "outputs": [],
   "source": [
    "#得到了压缩后的训练集，包含了训练决策树算法需要的所有信息\n",
    "#截取0到1的压缩训练集数据，并将数据到这400个格子中\n",
    "#bb[j][k][0]表示第j行第k列中类0的数目，bb[j][k][1]表示第j行第k列中类1的数目\n",
    "bb=np.zeros((d3,d3,2))\n",
    "#（0,1）内总样本数c1\n",
    "c1=0\n",
    "for i in range(num):\n",
    "    if aa[i][1]>0 and aa[i][1]<=d3 and aa[i][2]>0 and aa[i][2]<=d3 :\n",
    "        c1+=1\n",
    "        j=int(aa[i][1])-1\n",
    "        k=int(aa[i][2])-1\n",
    "        if aa[i][0]==0:\n",
    "            bb[j][k][0]+=1\n",
    "        else:\n",
    "            bb[j][k][1]+=1"
   ]
  },
  {
   "cell_type": "code",
   "execution_count": 6,
   "metadata": {},
   "outputs": [],
   "source": [
    "cc=np.zeros((20,2))\n",
    "for i in range(20):\n",
    "    cc[i][0]=bb[:,i,0].sum()\n",
    "    cc[i][1]=bb[:,i,1].sum()\n",
    "\n",
    "dd=np.zeros((20,2))\n",
    "for i in range(20):\n",
    "    dd[i][0]=bb[i,:,0].sum()\n",
    "    dd[i][1]=bb[i,:,1].sum()\n"
   ]
  },
  {
   "cell_type": "code",
   "execution_count": 7,
   "metadata": {},
   "outputs": [
    {
     "output_type": "execute_result",
     "data": {
      "text/plain": [
       "0.6624024241288493"
      ]
     },
     "metadata": {},
     "execution_count": 7
    }
   ],
   "source": [
    "#根节点的熵为0.684\n",
    "def prop(x,y):\n",
    "    #定义一个计算x中y类样本说占比例\n",
    "    d=(x[:,:,y].sum())/c1\n",
    "    #d=(sum(sum(x[:,:,y])))/c1\n",
    "    return d\n",
    "\n",
    "bbentropy=-(prop(bb,1)*log(prop(bb,1))+prop(bb,0)*log(prop(bb,0)))\n",
    "bbentropy"
   ]
  },
  {
   "cell_type": "code",
   "execution_count": 8,
   "metadata": {},
   "outputs": [],
   "source": [
    "#按行或列(y=0或1)划分后,第z类样本中第z类(20类)所占比例Di/D\n",
    "def prop1(y,z):\n",
    "    if y==0:\n",
    "        return cc[z].sum()/c1\n",
    "    if y==1:\n",
    "        return dd[z].sum()/c1\n",
    "#H(Di),y为类别，z为i\n",
    "def entropy1(y,z):\n",
    "    if y==0:\n",
    "        return -((cc[z][0]/cc[z].sum())*log(cc[z][0]/cc[z].sum())+(cc[z][1]/cc[z].sum())*log(cc[z][1]/cc[z].sum()))\n",
    "    else:\n",
    "        return -((dd[z][0]/dd[z].sum())*log(dd[z][0]/dd[z].sum())+(dd[z][1]/dd[z].sum())*log(dd[z][1]/dd[z].sum()))"
   ]
  },
  {
   "cell_type": "code",
   "execution_count": 9,
   "metadata": {},
   "outputs": [],
   "source": [
    "#定义条件熵，类别y=0或1\n",
    "def entropy2(y):\n",
    "    b=0\n",
    "    for z in range(20):\n",
    "        b+=prop1(y,z)*entropy1(y,z)\n",
    "    return b\n"
   ]
  },
  {
   "cell_type": "code",
   "execution_count": 10,
   "metadata": {},
   "outputs": [
    {
     "output_type": "execute_result",
     "data": {
      "text/plain": [
       "False"
      ]
     },
     "metadata": {},
     "execution_count": 10
    }
   ],
   "source": [
    "#FALSE代表用横坐标划分后的条件熵比用纵坐标划分后的条件熵大，先用纵坐标划分信息增益大\n",
    "#True代表用横坐标划分后的条件熵比用纵坐标划分后的条件熵小，先用横坐标划分信息增益大\n",
    "entropy2(1)>entropy2(0)"
   ]
  },
  {
   "cell_type": "code",
   "execution_count": 11,
   "metadata": {},
   "outputs": [],
   "source": [
    "def I(c):\n",
    "    n=np.random.uniform()\n",
    "    if c<=n:\n",
    "        return 0\n",
    "    else:\n",
    "        return 1\n",
    "#生成测试集\n",
    "ee=np.empty((d1,3),int)\n",
    "for i in range(d1):\n",
    "    #cc[i][0]=i+1#cc[i]的序号\n",
    "    ee[i][0]=I(0.4)#cc[i]的真实类\n",
    "    a=int(ee[i][0])\n",
    "    ee[i][1]=cf(np.random.normal(X[a][0],np.sqrt(0.4)))\n",
    "    ee[i][2]=cf(np.random.normal(X[a][1],np.sqrt(0.4)))"
   ]
  },
  {
   "cell_type": "code",
   "execution_count": 12,
   "metadata": {},
   "outputs": [],
   "source": [
    "#裁剪测试集\n",
    "ff=[]\n",
    "for i in range(d1):\n",
    "    if ee[i][1]>0 and ee[i][1]<=d3 and ee[i][2]>0 and ee[i][2]<=d3:\n",
    "        ff.append(ee[i])\n",
    "ff=np.array(ff,int)"
   ]
  },
  {
   "cell_type": "code",
   "execution_count": 13,
   "metadata": {},
   "outputs": [],
   "source": [
    "#决策树的叶结点\n",
    "gg=np.empty((d3,d3))\n",
    "k=0\n",
    "for i in range(d3):\n",
    "    for j in range(d3): \n",
    "        if bb[i][j][0]>=bb[i][j][1]:\n",
    "            gg[i][j]=0\n",
    "            k+=1\n",
    "        else:\n",
    "            gg[i][j]=1"
   ]
  },
  {
   "cell_type": "code",
   "execution_count": 14,
   "metadata": {},
   "outputs": [
    {
     "output_type": "execute_result",
     "data": {
      "text/plain": [
       "0.6236933797909407"
      ]
     },
     "metadata": {},
     "execution_count": 14
    }
   ],
   "source": [
    "su=0\n",
    "for i in range(len(ff)):\n",
    "    if ff[i][0]==gg[ff[i][1]-1,ff[i][2]-1]:\n",
    "        su+=1\n",
    "su/len(ff)\n"
   ]
  }
 ]
}