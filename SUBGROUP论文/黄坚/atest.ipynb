{
 "cells": [
  {
   "cell_type": "code",
   "execution_count": 11,
   "metadata": {},
   "outputs": [],
   "source": [
    "import numpy as np"
   ]
  },
  {
   "cell_type": "code",
   "execution_count": null,
   "metadata": {},
   "outputs": [],
   "source": [
    "nsim=100\n",
    "n=100\n",
    "dx=5"
   ]
  },
  {
   "cell_type": "code",
   "execution_count": null,
   "metadata": {},
   "outputs": [],
   "source": [
    "sampleY=np.load('sampleY.npy')\n",
    "sampleX=np.load('sampleX.npy')"
   ]
  },
  {
   "cell_type": "code",
   "execution_count": 39,
   "metadata": {},
   "outputs": [
    {
     "data": {
      "text/plain": [
       "array([0.95789474, 0.91578947, 0.87368421, 0.83157895, 0.78947368,\n",
       "       0.74736842, 0.70526316, 0.66315789, 0.62105263, 0.57894737,\n",
       "       0.53684211, 0.49473684, 0.45263158, 0.41052632, 0.36842105,\n",
       "       0.32631579, 0.28421053, 0.24210526, 0.2       ])"
      ]
     },
     "execution_count": 39,
     "metadata": {},
     "output_type": "execute_result"
    }
   ],
   "source": [
    "a=np.arange(0.2,1,0.8/19)[::-1]\n",
    "a"
   ]
  },
  {
   "cell_type": "code",
   "execution_count": 17,
   "metadata": {},
   "outputs": [
    {
     "data": {
      "text/plain": [
       "array([0.2 , 0.24, 0.28, 0.32, 0.36, 0.4 , 0.44, 0.48, 0.52, 0.56, 0.6 ,\n",
       "       0.64, 0.68, 0.72, 0.76, 0.8 , 0.84, 0.88, 0.92, 0.96])"
      ]
     },
     "execution_count": 17,
     "metadata": {},
     "output_type": "execute_result"
    }
   ],
   "source": [
    "np.arange()"
   ]
  },
  {
   "cell_type": "code",
   "execution_count": 2,
   "metadata": {},
   "outputs": [
    {
     "ename": "TypeError",
     "evalue": "'float' object cannot be interpreted as an integer",
     "output_type": "error",
     "traceback": [
      "\u001b[1;31m---------------------------------------------------------------------------\u001b[0m",
      "\u001b[1;31mTypeError\u001b[0m                                 Traceback (most recent call last)",
      "\u001b[1;32m<ipython-input-2-0d3e9532bdc5>\u001b[0m in \u001b[0;36m<module>\u001b[1;34m\u001b[0m\n\u001b[0;32m      1\u001b[0m \u001b[0mlamU\u001b[0m\u001b[1;33m=\u001b[0m\u001b[1;36m0.2\u001b[0m\u001b[1;33m\u001b[0m\u001b[1;33m\u001b[0m\u001b[0m\n\u001b[0;32m      2\u001b[0m \u001b[0mlamL\u001b[0m\u001b[1;33m=\u001b[0m\u001b[1;36m1\u001b[0m\u001b[1;33m\u001b[0m\u001b[1;33m\u001b[0m\u001b[0m\n\u001b[1;32m----> 3\u001b[1;33m \u001b[0mlams\u001b[0m\u001b[1;33m=\u001b[0m\u001b[0mrange\u001b[0m\u001b[1;33m(\u001b[0m\u001b[0mlamL\u001b[0m\u001b[1;33m,\u001b[0m\u001b[0mlamU\u001b[0m\u001b[1;33m,\u001b[0m\u001b[1;36m20\u001b[0m\u001b[1;33m)\u001b[0m\u001b[1;33m\u001b[0m\u001b[1;33m\u001b[0m\u001b[0m\n\u001b[0m",
      "\u001b[1;31mTypeError\u001b[0m: 'float' object cannot be interpreted as an integer"
     ]
    }
   ],
   "source": [
    "lamU=0.2\n",
    "lamL=1\n",
    "lams=range(lamL,lamU,20)"
   ]
  },
  {
   "cell_type": "code",
   "execution_count": null,
   "metadata": {},
   "outputs": [],
   "source": [
    "def lamoptimal(x,y,n,varth,gam,al,ph):\n",
    "    lamU=0.2\n",
    "    lamL=1\n",
    "    lams=seq(lamL,lamU,length=20)\n",
    "    ss=length(lams)\n",
    "    BIC1=seq(-1,-1,length=ss)\n",
    "    BIC2=seq(-1,-1,length=ss)\n",
    "    GCV=seq(-1,-1,length=ss)\n",
    "    deg=seq(-1,-1,length=ss)\n",
    "        Qnn=seq(-1,-1,length=ss)\n",
    "    for(i in 1:ss){\n",
    "        lam=lams[i]\n",
    "        result=estimation(x,y,n,lam,varth,gam,al,ph,alphatrue)\n",
    "        muhat=result[[2]]\n",
    "            K=result[[1]]\n",
    "            betahat=result[[3]]\n",
    "            etahat=result[[4]]\n",
    "            group=result[[5]]\n",
    "            delta=result[[6]]\n",
    "            df=K+ncol(x)\n",
    "           # dff=degree(x,y,n,lam,varth,gam,al,ph,K,muhat,betahat,etahat,group,delta)\n",
    "           # df=dff[[1]]\n",
    "            deg[i]=df\n",
    "            # Phat=matrix(0,nrow=n,ncol=K)\n",
    "            # group=group[,1:K]\n",
    "            #group=as.matrix(group)\n",
    "            # for(i in 1:K){\n",
    "            # gi=group[,i]\n",
    "            # gi=gi[which(gi!=0)]\n",
    "            #  Phat[gi,i]=1\n",
    "           #   }\n",
    "           # Pr=cbind(Phat,x)\n",
    "           #  thetahat=solve(t(Pr)%*%Pr)%*%t(Pr)%*%y\n",
    "           #  muhat=thetahat[1:ncol(Phat)]\n",
    "           #  betahat=thetahat[(1+ncol(Phat)):ncol(Pr)]\n",
    "           #  muhat=Phat%*%muhat\n",
    "            Qn=t(y-muhat-x%*%betahat)%*%(y-muhat-x%*%betahat)/n\n",
    "            Qn=Qn[1,1]\n",
    "            Qnn[i]=Qn\n",
    "            yhat=muhat+x%*%betahat\n",
    "\t\tBIC1[i]=log(Qn)+10*log(log(n+ncol(x)))*log(n)*df/n\n",
    "            BIC2[i]=log(Qn)+log(n)*df/n\n",
    "            GCV[i]=Qn/(1-df/n)^2\n",
    "\n",
    "\t}\n",
    "\t\n",
    "\tlam=lams[min(which(BIC1==min(BIC1)))]\n",
    "\n",
    "       #lam=lams[min(which(GCV==min(GCV)))]\n",
    "\t\n",
    "\t    return(list(lam,BIC))"
   ]
  }
 ],
 "metadata": {
  "interpreter": {
   "hash": "b3ba2566441a7c06988d0923437866b63cedc61552a5af99d1f4fb67d367b25f"
  },
  "kernelspec": {
   "display_name": "Python 3.8.5 64-bit ('base': conda)",
   "language": "python",
   "name": "python3"
  },
  "language_info": {
   "codemirror_mode": {
    "name": "ipython",
    "version": 3
   },
   "file_extension": ".py",
   "mimetype": "text/x-python",
   "name": "python",
   "nbconvert_exporter": "python",
   "pygments_lexer": "ipython3",
   "version": "3.8.5"
  },
  "orig_nbformat": 4
 },
 "nbformat": 4,
 "nbformat_minor": 2
}
