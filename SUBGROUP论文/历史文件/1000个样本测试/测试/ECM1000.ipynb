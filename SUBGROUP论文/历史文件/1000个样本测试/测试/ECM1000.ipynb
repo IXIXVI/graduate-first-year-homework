{
 "cells": [
  {
   "cell_type": "code",
   "execution_count": 30,
   "metadata": {},
   "outputs": [],
   "source": [
    "import numpy as np\n",
    "from sklearn.linear_model import LinearRegression\n",
    "import matplotlib.pyplot as plt"
   ]
  },
  {
   "cell_type": "code",
   "execution_count": 2,
   "metadata": {},
   "outputs": [],
   "source": [
    "weight=[0.2,0.4,0.4]\n",
    "mean=[-2.5,0,3]\n",
    "covs=[1,0.7,1]#标准差\n",
    "Theta=np.array([weight,mean,covs])"
   ]
  },
  {
   "cell_type": "code",
   "execution_count": 3,
   "metadata": {},
   "outputs": [],
   "source": [
    "N=500\n",
    "M=3\n",
    "P=2\n",
    "weight0=[1/3,1/3,1/3]\n",
    "mean0=[-2,0,2]\n",
    "#分位数定均值初值\n",
    "covs0=[1,1,1]\n",
    "theta0=np.array([weight0,mean0,covs0])"
   ]
  },
  {
   "cell_type": "markdown",
   "metadata": {},
   "source": [
    "# 定义函数"
   ]
  },
  {
   "cell_type": "code",
   "execution_count": 4,
   "metadata": {},
   "outputs": [],
   "source": [
    "def Beta0(X,Y):\n",
    "    model = LinearRegression() # 构建线性模型\n",
    "    model.fit(X, Y) # 自变量在前，因变量在后\n",
    "    beta0 = model.coef_ # 斜率\n",
    "    return beta0"
   ]
  },
  {
   "cell_type": "code",
   "execution_count": 5,
   "metadata": {},
   "outputs": [],
   "source": [
    "def normal(x,theta):\n",
    "    mu=theta[0]\n",
    "    s=theta[1]#标准差\n",
    "    result=(1/(np.sqrt(2*np.pi)*s))*np.exp(-1*(x-mu)**2/(2*s**2))\n",
    "    return result\n",
    "\n",
    "def mixnormal(x,theta):\n",
    "    m=theta.shape[1]\n",
    "    result=0\n",
    "    for i in range(m):\n",
    "        result+=theta[0,i]*normal(x,theta[1:,i])\n",
    "    return result\n",
    "\n",
    "def Lih(X,theta):\n",
    "    num=X.shape[0]\n",
    "    C=theta.shape[1]\n",
    "    Ga=np.zeros((num,C))\n",
    "    c=np.zeros(C)\n",
    "\n",
    "    for j in range(num):#响应度\n",
    "        for k in range(C):\n",
    "            c[k]=theta[0,k]*normal(X[j],theta[1:,k])\n",
    "        Ga[j]=c/np.sum(c)\n",
    "\n",
    "    return Ga"
   ]
  },
  {
   "cell_type": "code",
   "execution_count": 6,
   "metadata": {},
   "outputs": [],
   "source": [
    "def ECM(Xs,Y,betaold,thetaold):\n",
    "    P=Xs.shape[1]\n",
    "    num=Xs.shape[0]\n",
    "    data=Y-np.dot(Xs,betaold.T)\n",
    "    L0=Lih(data,thetaold)\n",
    "    C=thetaold.shape[1]\n",
    "    d=np.zeros(C)\n",
    "    thetanext=np.zeros((3,C))\n",
    "\n",
    "    ai=np.zeros(num)\n",
    "    bi=np.zeros(num)\n",
    "    xnew=np.zeros((num,P))\n",
    "    for i in range (num):\n",
    "        for h in range(C):\n",
    "            bi[i]+=(L0[i,h])/((thetaold[2,h])**2)\n",
    "            ai[i]+=((L0[i,h])*((Y[i]-thetaold[1,h])))/((thetaold[2,h])**2)\n",
    "        xnew[i]=Xs[i]*bi[i]\n",
    "    betanew=np.dot(np.dot(np.linalg.inv(np.dot(xnew.T,Xs)),Xs.T),ai)\n",
    "\n",
    "    datanew=Y-np.dot(Xs,betanew.T)\n",
    "    for k in range(C):#更新参数\n",
    "        d[k]=np.sum(L0[:,k])\n",
    "        thetanext[0,k]=d[k]/num\n",
    "        thetanext[1,k]=np.dot(L0[:,k],datanew[:])/d[k]\n",
    "        thetanext[2,k]=np.sqrt((np.dot(L0[:,k],(datanew[:]-thetanext[1,k])**2))/(d[k]))#标准差\n",
    "\n",
    "    return betanew,thetanext\n"
   ]
  },
  {
   "cell_type": "code",
   "execution_count": 7,
   "metadata": {},
   "outputs": [],
   "source": [
    "def pl0(Xs,Y,beta,theta):\n",
    "    n=Xs.shape[0]\n",
    "    y=np.zeros(n)\n",
    "\n",
    "    for i in range(n):\n",
    "        a=Y[i]-np.dot(Xs[i],beta)\n",
    "        y[i]=np.log(mixnormal(a,theta))\n",
    "    z=np.sum(y)\n",
    "    return z"
   ]
  },
  {
   "cell_type": "code",
   "execution_count": 8,
   "metadata": {},
   "outputs": [],
   "source": [
    "def iterECM(Xs,Y,theta0,N=100,stopbyN= False,ε=0.0005,stopbyL=False):\n",
    "    beta0=Beta0(Xs,Y)\n",
    "    T0=[beta0,theta0]\n",
    "    exitflag=False\n",
    "    if stopbyN == True:\n",
    "        for k in range(N):\n",
    "            a=T0\n",
    "            T0=ECM(Xs,Y,T0[0],T0[1])\n",
    "\n",
    "\n",
    "    else:\n",
    "        if stopbyL==False:\n",
    "            for l in range(N):\n",
    "                if exitflag == True:\n",
    "                    break\n",
    "                a=T0\n",
    "                T0=ECM(Xs,Y,T0[0],T0[1])\n",
    "                for i in range (3):\n",
    "                    if exitflag == True:\n",
    "                        break\n",
    "                    for j in range(M):\n",
    "                        if exitflag == True:\n",
    "                            break\n",
    "                        b=np.abs(T0[1][i][j]-a[1][i][j])/(np.abs(a[1][i][j])+ε/5) \n",
    "                        if b<= ε:\n",
    "                            exitflag = True\n",
    "\n",
    "        else:\n",
    "            for l in range(N):\n",
    "                if exitflag == True:\n",
    "                    break\n",
    "                a=T0\n",
    "                T0=ECM(Xs,Y,T0[0],T0[1])\n",
    "                for i in range (3):\n",
    "                    if exitflag == True:\n",
    "                        break\n",
    "                    for j in range(M):\n",
    "                        if exitflag == True:\n",
    "                            break\n",
    "                        b=np.abs(T0[1][i][j]-a[1][i][j])/(np.abs(a[1][i][j])+ε/5) \n",
    "                        if b<= ε:\n",
    "                            exitflag = True\n",
    "\n",
    "\n",
    "    return T0,l"
   ]
  },
  {
   "cell_type": "markdown",
   "metadata": {},
   "source": [
    "# 1000次循环"
   ]
  },
  {
   "cell_type": "code",
   "execution_count": 9,
   "metadata": {},
   "outputs": [],
   "source": [
    "X=np.loadtxt('C:\\\\Users\\\\Administrator\\\\Desktop\\\\test\\\\SUBGROUP论文\\\\1000个样本测试\\\\样本生成\\\\X.csv', delimiter = ',')"
   ]
  },
  {
   "cell_type": "code",
   "execution_count": 10,
   "metadata": {},
   "outputs": [],
   "source": [
    "Y=np.loadtxt('C:\\\\Users\\\\Administrator\\\\Desktop\\\\test\\\\SUBGROUP论文\\\\1000个样本测试\\样本生成\\\\Y1000.csv', delimiter = ',')"
   ]
  },
  {
   "cell_type": "code",
   "execution_count": 11,
   "metadata": {},
   "outputs": [
    {
     "data": {
      "text/plain": [
       "array([[ 0.2,  0.4,  0.4],\n",
       "       [-2.5,  0. ,  3. ],\n",
       "       [ 1. ,  0.7,  1. ]])"
      ]
     },
     "execution_count": 11,
     "metadata": {},
     "output_type": "execute_result"
    }
   ],
   "source": [
    "Theta"
   ]
  },
  {
   "cell_type": "code",
   "execution_count": 12,
   "metadata": {},
   "outputs": [],
   "source": [
    "times=1000\n",
    "Betares=np.zeros((times,P))\n",
    "Thetares=np.zeros((times,3,M))\n",
    "for q in range(times):\n",
    "    res=iterECM(X,Y[:,q],theta0,N=100,stopbyN= False,ε=0.0005)\n",
    "    Betares[q]=res[0][0]\n",
    "    Thetares[q]=res[0][1]"
   ]
  },
  {
   "cell_type": "markdown",
   "metadata": {},
   "source": [
    "np.savetxt('Betares.csv',Betares,delimiter=',')\n",
    "np.save('Thetares.npy',Thetares)"
   ]
  },
  {
   "cell_type": "code",
   "execution_count": 15,
   "metadata": {},
   "outputs": [],
   "source": [
    "np.savetxt('Betares.csv',Betares,delimiter=',')\n",
    "np.save('Thetares.npy',Thetares)"
   ]
  },
  {
   "cell_type": "code",
   "execution_count": 21,
   "metadata": {},
   "outputs": [
    {
     "data": {
      "text/plain": [
       "array([[ 0.24381095,  0.33137673,  0.42481232],\n",
       "       [-2.23182611,  0.0218166 ,  2.873576  ],\n",
       "       [ 1.16031303,  0.68290093,  1.01103626]])"
      ]
     },
     "execution_count": 21,
     "metadata": {},
     "output_type": "execute_result"
    }
   ],
   "source": [
    "Thetares[0]"
   ]
  },
  {
   "cell_type": "code",
   "execution_count": 17,
   "metadata": {},
   "outputs": [
    {
     "data": {
      "text/plain": [
       "array([0.62439079, 2.03485024])"
      ]
     },
     "execution_count": 17,
     "metadata": {},
     "output_type": "execute_result"
    }
   ],
   "source": [
    "X[0]"
   ]
  },
  {
   "cell_type": "code",
   "execution_count": 18,
   "metadata": {},
   "outputs": [],
   "source": [
    "data=np.zeros((500,1000))\n",
    "for i in range(500):\n",
    "    for j in range(1000):\n",
    "        data[i,j]=Y[i,j]-np.dot(X[i],Betares[i])"
   ]
  },
  {
   "cell_type": "code",
   "execution_count": null,
   "metadata": {},
   "outputs": [],
   "source": [
    "np.savetxt('data.csv',data,delimiter=',')"
   ]
  },
  {
   "cell_type": "code",
   "execution_count": 23,
   "metadata": {},
   "outputs": [],
   "source": [
    "group=np.zeros((1000,500,3))\n",
    "for i in range(1000):\n",
    "    group[i]=Lih(data[:,i],Thetares[i])"
   ]
  },
  {
   "cell_type": "code",
   "execution_count": 29,
   "metadata": {},
   "outputs": [],
   "source": [
    "np.save('group',group)"
   ]
  },
  {
   "cell_type": "code",
   "execution_count": 31,
   "metadata": {},
   "outputs": [
    {
     "data": {
      "image/png": "[encoded data removed]",
      "text/plain": [
       "<Figure size 432x288 with 1 Axes>"
      ]
     },
     "metadata": {
      "needs_background": "light"
     },
     "output_type": "display_data"
    }
   ],
   "source": [
    "xnum = np.linspace(-5,5,2000) # 从0到1，等分50分\n",
    "high = mixnormal(xnum,Theta)\n",
    "z1 = weight[0]*normal(xnum,Theta[1:,0])\n",
    "z2 = weight[1]*normal(xnum,Theta[1:,1])\n",
    "z3 = weight[2]*normal(xnum,Theta[1:,2])\n",
    "plt.figure() # 定义一个图像窗口\n",
    "plt.plot(xnum,high) # 绘制曲线 y\n",
    "plt.plot(xnum,z1,linestyle='--')\n",
    "plt.plot(xnum,z2,linestyle='--')\n",
    "plt.plot(xnum,z3,linestyle='--')\n",
    "plt.legend(['y','z1','z2','z3',])\n",
    "plt.show()"
   ]
  },
  {
   "cell_type": "code",
   "execution_count": 35,
   "metadata": {},
   "outputs": [
    {
     "data": {
      "image/png": "[encoded data removed]",
      "text/plain": [
       "<Figure size 720x360 with 1 Axes>"
      ]
     },
     "metadata": {
      "needs_background": "light"
     },
     "output_type": "display_data"
    }
   ],
   "source": [
    "data0=data[:,0]\n",
    "\n",
    "fig = plt.figure(figsize=(10,5))\n",
    "ax1 = fig.add_subplot()\n",
    "ax1.hist(data0, bins=40,  facecolor=\"blue\", edgecolor=\"black\", alpha=0.7)\n",
    "plt.show()"
   ]
  }
 ],
 "metadata": {
  "interpreter": {
   "hash": "b3ba2566441a7c06988d0923437866b63cedc61552a5af99d1f4fb67d367b25f"
  },
  "kernelspec": {
   "display_name": "Python 3.8.5 64-bit ('base': conda)",
   "name": "python3"
  },
  "language_info": {
   "codemirror_mode": {
    "name": "ipython",
    "version": 3
   },
   "file_extension": ".py",
   "mimetype": "text/x-python",
   "name": "python",
   "nbconvert_exporter": "python",
   "pygments_lexer": "ipython3",
   "version": "3.8.5"
  },
  "orig_nbformat": 4
 },
 "nbformat": 4,
 "nbformat_minor": 2
}
