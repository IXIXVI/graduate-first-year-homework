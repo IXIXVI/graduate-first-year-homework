{
 "cells": [
  {
   "cell_type": "code",
   "execution_count": 1,
   "metadata": {},
   "outputs": [],
   "source": [
    "import numpy as np\n",
    "import matplotlib.pyplot as plt"
   ]
  },
  {
   "cell_type": "code",
   "execution_count": 2,
   "metadata": {},
   "outputs": [],
   "source": [
    "K=3\n",
    "num=600\n",
    "weight=[0.2,0.3,0.5]\n",
    "mean=[-10,0,5]\n",
    "covs=[2,1,1]#标准差\n",
    "Theta=np.array([weight,mean,covs])"
   ]
  },
  {
   "cell_type": "code",
   "execution_count": 3,
   "metadata": {},
   "outputs": [],
   "source": [
    "a=int(weight[0]*num)\n",
    "b=int((weight[0]+weight[1])*num)"
   ]
  },
  {
   "cell_type": "code",
   "execution_count": 4,
   "metadata": {},
   "outputs": [],
   "source": [
    "np.random.seed(123)\n",
    "bb=np.zeros(num)"
   ]
  },
  {
   "cell_type": "code",
   "execution_count": 5,
   "metadata": {},
   "outputs": [],
   "source": [
    "for i in range(a):\n",
    "    bb[i]=np.random.normal(mean[0],covs[0])\n",
    "for i in range(a,b):\n",
    "    bb[i]=np.random.normal(mean[1],covs[1])\n",
    "for i in range(b,num):\n",
    "    bb[i]=np.random.normal(mean[2],covs[2])"
   ]
  },
  {
   "cell_type": "code",
   "execution_count": 6,
   "metadata": {},
   "outputs": [
    {
     "data": {
      "text/plain": [
       "(array([ 4.,  9., 24., 37., 60., 68., 44., 32., 19.,  3.]),\n",
       " array([2.21188712, 2.74668343, 3.28147974, 3.81627605, 4.35107236,\n",
       "        4.88586867, 5.42066499, 5.9554613 , 6.49025761, 7.02505392,\n",
       "        7.55985023]),\n",
       " <BarContainer object of 10 artists>)"
      ]
     },
     "execution_count": 6,
     "metadata": {},
     "output_type": "execute_result"
    },
    {
     "data": {
      "image/png": "[encoded data removed]",
      "text/plain": [
       "<Figure size 432x288 with 1 Axes>"
      ]
     },
     "metadata": {
      "needs_background": "light"
     },
     "output_type": "display_data"
    }
   ],
   "source": [
    "plt.hist(bb[0:a], bins=10,  facecolor=\"blue\", edgecolor=\"black\", alpha=0.7)\n",
    "plt.hist(bb[a:b], bins=10,  facecolor=\"red\", edgecolor=\"black\", alpha=0.7)\n",
    "plt.hist(bb[b:num], bins=10, facecolor=\"green\", edgecolor=\"black\", alpha=0.7)"
   ]
  },
  {
   "cell_type": "code",
   "execution_count": 7,
   "metadata": {},
   "outputs": [],
   "source": [
    "def normal(x,theta):\n",
    "    mu=theta[0]\n",
    "    s=theta[1]#标准差\n",
    "    result=(1/(np.sqrt(2*np.pi)*s))*np.exp(-1*(x-mu)*(x-mu)/(2*s**2))\n",
    "    return result"
   ]
  },
  {
   "cell_type": "code",
   "execution_count": 8,
   "metadata": {},
   "outputs": [
    {
     "data": {
      "text/plain": [
       "'\\ndef normal(x,theta):\\n    mu=theta[0]\\n    s=theta[1]#标准差\\n    result=(1/np.sqrt(2*np.pi)*s)*np.exp((-1/(2*s**2))*pow(x-mu,2))\\n    return result\\n'"
      ]
     },
     "execution_count": 8,
     "metadata": {},
     "output_type": "execute_result"
    }
   ],
   "source": [
    "'''\n",
    "def normal(x,theta):\n",
    "    mu=theta[0]\n",
    "    s=theta[1]#标准差\n",
    "    result=(1/np.sqrt(2*np.pi)*s)*np.exp((-1/(2*s**2))*pow(x-mu,2))\n",
    "    return result\n",
    "'''"
   ]
  },
  {
   "cell_type": "code",
   "execution_count": null,
   "metadata": {},
   "outputs": [],
   "source": [
    "def EM(X,theta):\n",
    "    num=X.shape[0]\n",
    "    C=theta.shape[1]\n",
    "    Ga=np.zeros((num,C))\n",
    "    c=np.zeros(C)\n",
    "    d=np.zeros(C)\n",
    "    thetanext=np.zeros((3,C))\n",
    "    \n",
    "    for j in range(num):#响应度\n",
    "        for k in range(C):\n",
    "            c[k]=theta[0][k]*normal(X[j],theta[1:,k])\n",
    "        Ga[j]=c/np.sum(c)\n",
    "\n",
    "    for k in range(C):#更新参数\n",
    "        d[k]=np.sum(Ga[:,k])\n",
    "        thetanext[0,k]=d[k]/num\n",
    "        thetanext[1,k]=np.dot(Ga[:,k],X[:])/d[k]\n",
    "        thetanext[2,k]=np.sqrt(np.dot(Ga[:,k],(X[:]-thetanext[1,k])**2)/d[k])#标准差\n",
    "\n",
    "    return thetanext"
   ]
  },
  {
   "cell_type": "code",
   "execution_count": 10,
   "metadata": {},
   "outputs": [],
   "source": [
    "weight0=[0.3,0.4,0.3]\n",
    "mean0=[-5,0,5]\n",
    "covs0=[1,1,1]\n",
    "theta0=np.array([weight0,mean0,covs0])"
   ]
  },
  {
   "cell_type": "code",
   "execution_count": 11,
   "metadata": {},
   "outputs": [],
   "source": [
    "def iterate(X,n,T0):\n",
    "    for i in range (n):\n",
    "        T0=EM(X,T0)\n",
    "        \n",
    "    return T0"
   ]
  },
  {
   "cell_type": "code",
   "execution_count": 12,
   "metadata": {},
   "outputs": [
    {
     "data": {
      "text/plain": [
       "array([[  0.2,   0.3,   0.5],\n",
       "       [-10. ,   0. ,   5. ],\n",
       "       [  2. ,   1. ,   1. ]])"
      ]
     },
     "execution_count": 12,
     "metadata": {},
     "output_type": "execute_result"
    }
   ],
   "source": [
    "Theta"
   ]
  },
  {
   "cell_type": "code",
   "execution_count": 13,
   "metadata": {},
   "outputs": [
    {
     "data": {
      "text/plain": [
       "array([[ 0.20139967,  0.29848105,  0.50011928],\n",
       "       [-9.91952415, -0.04756776,  5.00090401],\n",
       "       [ 2.36385727,  0.90757396,  0.97711144]])"
      ]
     },
     "execution_count": 13,
     "metadata": {},
     "output_type": "execute_result"
    }
   ],
   "source": [
    "iterate(bb,40,theta0)"
   ]
  }
 ],
 "metadata": {
  "interpreter": {
   "hash": "b3ba2566441a7c06988d0923437866b63cedc61552a5af99d1f4fb67d367b25f"
  },
  "kernelspec": {
   "display_name": "Python 3.8.5 64-bit ('base': conda)",
   "name": "python3"
  },
  "language_info": {
   "codemirror_mode": {
    "name": "ipython",
    "version": 3
   },
   "file_extension": ".py",
   "mimetype": "text/x-python",
   "name": "python",
   "nbconvert_exporter": "python",
   "pygments_lexer": "ipython3",
   "version": "3.8.5"
  },
  "orig_nbformat": 2
 },
 "nbformat": 4,
 "nbformat_minor": 2
}
