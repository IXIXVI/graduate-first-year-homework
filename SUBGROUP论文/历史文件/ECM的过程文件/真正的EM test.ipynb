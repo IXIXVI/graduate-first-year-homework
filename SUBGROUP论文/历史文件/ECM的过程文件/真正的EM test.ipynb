{
 "cells": [
  {
   "cell_type": "code",
   "execution_count": 1,
   "metadata": {},
   "outputs": [],
   "source": [
    "import numpy as np\n",
    "import matplotlib.pyplot as plt"
   ]
  },
  {
   "cell_type": "markdown",
   "metadata": {},
   "source": [
    "# 样本"
   ]
  },
  {
   "cell_type": "markdown",
   "metadata": {},
   "source": [
    "## 样本生成\n",
    "用于生成（0,1]间的随机数  \n",
    "缺点：不能很好的控制各亚组的样本数量"
   ]
  },
  {
   "cell_type": "markdown",
   "metadata": {},
   "source": [
    "# H0m=m0 v.s. H1:m>m0 下的参数估计"
   ]
  },
  {
   "cell_type": "code",
   "execution_count": 2,
   "metadata": {},
   "outputs": [],
   "source": [
    "def normal(x,theta):\n",
    "    mu=theta[0]\n",
    "    s=theta[1]#标准差\n",
    "    result=(1/(np.sqrt(2*np.pi)*s))*np.exp(-1*(x-mu)**2/(2*s**2))\n",
    "    return result\n",
    "\n",
    "def mixnormal(x,theta):\n",
    "    m=theta.shape[1]\n",
    "    result=0\n",
    "    for i in range(m):\n",
    "        result+=theta[0,i]*normal(x,theta[1:,i])\n",
    "    return result\n",
    "\n",
    "def Lih(X,theta):\n",
    "    num=X.shape[0]\n",
    "    C=theta.shape[1]\n",
    "    Ga=np.zeros((num,C))\n",
    "    c=np.zeros(C)\n",
    "\n",
    "    for j in range(num):#响应度\n",
    "        for k in range(C):\n",
    "            c[k]=theta[0,k]*normal(X[j],theta[1:,k])\n",
    "        Ga[j]=c/np.sum(c)\n",
    "\n",
    "    return Ga"
   ]
  },
  {
   "cell_type": "code",
   "execution_count": 3,
   "metadata": {},
   "outputs": [],
   "source": [
    "data0=np.loadtxt(\"C:/Users/Administrator/Desktop/a.csv\",delimiter=\",\")"
   ]
  },
  {
   "cell_type": "code",
   "execution_count": 4,
   "metadata": {},
   "outputs": [],
   "source": [
    "Ca=1\n",
    "tp=0.068\n",
    "N=data0.shape[0]"
   ]
  },
  {
   "cell_type": "code",
   "execution_count": 5,
   "metadata": {},
   "outputs": [],
   "source": [
    "def ps(x,y,an=0.25):#对方差的惩罚函数\n",
    "    z=-an*(np.log(x**2/y**2)+(y**2/x**2)-1)\n",
    "    return z\n",
    "\n",
    "def pa(α):#对系数的惩罚函数\n",
    "    z=Ca*np.log(1-abs(1-2*α))\n",
    "    return z"
   ]
  },
  {
   "cell_type": "markdown",
   "metadata": {},
   "source": [
    "## H0下的最大惩罚似然计算"
   ]
  },
  {
   "cell_type": "code",
   "execution_count": 6,
   "metadata": {},
   "outputs": [],
   "source": [
    "'''\n",
    "原假设下的惩罚对数似然,这里只对方差惩罚，不对α惩罚\n",
    "因为H0为m=1时有惩罚似然最大中在α=0.5取到，自然设置α=0.5\n",
    "H0为m=m0>=2时，有充分的理由认为不会发生不可识别问题，即αh(h=1,2,...,m0)不会落在界点上\n",
    "'''\n",
    "def pl0(data,theta,tp):\n",
    "    n=data.shape[0]\n",
    "    m=theta.shape[1]\n",
    "    y=np.zeros(n)\n",
    "    ssvar=np.var(data)\n",
    "    a=0\n",
    "    for h in range(m):\n",
    "        a+=ps(theta[2,h],ssvar,tp)\n",
    "    for i in range(n):\n",
    "        y[i]=np.log(mixnormal(data[i],theta))\n",
    "    z=np.sum(y)+a\n",
    "    return z"
   ]
  },
  {
   "cell_type": "code",
   "execution_count": 7,
   "metadata": {},
   "outputs": [],
   "source": [
    "def ECMforH0(data,thetaold,theta0):\n",
    "    num=data.shape[0]\n",
    "    L0=Lih(data,thetaold)\n",
    "    C=thetaold.shape[1]\n",
    "    d=np.zeros(C)\n",
    "    thetanext=np.zeros((3,C))\n",
    "\n",
    "    datanew=data\n",
    "    for k in range(C):#更新参数\n",
    "        d[k]=np.sum(L0[:,k])\n",
    "        thetanext[0,k]=d[k]/num\n",
    "        thetanext[1,k]=np.dot(L0[:,k],datanew[:])/d[k]\n",
    "        thetanext[2,k]=np.sqrt((np.dot(L0[:,k],(datanew[:]-thetanext[1,k])**2)+2*tp*theta0[2,k])/(d[k]+2*tp))#标准差\n",
    "\n",
    "    return thetanext\n"
   ]
  },
  {
   "cell_type": "code",
   "execution_count": 8,
   "metadata": {},
   "outputs": [],
   "source": [
    "def iterECMforH0(data,theta0,N=1000):\n",
    "    T0=theta0\n",
    "    for i in range(N):\n",
    "        T0=ECMforH0(data,T0,theta0)\n",
    "\n",
    "    return T0,i"
   ]
  },
  {
   "cell_type": "markdown",
   "metadata": {},
   "source": [
    "### 获取H0下的最优估计"
   ]
  },
  {
   "cell_type": "markdown",
   "metadata": {},
   "source": [
    "#### beta的初值"
   ]
  },
  {
   "cell_type": "markdown",
   "metadata": {},
   "source": [
    "#### 其他参数的初值选取"
   ]
  },
  {
   "cell_type": "markdown",
   "metadata": {},
   "source": [
    "#### H0:m=1"
   ]
  },
  {
   "cell_type": "code",
   "execution_count": 9,
   "metadata": {},
   "outputs": [
    {
     "data": {
      "image/png": "[encoded data removed]",
      "text/plain": [
       "<Figure size 720x360 with 1 Axes>"
      ]
     },
     "metadata": {
      "needs_background": "light"
     },
     "output_type": "display_data"
    }
   ],
   "source": [
    "fig = plt.figure(figsize=(10,5))\n",
    "ax1 = fig.add_subplot()\n",
    "ax1.hist(data0, bins=100,  facecolor=\"blue\", edgecolor=\"black\", alpha=0.7)\n",
    "plt.show()"
   ]
  },
  {
   "cell_type": "code",
   "execution_count": 10,
   "metadata": {},
   "outputs": [
    {
     "data": {
      "text/plain": [
       "array([[0.5       ],\n",
       "       [0.26322632],\n",
       "       [0.09831687]])"
      ]
     },
     "execution_count": 10,
     "metadata": {},
     "output_type": "execute_result"
    }
   ],
   "source": [
    "smean=np.mean(data0)\n",
    "sstd=np.std(data0)\n",
    "ssvar=np.var(data0)\n",
    "stheta0=np.array([[0.5],[smean],[sstd]])\n",
    "stheta0#样本均值与样本的标准差"
   ]
  },
  {
   "cell_type": "code",
   "execution_count": 11,
   "metadata": {},
   "outputs": [
    {
     "data": {
      "text/plain": [
       "38.507853786571495"
      ]
     },
     "execution_count": 11,
     "metadata": {},
     "output_type": "execute_result"
    }
   ],
   "source": [
    "sr00=pl0(data0,stheta0,tp=0.25)\n",
    "sr00"
   ]
  },
  {
   "cell_type": "markdown",
   "metadata": {},
   "source": [
    "#### H0:m>=2（待改进）"
   ]
  },
  {
   "cell_type": "code",
   "execution_count": 12,
   "metadata": {},
   "outputs": [],
   "source": [
    "m0=2#H0的假设\n",
    "weight0=[0.6,0.4]\n",
    "mean0=[0.2,0.3]\n",
    "#分位数定均值初值\n",
    "covs0=[0.05,0.05]\n",
    "theta0=np.array([weight0,mean0,covs0])"
   ]
  },
  {
   "cell_type": "code",
   "execution_count": 13,
   "metadata": {},
   "outputs": [
    {
     "name": "stdout",
     "output_type": "stream",
     "text": [
      " 初值:\n",
      " 参数初值:\n",
      " [[0.6  0.4 ]\n",
      " [0.2  0.3 ]\n",
      " [0.05 0.05]]\n"
     ]
    }
   ],
   "source": [
    "print(' 初值:\\n','参数初值:\\n',theta0)"
   ]
  },
  {
   "cell_type": "code",
   "execution_count": 14,
   "metadata": {},
   "outputs": [
    {
     "data": {
      "text/plain": [
       "(array([[0.66700302, 0.33299698],\n",
       "        [0.22104328, 0.3477202 ],\n",
       "        [0.05733803, 0.10918555]]),\n",
       " 49)"
      ]
     },
     "execution_count": 14,
     "metadata": {},
     "output_type": "execute_result"
    }
   ],
   "source": [
    "result=iterECMforH0(data0,theta0,50)\n",
    "result"
   ]
  },
  {
   "cell_type": "code",
   "execution_count": 15,
   "metadata": {},
   "outputs": [
    {
     "data": {
      "text/plain": [
       "array([0.00328765, 0.01192149])"
      ]
     },
     "execution_count": 15,
     "metadata": {},
     "output_type": "execute_result"
    }
   ],
   "source": [
    "result[0][2]**2"
   ]
  },
  {
   "cell_type": "code",
   "execution_count": 16,
   "metadata": {},
   "outputs": [],
   "source": [
    "thetaH0=result[0]"
   ]
  },
  {
   "cell_type": "code",
   "execution_count": 17,
   "metadata": {},
   "outputs": [
    {
     "data": {
      "text/plain": [
       "187.60295004539233"
      ]
     },
     "execution_count": 17,
     "metadata": {},
     "output_type": "execute_result"
    }
   ],
   "source": [
    "#H0下的惩罚似然\n",
    "sr01=pl0(data0,thetaH0,tp)\n",
    "sr01"
   ]
  },
  {
   "cell_type": "markdown",
   "metadata": {},
   "source": [
    "## H1下的似然计算"
   ]
  },
  {
   "cell_type": "markdown",
   "metadata": {},
   "source": [
    "#混合正态的惩罚联合对数似然,注意这里的x为Yi-Xi.T*beta,k表示第k个初始值\n",
    "def pl1(k,data,theta,th0,C=1):\n",
    "    n=data.shape[0]\n",
    "    m=th0.shape[1]\n",
    "    y=np.zeros(n)\n",
    "    a=0\n",
    "    for h in range(m):\n",
    "        a+=ps(theta[2,(2*h)],th0[2,h],tp)+ps(theta[2,(2*h+1)],th0[2,h],tp)+pa(theta[0,2*h],C)+pa(theta[k,(2*h+1)],C)\n",
    "    for i in range(n):\n",
    "        y[i]=np.log(mixnormal(data[i],theta))\n",
    "    z=np.sum(y)+a\n",
    "    return z"
   ]
  },
  {
   "cell_type": "code",
   "execution_count": 18,
   "metadata": {},
   "outputs": [],
   "source": [
    "#混合正态的惩罚联合对数似然,注意这里的x为Yi-Xi.T*beta\n",
    "def pl1(k,data,theta,th0):\n",
    "    n=data.shape[0]\n",
    "    m=th0.shape[1]\n",
    "    y=np.zeros(n)\n",
    "    a=0\n",
    "    for h in range(m):\n",
    "        a+=ps(theta[2,(2*h)],th0[2,h],tp)+ps(theta[2,(2*h+1)],th0[2,h],tp)+pa(aa[k,h])\n",
    "    for i in range(n):\n",
    "        y[i]=np.log(mixnormal(data[i],theta))\n",
    "    z=np.sum(y)+a\n",
    "    return z"
   ]
  },
  {
   "cell_type": "code",
   "execution_count": 19,
   "metadata": {},
   "outputs": [],
   "source": [
    "#用来对固定权重迭代参数的ECM.i表示固定为aa中第i个β0\n",
    "def ECMff(we,data,thetaold,theta0):\n",
    "    num=data.shape[0]\n",
    "    L0=Lih(data,thetaold)\n",
    "    C=int(thetaold.shape[1])\n",
    "    C0=int(C/2)\n",
    "    d=np.zeros(C)\n",
    "    thetanext=np.zeros((3,C))\n",
    "    thetanext0=np.zeros((3,C0))\n",
    "\n",
    "    for l in range(C0):\n",
    "        d[2*l]=np.sum(L0[:,2*l])\n",
    "        d[2*l+1]=np.sum(L0[:,2*l+1])\n",
    "        thetanext0[0,l]=(d[2*l]+d[2*l+1])/num\n",
    "        thetanext[0,2*l]=thetanext0[0,l]*we[l]\n",
    "        thetanext[0,2*l+1]=thetanext0[0,l]*(1-we[l])\n",
    "\n",
    "    for k in range(C):#更新参数\n",
    "        thetanext[1,k]=np.dot(L0[:,k],data[:])/d[k]\n",
    "        thetanext[2,k]=np.sqrt((np.dot(L0[:,k],(data[:]-thetanext[1,k])**2)+2*tp*theta0[2,k])/(d[k]+2*tp))#标准差\n",
    "\n",
    "    return thetanext\n"
   ]
  },
  {
   "cell_type": "code",
   "execution_count": 20,
   "metadata": {},
   "outputs": [],
   "source": [
    "def iterECMff(data,theta0,N=1000):\n",
    "    C0=int(theta0.shape[1]/2)\n",
    "    we=np.zeros(C0)\n",
    "    for l in range(C0):\n",
    "        we[l]=(theta0[0,2*l])/(theta0[0,2*l]+theta0[0,2*l+1])\n",
    "    T0=theta0\n",
    "    for i in range(N):\n",
    "        T0=ECMff(we,data,T0,theta0)\n",
    "    return T0,i"
   ]
  },
  {
   "cell_type": "code",
   "execution_count": 21,
   "metadata": {},
   "outputs": [],
   "source": [
    "#对于H1下的一次迭代的参数估计\n",
    "def ECMforH1(data,thetaold,theta0):\n",
    "    num=data.shape[0]\n",
    "    L0=Lih(data,thetaold)\n",
    "    C=int(thetaold.shape[1])\n",
    "    C0=int(C/2)\n",
    "    d=np.zeros(C)\n",
    "    thetanext=np.zeros((3,C))\n",
    "    thetanext0=np.zeros((3,C0))\n",
    "\n",
    "    for l in range(C0):\n",
    "        d[2*l]=np.sum(L0[:,2*l])\n",
    "        d[2*l+1]=np.sum(L0[:,2*l+1])\n",
    "        thetanext0[0,l]=(d[2*l]+d[2*l+1])/num\n",
    "        if (d[2*l]/(d[2*l]+d[2*l+1])) <= 0.5:\n",
    "            if (d[2*l]+Ca)/((d[2*l]+d[2*l+1])+Ca) <= 0.5:\n",
    "                thetanext[0,2*l]=((d[2*l]+Ca)/((d[2*l]+d[2*l+1])+Ca))*thetanext0[0,l]\n",
    "                thetanext[0,2*l+1]=((d[2*l+1])/((d[2*l]+d[2*l+1])+Ca))*thetanext0[0,l]\n",
    "            else:\n",
    "                thetanext[0,2*l]=0.5*thetanext0[0,l]\n",
    "                thetanext[0,2*l+1]=0.5*thetanext0[0,l]\n",
    "        else:\n",
    "            if (d[2*l])/((d[2*l]+d[2*l+1])+Ca) > 0.5:\n",
    "                thetanext[0,2*l]=((d[2*l])/((d[2*l]+d[2*l+1])+Ca))*thetanext0[0,l]\n",
    "                thetanext[0,2*l+1]=((d[2*l+1]+Ca)/((d[2*l]+d[2*l+1])+Ca))*thetanext0[0,l]\n",
    "            else:\n",
    "                thetanext[0,2*l]=0.5*thetanext0[0,l]\n",
    "                thetanext[0,2*l+1]=0.5*thetanext0[0,l]\n",
    "\n",
    "    for k in range(C):#更新参数\n",
    "        thetanext[1,k]=np.dot(L0[:,k],data[:])/d[k]\n",
    "        thetanext[2,k]=np.sqrt((np.dot(L0[:,k],(data[:]-thetanext[1,k])**2)+2*tp*theta0[2,k])/(d[k]+2*tp))#标准差\n",
    "\n",
    "    return thetanext\n"
   ]
  },
  {
   "cell_type": "code",
   "execution_count": 22,
   "metadata": {},
   "outputs": [],
   "source": [
    "def iterECMforH1(data,theta0,N=1000):\n",
    "    T0=theta0\n",
    "    for i in range(N):\n",
    "        T0=ECMforH1(data,T0,theta0)\n",
    "\n",
    "    return T0,i"
   ]
  },
  {
   "cell_type": "markdown",
   "metadata": {},
   "source": [
    "### step 0 设定不同的初值\n",
    "m0个数组的排列问题  \n",
    "当m0为确定的数时，只需要套m0个循环即可  \n",
    "如果m0未知，无法用上述想法做了，可以将循环问题转为递归问题  \n",
    "或者用查询的方法做"
   ]
  },
  {
   "cell_type": "code",
   "execution_count": 23,
   "metadata": {},
   "outputs": [],
   "source": [
    "m0=2"
   ]
  },
  {
   "cell_type": "code",
   "execution_count": 24,
   "metadata": {},
   "outputs": [],
   "source": [
    "Weight=np.array([0.1,0.9,0.3,0.7,0.5])\n",
    "Weight0=np.zeros((5**m0,2*m0))#H1下的初始权重\n",
    "aa=np.zeros((5**m0,m0))"
   ]
  },
  {
   "cell_type": "code",
   "execution_count": 25,
   "metadata": {},
   "outputs": [],
   "source": [
    "for i in range (5**m0):\n",
    "    for j in range(m0):\n",
    "        a=np.floor(i/(5**(m0-j-1)))\n",
    "        if a>4:\n",
    "            a=a-5*np.floor(a/5)\n",
    "        b=int(a)\n",
    "        aa[i,j]=Weight[b]\n",
    "        Weight0[i,2*j]=Weight[b]*thetaH0[0,j]\n",
    "        Weight0[i,2*j+1]=(1-Weight[b])*thetaH0[0,j]"
   ]
  },
  {
   "cell_type": "markdown",
   "metadata": {},
   "source": [
    "### step 1 固定参数的不同初值下，分别选取使得惩罚似然达到最大的正态参数\n",
    "（ECMff多次迭代即可）"
   ]
  },
  {
   "cell_type": "code",
   "execution_count": 26,
   "metadata": {},
   "outputs": [
    {
     "data": {
      "text/plain": [
       "array([[0.66700302, 0.33299698],\n",
       "       [0.22104328, 0.3477202 ],\n",
       "       [0.05733803, 0.10918555]])"
      ]
     },
     "execution_count": 26,
     "metadata": {},
     "output_type": "execute_result"
    }
   ],
   "source": [
    "thetaH0"
   ]
  },
  {
   "cell_type": "code",
   "execution_count": 27,
   "metadata": {},
   "outputs": [
    {
     "data": {
      "text/plain": [
       "array([[0.66700302, 0.33299698],\n",
       "       [0.22104328, 0.3477202 ],\n",
       "       [0.05733803, 0.10918555]])"
      ]
     },
     "execution_count": 27,
     "metadata": {},
     "output_type": "execute_result"
    }
   ],
   "source": [
    "result[0]"
   ]
  },
  {
   "cell_type": "code",
   "execution_count": 28,
   "metadata": {},
   "outputs": [
    {
     "data": {
      "text/plain": [
       "array([[0.33350151, 0.33350151, 0.0332997 , 0.29969728],\n",
       "       [0.33350151, 0.33350151, 0.29969728, 0.0332997 ],\n",
       "       [0.33350151, 0.33350151, 0.09989909, 0.23309789],\n",
       "       [0.33350151, 0.33350151, 0.23309789, 0.09989909],\n",
       "       [0.33350151, 0.33350151, 0.16649849, 0.16649849]])"
      ]
     },
     "execution_count": 28,
     "metadata": {},
     "output_type": "execute_result"
    }
   ],
   "source": [
    "Weight0[-5:]"
   ]
  },
  {
   "cell_type": "code",
   "execution_count": 29,
   "metadata": {},
   "outputs": [
    {
     "data": {
      "text/plain": [
       "'\\nTh[i]表示第i个权重初值下的最佳参数初值  \\nBe[i]表示第i个权重初值下的最佳斜率初值  \\n以上均作为最早的初值参与迭代\\n'"
      ]
     },
     "execution_count": 29,
     "metadata": {},
     "output_type": "execute_result"
    }
   ],
   "source": [
    "Th=np.zeros((5**m0,3,2*m0))\n",
    "for i in range(5**m0):\n",
    "    thetan=np.array((Weight0[i],[0.15,0.25,0.3,0.4],[0.025,0.025,0.05,0.05]))\n",
    "    res=iterECMff(data0,thetan,100)\n",
    "    Th[i]=res[0]\n",
    "\n",
    "'''\n",
    "Th[i]表示第i个权重初值下的最佳参数初值  \n",
    "Be[i]表示第i个权重初值下的最佳斜率初值  \n",
    "以上均作为最早的初值参与迭代\n",
    "'''"
   ]
  },
  {
   "cell_type": "markdown",
   "metadata": {},
   "source": [
    "### step 2 分别选定初始参数后的迭代（只需迭代几次）"
   ]
  },
  {
   "cell_type": "code",
   "execution_count": 53,
   "metadata": {},
   "outputs": [],
   "source": [
    "rs=np.zeros(5**m0)\n",
    "Th1=np.zeros((5**m0,3,2*m0))\n",
    "for i in range(5**m0):\n",
    "    res=iterECMforH1(data0,Th[i],3)\n",
    "    Th1[i]=res[0]\n",
    "    rs[i]=pl1(i,data0,Th1[i],stheta0)"
   ]
  },
  {
   "cell_type": "code",
   "execution_count": 54,
   "metadata": {},
   "outputs": [
    {
     "data": {
      "text/plain": [
       "array([187.53742429, 187.59378006, 187.00127855, 187.46790404,\n",
       "       187.29480941, 186.79882964, 187.55919997, 187.05271739,\n",
       "       187.42856522, 187.24301591, 188.46318874, 188.77030716,\n",
       "       188.53018069, 188.70291335, 188.64644444, 188.43289498,\n",
       "       188.70605317, 188.47652232, 188.60185929, 188.52808341,\n",
       "       188.93696396, 189.26093595, 188.98814652, 189.15550922,\n",
       "       189.06685284])"
      ]
     },
     "execution_count": 54,
     "metadata": {},
     "output_type": "execute_result"
    }
   ],
   "source": [
    "rs"
   ]
  },
  {
   "cell_type": "code",
   "execution_count": 41,
   "metadata": {},
   "outputs": [
    {
     "data": {
      "text/plain": [
       "array([-0.13105152, -0.01833996, -1.203343  , -0.27009201, -0.61628128,\n",
       "       -1.6082408 , -0.08750016, -1.1004653 , -0.34876965, -0.71986826,\n",
       "        1.7204774 ,  2.33471423,  1.85446129,  2.19992661,  2.08698879,\n",
       "        1.65988986,  2.20620624,  1.74714455,  1.99781849,  1.85026673,\n",
       "        2.66802782,  3.31597181,  2.77039296,  3.10511834,  2.92780558])"
      ]
     },
     "execution_count": 41,
     "metadata": {},
     "output_type": "execute_result"
    }
   ],
   "source": [
    "2*(rs-sr01)"
   ]
  },
  {
   "cell_type": "code",
   "execution_count": 42,
   "metadata": {},
   "outputs": [
    {
     "data": {
      "text/plain": [
       "3.315971813492581"
      ]
     },
     "execution_count": 42,
     "metadata": {},
     "output_type": "execute_result"
    }
   ],
   "source": [
    "np.max(2*(rs-sr01))"
   ]
  },
  {
   "cell_type": "code",
   "execution_count": 67,
   "metadata": {},
   "outputs": [
    {
     "data": {
      "text/plain": [
       "array([21], dtype=int64)"
      ]
     },
     "execution_count": 67,
     "metadata": {},
     "output_type": "execute_result"
    }
   ],
   "source": [
    "np.where(2*(rs-sr01)==np.max(2*(rs-sr01)))[0]"
   ]
  },
  {
   "cell_type": "code",
   "execution_count": 49,
   "metadata": {},
   "outputs": [
    {
     "data": {
      "text/plain": [
       "array([[[0.31693809, 0.31693809, 0.3200681 , 0.04605573],\n",
       "        [0.19859308, 0.23840737, 0.32041462, 0.49968507],\n",
       "        [0.0462951 , 0.06327775, 0.08827964, 0.10767282]]])"
      ]
     },
     "execution_count": 49,
     "metadata": {},
     "output_type": "execute_result"
    }
   ],
   "source": [
    "Th1[zx]"
   ]
  },
  {
   "cell_type": "code",
   "execution_count": 50,
   "metadata": {},
   "outputs": [
    {
     "data": {
      "text/plain": [
       "array([[0.31693809, 0.31693809, 0.3200681 , 0.04605573],\n",
       "       [0.19859308, 0.23840737, 0.32041462, 0.49968507],\n",
       "       [0.0462951 , 0.06327775, 0.08827964, 0.10767282]])"
      ]
     },
     "execution_count": 50,
     "metadata": {},
     "output_type": "execute_result"
    }
   ],
   "source": [
    "Th1[zx][0]"
   ]
  },
  {
   "cell_type": "markdown",
   "metadata": {},
   "source": [
    "### step 3\n",
    "每次找出使得H1下惩罚似然达到最大的那个初始参数，计算对应的似然比统计量"
   ]
  },
  {
   "cell_type": "markdown",
   "metadata": {},
   "source": [
    "# EM值计算"
   ]
  },
  {
   "cell_type": "markdown",
   "metadata": {},
   "source": [
    "## ECM的迭代算法\n",
    "```\n",
    "def iterECM(Xs,Y,beta0,theta0,tp=0.002,N=1000,ε=0.005):\n",
    "    T0=[beta0,theta0]\n",
    "    for i in range(N):\n",
    "        a=T0[0]\n",
    "        T0=ECM(Xs,Y,T0[0],T0[1],theta0,tp)\n",
    "        b=np.linalg.norm(T0[0]-a)\n",
    "        '''\n",
    "        if b<=ε:\n",
    "            break\n",
    "        '''\n",
    "    return T0,b,i\n",
    "```"
   ]
  },
  {
   "cell_type": "code",
   "execution_count": 36,
   "metadata": {},
   "outputs": [],
   "source": [
    "np.savetxt('b.csv',data0,delimiter=\",\")"
   ]
  },
  {
   "cell_type": "code",
   "execution_count": 37,
   "metadata": {},
   "outputs": [],
   "source": [
    "Data=np.loadtxt(\"C:/Users/Administrator/Desktop/a.csv\",delimiter=\",\")"
   ]
  },
  {
   "cell_type": "code",
   "execution_count": 38,
   "metadata": {},
   "outputs": [
    {
     "ename": "SyntaxError",
     "evalue": "unexpected EOF while parsing (<ipython-input-38-89c1a6e122c2>, line 3)",
     "output_type": "error",
     "traceback": [
      "\u001b[1;36m  File \u001b[1;32m\"<ipython-input-38-89c1a6e122c2>\"\u001b[1;36m, line \u001b[1;32m3\u001b[0m\n\u001b[1;33m    \u001b[0m\n\u001b[1;37m    ^\u001b[0m\n\u001b[1;31mSyntaxError\u001b[0m\u001b[1;31m:\u001b[0m unexpected EOF while parsing\n"
     ]
    }
   ],
   "source": [
    "alpha=[0.1,0.2,0.3]\n",
    "for i in range(3):\n",
    "    "
   ]
  }
 ],
 "metadata": {
  "interpreter": {
   "hash": "b3ba2566441a7c06988d0923437866b63cedc61552a5af99d1f4fb67d367b25f"
  },
  "kernelspec": {
   "display_name": "Python 3.8.5 64-bit ('base': conda)",
   "name": "python3"
  },
  "language_info": {
   "codemirror_mode": {
    "name": "ipython",
    "version": 3
   },
   "file_extension": ".py",
   "mimetype": "text/x-python",
   "name": "python",
   "nbconvert_exporter": "python",
   "pygments_lexer": "ipython3",
   "version": "3.8.5"
  },
  "orig_nbformat": 4
 },
 "nbformat": 4,
 "nbformat_minor": 2
}
