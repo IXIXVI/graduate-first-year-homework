{
 "cells": [
  {
   "cell_type": "code",
   "execution_count": null,
   "metadata": {},
   "outputs": [],
   "source": [
    "import numpy as np\n",
    "import matplotlib.pyplot as plt\n",
    "from sklearn.linear_model import LinearRegression"
   ]
  },
  {
   "cell_type": "code",
   "execution_count": null,
   "metadata": {},
   "outputs": [],
   "source": [
    "N=500\n",
    "P=2\n",
    "M=3\n",
    "weight=[0.2,0.4,0.4]\n",
    "mean=[-2.5,0,3]\n",
    "covs=[1,0.7,1]#标准差\n",
    "Theta=np.array([weight,mean,covs])\n",
    "Theta#混合高斯分布的参数，mean越靠近且离散程度越大，区分的难度越大"
   ]
  },
  {
   "cell_type": "code",
   "execution_count": null,
   "metadata": {},
   "outputs": [],
   "source": [
    "#定义各组样本量的界点\n",
    "subnum=np.zeros(M-1)\n",
    "subnum[0]=N*weight[0]\n",
    "weight1=np.zeros(M+1)\n",
    "weight1[0]=0\n",
    "weight1[M]=1\n",
    "for i in range(1,M-1):\n",
    "    subnum[i]=subnum[i-1]+N*weight[i]\n",
    "for i in range(1,M):\n",
    "    weight1[i]=np.sum(weight[:i])"
   ]
  },
  {
   "cell_type": "code",
   "execution_count": null,
   "metadata": {},
   "outputs": [],
   "source": [
    "np.random.seed(4)\n",
    "mu=np.array([0,0])\n",
    "cov=np.array([[2,1],[1,2]])\n",
    "X=np.random.multivariate_normal(mu,cov,N,check_valid='raise')\n",
    "betat=np.random.uniform(0,1,P)\n",
    "#sns.regplot(X[:,0],X[:,1])  # 绘制数据点\n",
    "plt.plot(X[:,0],X[:,1],'o')"
   ]
  },
  {
   "cell_type": "code",
   "execution_count": null,
   "metadata": {},
   "outputs": [],
   "source": [
    "betat"
   ]
  },
  {
   "cell_type": "markdown",
   "metadata": {},
   "source": [
    "# 样本生成"
   ]
  },
  {
   "cell_type": "markdown",
   "metadata": {},
   "source": [
    "## 方法一 \n",
    "```python\n",
    "np.random.rand()\n",
    "```\n",
    "用于生成（0,1]间的随机数  \n",
    "缺点：不能很好的控制各亚组的样本数量"
   ]
  },
  {
   "cell_type": "code",
   "execution_count": null,
   "metadata": {},
   "outputs": [],
   "source": [
    "Y=np.zeros((N,2))\n",
    "for i in range(N):\n",
    "    a=np.random.rand()\n",
    "    for j in range(M):\n",
    "        if a>=weight1[j] and a<=weight1[j+1]:\n",
    "            Y[i,0]=np.dot(X[i],betat)+np.random.normal(Theta[1,j],Theta[2,j])\n",
    "            Y[i,1]=j\n"
   ]
  },
  {
   "cell_type": "code",
   "execution_count": null,
   "metadata": {},
   "outputs": [],
   "source": [
    "model = LinearRegression() # 构建线性模型\n",
    "model.fit(X, Y[:,0]) # 自变量在前，因变量在后\n",
    "coef = model.coef_ # 斜率\n",
    "intercept = model.intercept_ # 截距\n",
    "print(betat,'\\n',model.coef_, model.intercept_) # 输出斜率和截距"
   ]
  },
  {
   "cell_type": "code",
   "execution_count": null,
   "metadata": {},
   "outputs": [],
   "source": [
    "cdict = {1: 'red', 2: 'blue', 0: 'green'}\n",
    "\n",
    "fig = plt.figure(figsize=(20,10))\n",
    "\n",
    "xm = np.linspace(-4,4,10)\n",
    "ym = np.linspace(-4,4,10)\n",
    "Xm, Ym = np.meshgrid(xm, ym)\n",
    "\n",
    "ax = fig.add_subplot( projection='3d')\n",
    "for g in np.unique(Y[:,1]):\n",
    "    ix = np.where(Y[:,1] == g)\n",
    "    ax.scatter(X[ix,0], X[ix,1],Y[ix,0] ,c = cdict[g], label = g, s = 10)\n",
    "\n",
    "ax.plot_surface(Xm,Ym,Z=betat[0]*Xm+betat[1]*Ym, color='b',alpha=0.6,label='True beta')\n",
    "ax.plot_surface(Xm,Ym,Z=coef[0]*Xm+coef[1]*Ym, color='r',alpha=0.6,label='beta0')\n",
    "ax.set_zlabel('Y')  # 坐标轴\n",
    "ax.set_ylabel('X2')\n",
    "ax.set_xlabel('X1')\n",
    "ax.view_init(elev=10,azim=50)\n",
    "ax.set_title('elevation 20')\n",
    "plt.show()"
   ]
  },
  {
   "cell_type": "markdown",
   "metadata": {},
   "source": [
    "scatter_x = np.array([1,2,3,4,5])\n",
    "scatter_y = np.array([5,4,3,2,1])\n",
    "group = np.array([1,3,2,1,3])\n",
    "cdict = {1: 'red', 2: 'blue', 3: 'green'}\n",
    "\n",
    "fig, ax = plt.subplots()\n",
    "for g in np.unique(group):\n",
    "    ix = np.where(group == g)\n",
    "    ax.scatter(scatter_x[ix], scatter_y[ix], c = cdict[g], label = g, s = 100)\n",
    "ax.legend()\n",
    "plt.show()"
   ]
  },
  {
   "cell_type": "markdown",
   "metadata": {},
   "source": [
    "## 方法二\n",
    "分别按比例随机生成固定数目的样本"
   ]
  },
  {
   "cell_type": "markdown",
   "metadata": {},
   "source": [
    "# H1下初值选取"
   ]
  },
  {
   "cell_type": "markdown",
   "metadata": {},
   "source": [
    "## 方法一 查询"
   ]
  },
  {
   "cell_type": "code",
   "execution_count": null,
   "metadata": {},
   "outputs": [],
   "source": [
    "m0=2"
   ]
  },
  {
   "cell_type": "code",
   "execution_count": 98,
   "metadata": {},
   "outputs": [],
   "source": [
    "Weight=np.array([0.1,0.3,0.5])\n",
    "Weight0=np.array([0.1,0.9,0.3,0.7,0.5])\n",
    "Weight1=np.array([[0.1,0.9],[0.9,0.1],[0.3,0.7],[0.7,0.3],[0.5,0.5]])\n",
    "Theta00=np.zeros((5**m0,2*m0))#H1下的初始权重\n",
    "theta00=np.zeros((5,m0,5**(m0-1),2))"
   ]
  },
  {
   "cell_type": "code",
   "execution_count": 103,
   "metadata": {},
   "outputs": [
    {
     "data": {
      "text/plain": [
       "array([[0., 0.],\n",
       "       [0., 1.],\n",
       "       [0., 2.],\n",
       "       [0., 3.],\n",
       "       [0., 4.],\n",
       "       [1., 0.],\n",
       "       [1., 1.],\n",
       "       [1., 2.],\n",
       "       [1., 3.],\n",
       "       [1., 4.],\n",
       "       [2., 0.],\n",
       "       [2., 1.],\n",
       "       [2., 2.],\n",
       "       [2., 3.],\n",
       "       [2., 4.],\n",
       "       [3., 0.],\n",
       "       [3., 1.],\n",
       "       [3., 2.],\n",
       "       [3., 3.],\n",
       "       [3., 4.],\n",
       "       [4., 0.],\n",
       "       [4., 1.],\n",
       "       [4., 2.],\n",
       "       [4., 3.],\n",
       "       [4., 4.]])"
      ]
     },
     "execution_count": 103,
     "metadata": {},
     "output_type": "execute_result"
    }
   ],
   "source": [
    "aa=np.zeros((5**m0,m0))\n",
    "for i in range (5**m0):\n",
    "    for j in range(1,m0+1):\n",
    "        aa[i,j-1]=np.floor(i/(5**(m0-j)))\n",
    "        if aa[i,j-1]>4:\n",
    "            aa[i,j-1]=aa[i,j-1]-5*np.floor(aa[i,j-1]/5)\n",
    "aa"
   ]
  },
  {
   "cell_type": "code",
   "execution_count": 104,
   "metadata": {},
   "outputs": [
    {
     "data": {
      "text/plain": [
       "array([[0., 0.],\n",
       "       [0., 1.],\n",
       "       [0., 2.],\n",
       "       [0., 3.],\n",
       "       [0., 4.],\n",
       "       [1., 0.],\n",
       "       [1., 1.],\n",
       "       [1., 2.],\n",
       "       [1., 3.],\n",
       "       [1., 4.],\n",
       "       [2., 0.],\n",
       "       [2., 1.],\n",
       "       [2., 2.],\n",
       "       [2., 3.],\n",
       "       [2., 4.],\n",
       "       [3., 0.],\n",
       "       [3., 1.],\n",
       "       [3., 2.],\n",
       "       [3., 3.],\n",
       "       [3., 4.],\n",
       "       [4., 0.],\n",
       "       [4., 1.],\n",
       "       [4., 2.],\n",
       "       [4., 3.],\n",
       "       [4., 4.]])"
      ]
     },
     "execution_count": 104,
     "metadata": {},
     "output_type": "execute_result"
    }
   ],
   "source": [
    "cc=np.zeros((5**m0,m0))\n",
    "for i in range (5**m0):\n",
    "    for j in range(m0):\n",
    "        cc[i,j]=np.floor(i/(5**(m0-j-1)))\n",
    "        if cc[i,j]>4:\n",
    "            cc[i,j]=cc[i,j]-5*np.floor(cc[i,j]/5)"
   ]
  },
  {
   "cell_type": "code",
   "execution_count": 96,
   "metadata": {},
   "outputs": [],
   "source": [
    "bb=np.zeros((5**m0,m0))\n",
    "for i in range(5**m0):\n",
    "    for j in range(m0):\n",
    "        a=int(aa[i,j])\n",
    "        bb[i,j]=Weight0[a]"
   ]
  },
  {
   "cell_type": "code",
   "execution_count": 105,
   "metadata": {},
   "outputs": [
    {
     "data": {
      "text/plain": [
       "array([[0.1, 0.1],\n",
       "       [0.1, 0.9],\n",
       "       [0.1, 0.3],\n",
       "       [0.1, 0.7],\n",
       "       [0.1, 0.5],\n",
       "       [0.9, 0.1],\n",
       "       [0.9, 0.9],\n",
       "       [0.9, 0.3],\n",
       "       [0.9, 0.7],\n",
       "       [0.9, 0.5],\n",
       "       [0.3, 0.1],\n",
       "       [0.3, 0.9],\n",
       "       [0.3, 0.3],\n",
       "       [0.3, 0.7],\n",
       "       [0.3, 0.5],\n",
       "       [0.7, 0.1],\n",
       "       [0.7, 0.9],\n",
       "       [0.7, 0.3],\n",
       "       [0.7, 0.7],\n",
       "       [0.7, 0.5],\n",
       "       [0.5, 0.1],\n",
       "       [0.5, 0.9],\n",
       "       [0.5, 0.3],\n",
       "       [0.5, 0.7],\n",
       "       [0.5, 0.5]])"
      ]
     },
     "execution_count": 105,
     "metadata": {},
     "output_type": "execute_result"
    }
   ],
   "source": [
    "bb"
   ]
  },
  {
   "cell_type": "code",
   "execution_count": 110,
   "metadata": {},
   "outputs": [],
   "source": [
    "dd=np.array([0.62071453, 0.37928547])"
   ]
  },
  {
   "cell_type": "code",
   "execution_count": 111,
   "metadata": {},
   "outputs": [],
   "source": [
    "for i in range(5**m0):\n",
    "    for j in range(m0):\n",
    "        Theta00[i,2*j]=bb[i,j]*dd[j]\n",
    "        Theta00[i,2*j+1]=(1-bb[i,j])*dd[j]\n"
   ]
  },
  {
   "cell_type": "code",
   "execution_count": 114,
   "metadata": {},
   "outputs": [
    {
     "data": {
      "text/plain": [
       "1.0000000000000002"
      ]
     },
     "execution_count": 114,
     "metadata": {},
     "output_type": "execute_result"
    }
   ],
   "source": [
    "np.sum(Theta00[0])"
   ]
  },
  {
   "cell_type": "markdown",
   "metadata": {},
   "source": [
    "## 方法二 递归"
   ]
  }
 ],
 "metadata": {
  "interpreter": {
   "hash": "b3ba2566441a7c06988d0923437866b63cedc61552a5af99d1f4fb67d367b25f"
  },
  "kernelspec": {
   "display_name": "Python 3.8.5 64-bit ('base': conda)",
   "name": "python3"
  },
  "language_info": {
   "codemirror_mode": {
    "name": "ipython",
    "version": 3
   },
   "file_extension": ".py",
   "mimetype": "text/x-python",
   "name": "python",
   "nbconvert_exporter": "python",
   "pygments_lexer": "ipython3",
   "version": "3.8.5"
  },
  "orig_nbformat": 4
 },
 "nbformat": 4,
 "nbformat_minor": 2
}
