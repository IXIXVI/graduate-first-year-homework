{
 "cells": [
  {
   "cell_type": "code",
   "execution_count": 1,
   "metadata": {},
   "outputs": [],
   "source": [
    "import numpy as np\n",
    "import func\n",
    "import matplotlib.pyplot as plt\n",
    "from sklearn.metrics.cluster import rand_score\n",
    "from sklearn.metrics import mean_squared_error\n",
    "from sklearn.metrics.cluster import adjusted_rand_score"
   ]
  },
  {
   "cell_type": "code",
   "execution_count": 2,
   "metadata": {},
   "outputs": [
    {
     "data": {
      "text/plain": [
       "(array([0.84823459, 0.64306967, 0.61342573, 0.77565738, 0.85973448]),\n",
       " array([[ 0.33333333,  0.33333333,  0.33333333],\n",
       "        [-2.        ,  0.        ,  2.        ],\n",
       "        [ 0.5       ,  0.5       ,  0.5       ]]))"
      ]
     },
     "execution_count": 2,
     "metadata": {},
     "output_type": "execute_result"
    }
   ],
   "source": [
    "N=100\n",
    "weight=[ 1/3  , 1/3 , 1/3]\n",
    "mean=  [  -2  ,  0  ,  2 ]\n",
    "covs=  [  0.5 , 0.5 , 0.5 ]#标准差\n",
    "Theta=np.array([weight,mean,covs])\n",
    "np.random.seed(123)\n",
    "betat=0.5*np.random.rand(5)+0.5\n",
    "betat,Theta"
   ]
  },
  {
   "cell_type": "code",
   "execution_count": 3,
   "metadata": {},
   "outputs": [],
   "source": [
    "sampleY=np.load('sampleY.npy')#sampleY[i,j]表示第i次实验第j个样本的响应变量\n",
    "sampleX=np.load('sampleX.npy')#sampleX[i,j,k]表示第i次实验第j个样本的第h个分量\n",
    "Betares=np.load('Betares.npy')#Betares[i]表示第i次实验的所有样本估计所得的beta\n",
    "Thetares=np.load('Thetares.npy')#Thetares[i]表示第i次实验的所有样本估计所得的Theta\n",
    "sgroup=np.load('sgroup.npy')#sgroup[i,j]表示第i次实验第j个样本的真实亚组\n",
    "predclass=np.load('predclass.npy')\n",
    "RMSEofMu=np.load('RMSEofMu.npy')\n",
    "RMSEofbeta=np.load('RMSEofbeta.npy')"
   ]
  },
  {
   "cell_type": "code",
   "execution_count": 4,
   "metadata": {},
   "outputs": [],
   "source": [
    "bias=np.zeros((1000,100))#bias[i,j]表示第i次实验第j个样本的真实值与预测值的偏差\n",
    "for i in range(1000):\n",
    "    bias[i]=sampleY[i]-np.dot(sampleX[i],Betares[i])"
   ]
  },
  {
   "cell_type": "code",
   "execution_count": 5,
   "metadata": {},
   "outputs": [],
   "source": [
    "predgroup=np.zeros((1000,100,3))#predgroup[i,j,h]表示第i次实验第j个样本属于第h组的后验概率\n",
    "for i in range(1000):\n",
    "    predgroup[i]=func.Lih(bias[i],Thetares[i])"
   ]
  },
  {
   "cell_type": "code",
   "execution_count": 6,
   "metadata": {},
   "outputs": [],
   "source": [
    "predclass=np.zeros((1000,100))#predclass[i,j]表示第i次实验第j个样本的预测类别\n",
    "for i in range(1000):\n",
    "    for j in range(100):\n",
    "        predclass[i,j]=predgroup[i,j].argmax()"
   ]
  },
  {
   "cell_type": "code",
   "execution_count": 8,
   "metadata": {},
   "outputs": [],
   "source": [
    "predmu=np.zeros((1000,100))\n",
    "smu=np.zeros((1000,100))\n",
    "for i in range(1000):\n",
    "    for j in range(100):\n",
    "        predmu[i,j]=2*(predclass[i,j]-1)\n",
    "        smu[i,j]=2*(sgroup[i,j]-1)"
   ]
  },
  {
   "cell_type": "code",
   "execution_count": 9,
   "metadata": {},
   "outputs": [],
   "source": [
    "RMSEofMu=np.zeros(1000)\n",
    "for i in range(1000):\n",
    "    RMSEofMu[i]=np.sqrt(np.linalg.norm(predmu[i]-smu[i]))/(np.sqrt(100))"
   ]
  },
  {
   "cell_type": "code",
   "execution_count": 11,
   "metadata": {},
   "outputs": [],
   "source": [
    "RMSEofbeta=np.zeros(1000)\n",
    "for i in range(1000):\n",
    "    RMSEofbeta[i]=np.sqrt(np.linalg.norm(Betares[i]-betat))/(np.sqrt(100))"
   ]
  },
  {
   "cell_type": "code",
   "execution_count": 12,
   "metadata": {},
   "outputs": [],
   "source": [
    "np.save('predclass.npy',predclass)\n",
    "np.save('RMSEofbeta.npy',RMSEofbeta)\n",
    "np.save('RMSEofMu.npy',RMSEofMu)"
   ]
  },
  {
   "cell_type": "code",
   "execution_count": 13,
   "metadata": {},
   "outputs": [
    {
     "data": {
      "text/plain": [
       "(0.2103228553767915, 0.04277097461996313)"
      ]
     },
     "execution_count": 13,
     "metadata": {},
     "output_type": "execute_result"
    }
   ],
   "source": [
    "#1000次实验mu和beta估计的RMSE的均值\n",
    "np.mean(RMSEofMu),np.mean(RMSEofbeta)"
   ]
  },
  {
   "cell_type": "markdown",
   "metadata": {},
   "source": [
    "标准误差（英文：Standard Error），也称标准误，即样本平均数抽样分布的标准差（英文：Standard Deviation），是描述对应的样本平均数抽样分布的离散程度及衡量对应样本平均数抽样误差大小的尺度"
   ]
  },
  {
   "cell_type": "code",
   "execution_count": 20,
   "metadata": {},
   "outputs": [
    {
     "data": {
      "text/plain": [
       "(0.04190144663342882, 0.009137173338989512)"
      ]
     },
     "execution_count": 20,
     "metadata": {},
     "output_type": "execute_result"
    }
   ],
   "source": [
    "np.std(RMSEofMu),np.std(RMSEofbeta)"
   ]
  },
  {
   "cell_type": "code",
   "execution_count": 4,
   "metadata": {},
   "outputs": [],
   "source": [
    "#1000次实验的每次正确率\n",
    "Cratio=np.zeros((1000,100))#Cratio[i,j]表示第i次实验第j个样本是否预测正确\n",
    "for i in range(1000):\n",
    "    for j in range(100):\n",
    "        if predclass[i,j]==sgroup[i,j]:\n",
    "            Cratio[i,j]=1\n",
    "cr=np.sum(Cratio,axis=1)/100"
   ]
  },
  {
   "cell_type": "code",
   "execution_count": 11,
   "metadata": {},
   "outputs": [
    {
     "data": {
      "text/plain": [
       "(0.9407000000000001, 0.0411765710082809)"
      ]
     },
     "execution_count": 11,
     "metadata": {},
     "output_type": "execute_result"
    }
   ],
   "source": [
    "np.mean(cr),np.std(cr)"
   ]
  },
  {
   "cell_type": "code",
   "execution_count": 22,
   "metadata": {},
   "outputs": [
    {
     "data": {
      "image/png": "[encoded data removed]",
      "text/plain": [
       "<Figure size 432x288 with 1 Axes>"
      ]
     },
     "metadata": {
      "needs_background": "light"
     },
     "output_type": "display_data"
    }
   ],
   "source": [
    "plt.boxplot(cr,vert=False,showmeans=True )\n",
    "plt.show()"
   ]
  },
  {
   "cell_type": "code",
   "execution_count": 9,
   "metadata": {},
   "outputs": [],
   "source": [
    "#1000次实验的RI index（兰德系数，表示聚类精度）\n",
    "RIindex=np.zeros(1000)\n",
    "for i in range(1000):\n",
    "    RIindex[i]=rand_score(sgroup[i],predclass[i])"
   ]
  },
  {
   "cell_type": "code",
   "execution_count": 10,
   "metadata": {},
   "outputs": [
    {
     "data": {
      "text/plain": [
       "(0.9265044444444444, 0.046848858654495035)"
      ]
     },
     "execution_count": 10,
     "metadata": {},
     "output_type": "execute_result"
    }
   ],
   "source": [
    "np.mean(RIindex),np.std(RIindex)"
   ]
  },
  {
   "cell_type": "code",
   "execution_count": 24,
   "metadata": {},
   "outputs": [
    {
     "data": {
      "image/png": "[encoded data removed]",
      "text/plain": [
       "<Figure size 432x288 with 1 Axes>"
      ]
     },
     "metadata": {
      "needs_background": "light"
     },
     "output_type": "display_data"
    }
   ],
   "source": [
    "plt.boxplot(RIindex,vert=False,showmeans=True )\n",
    "plt.show()"
   ]
  },
  {
   "cell_type": "code",
   "execution_count": 25,
   "metadata": {},
   "outputs": [
    {
     "data": {
      "text/plain": [
       "(array([0.84625705, 0.65001297, 0.60867761, 0.77662092, 0.85997403]),\n",
       " array([[ 3.27999885e-01,  3.43883690e-01,  3.28116425e-01],\n",
       "        [-2.00317903e+00, -1.80789078e-04,  2.01244135e+00],\n",
       "        [ 4.68381099e-01,  4.87236846e-01,  4.59132474e-01]]))"
      ]
     },
     "execution_count": 25,
     "metadata": {},
     "output_type": "execute_result"
    }
   ],
   "source": [
    "np.mean(Betares,axis=0),np.mean(Thetares,axis=0)"
   ]
  },
  {
   "cell_type": "code",
   "execution_count": 26,
   "metadata": {},
   "outputs": [
    {
     "data": {
      "text/plain": [
       "(array([0.00844096, 0.00905468, 0.00848258, 0.00851642, 0.009356  ]),\n",
       " array([[0.00367635, 0.00633059, 0.00389183],\n",
       "        [0.02307861, 0.02818709, 0.0216526 ],\n",
       "        [0.01461487, 0.03671751, 0.01339791]]))"
      ]
     },
     "execution_count": 26,
     "metadata": {},
     "output_type": "execute_result"
    }
   ],
   "source": [
    "np.var(Betares,axis=0),np.var(Thetares,axis=0)"
   ]
  },
  {
   "cell_type": "code",
   "execution_count": 27,
   "metadata": {},
   "outputs": [
    {
     "data": {
      "image/png": "[encoded data removed]",
      "text/plain": [
       "<Figure size 648x864 with 4 Axes>"
      ]
     },
     "metadata": {
      "needs_background": "light"
     },
     "output_type": "display_data"
    }
   ],
   "source": [
    "fig = plt.figure(figsize=(9,12))\n",
    "ax0 = fig.add_subplot(411)\n",
    "ax0.boxplot(Betares,vert=False,showmeans=True )\n",
    "ax1 = fig.add_subplot(412)\n",
    "ax1.boxplot(Thetares[:,0,:],vert=False,showmeans=True )\n",
    "ax2 = fig.add_subplot(413)\n",
    "ax2.boxplot(Thetares[:,1,:],vert=False,showmeans=True )\n",
    "ax3 = fig.add_subplot(414)\n",
    "ax3.boxplot(Thetares[:,2,:],vert=False,showmeans=True )\n",
    "ax0.title.set_text('beta')\n",
    "ax1.title.set_text('weight')\n",
    "ax2.title.set_text('mean')\n",
    "ax3.title.set_text('std')\n",
    "plt.show()#显示图像"
   ]
  }
 ],
 "metadata": {
  "interpreter": {
   "hash": "b3ba2566441a7c06988d0923437866b63cedc61552a5af99d1f4fb67d367b25f"
  },
  "kernelspec": {
   "display_name": "Python 3.8.5 64-bit ('base': conda)",
   "language": "python",
   "name": "python3"
  },
  "language_info": {
   "codemirror_mode": {
    "name": "ipython",
    "version": 3
   },
   "file_extension": ".py",
   "mimetype": "text/x-python",
   "name": "python",
   "nbconvert_exporter": "python",
   "pygments_lexer": "ipython3",
   "version": "3.8.5"
  },
  "orig_nbformat": 4
 },
 "nbformat": 4,
 "nbformat_minor": 2
}
