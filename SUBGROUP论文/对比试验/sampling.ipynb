{
 "cells": [
  {
   "cell_type": "code",
   "execution_count": 1,
   "metadata": {},
   "outputs": [],
   "source": [
    "import numpy as np\n",
    "import matplotlib.pyplot as plt"
   ]
  },
  {
   "cell_type": "code",
   "execution_count": 27,
   "metadata": {},
   "outputs": [],
   "source": [
    "N=100\n",
    "P=5\n",
    "M=3\n",
    "weight=[ 1/3  , 1/3 , 1/3]\n",
    "mean=  [  -2  ,  0  ,  2 ]\n",
    "covs=  [  0.5 , 0.5 , 0.5 ]#标准差\n",
    "Theta=np.array([weight,mean,covs])"
   ]
  },
  {
   "cell_type": "code",
   "execution_count": 28,
   "metadata": {},
   "outputs": [],
   "source": [
    "#定义各组样本量的界点\n",
    "subnum=np.zeros(M-1)\n",
    "subnum[0]=N*weight[0]\n",
    "weight1=np.zeros(M+1)\n",
    "weight1[0]=0\n",
    "weight1[M]=1\n",
    "for i in range(1,M-1):\n",
    "    subnum[i]=subnum[i-1]+N*weight[i]\n",
    "for i in range(1,M):\n",
    "    weight1[i]=np.sum(weight[:i])"
   ]
  },
  {
   "cell_type": "code",
   "execution_count": 24,
   "metadata": {},
   "outputs": [
    {
     "data": {
      "text/plain": [
       "array([0.84823459, 0.64306967, 0.61342573, 0.77565738, 0.85973448])"
      ]
     },
     "execution_count": 24,
     "metadata": {},
     "output_type": "execute_result"
    }
   ],
   "source": [
    "#beta的生成\n",
    "np.random.seed(123)\n",
    "'''\n",
    "Beta=0.5*(np.random.rand(100,5)+1)\n",
    "'''\n",
    "betat=np.array([0.84823459, 0.64306967, 0.61342573, 0.77565738, 0.85973448])\n",
    "betat"
   ]
  },
  {
   "cell_type": "code",
   "execution_count": 21,
   "metadata": {},
   "outputs": [],
   "source": [
    "#x的生成\n",
    "def creatX():\n",
    "    mu=np.array([0,0,0,0,0])\n",
    "    cov=np.array([[1,0.3,0.3,0.3,0.3],[0.3,1,0.3,0.3,0.3],[0.3,0.3,1,0.3,0.3],[0.3,0.3,0.3,1,0.3],[0.3,0.3,0.3,0.3,1]])\n",
    "    X=np.random.multivariate_normal(mu,cov,N,check_valid='raise')\n",
    "    return X"
   ]
  },
  {
   "cell_type": "code",
   "execution_count": null,
   "metadata": {},
   "outputs": [],
   "source": [
    "def creatY(Xs):\n",
    "    Y=np.zeros(N)\n",
    "    tgroup=np.zeros(N)\n",
    "    for i in range(N):\n",
    "        a=np.random.rand()\n",
    "        for j in range(M):\n",
    "            if a>=weight1[j] and a<=weight1[j+1]:\n",
    "                Y[i]=np.dot(Xs[i],betat)+np.random.normal(Theta[1,j],Theta[2,j])\n",
    "                tgroup[i]=int(j)\n",
    "    return Y,tgroup"
   ]
  },
  {
   "cell_type": "code",
   "execution_count": null,
   "metadata": {},
   "outputs": [],
   "source": [
    "samples=np.zeros((N,1000))\n",
    "sgroup=np.zeros((N,1000))\n",
    "for i in range(1000):\n",
    "    sam=creatY()\n",
    "    samples[:,i]=sam[0]\n",
    "    sgroup[:,i]=sam[1]"
   ]
  }
 ],
 "metadata": {
  "interpreter": {
   "hash": "b3ba2566441a7c06988d0923437866b63cedc61552a5af99d1f4fb67d367b25f"
  },
  "kernelspec": {
   "display_name": "Python 3.8.5 64-bit ('base': conda)",
   "language": "python",
   "name": "python3"
  },
  "language_info": {
   "codemirror_mode": {
    "name": "ipython",
    "version": 3
   },
   "file_extension": ".py",
   "mimetype": "text/x-python",
   "name": "python",
   "nbconvert_exporter": "python",
   "pygments_lexer": "ipython3",
   "version": "3.8.5"
  },
  "orig_nbformat": 4
 },
 "nbformat": 4,
 "nbformat_minor": 2
}
