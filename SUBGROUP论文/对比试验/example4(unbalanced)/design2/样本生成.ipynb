{
 "cells": [
  {
   "cell_type": "code",
   "execution_count": 1,
   "metadata": {},
   "outputs": [],
   "source": [
    "import numpy as np\n",
    "import matplotlib.pyplot as plt"
   ]
  },
  {
   "cell_type": "code",
   "execution_count": 2,
   "metadata": {},
   "outputs": [],
   "source": [
    "N=100\n",
    "P=5\n",
    "M=3\n",
    "weight=[ 0.1  , 0.3 , 0.6]\n",
    "mean=  [  -2  ,  0  ,  2 ]\n",
    "covs=  [  0.5 , 0.5 , 0.5 ]#标准差\n",
    "Theta=np.array([weight,mean,covs])"
   ]
  },
  {
   "cell_type": "code",
   "execution_count": 3,
   "metadata": {},
   "outputs": [],
   "source": [
    "#定义各组样本量的界点\n",
    "subnum=np.zeros(M-1)\n",
    "subnum[0]=N*weight[0]\n",
    "weight1=np.zeros(M+1)\n",
    "weight1[0]=0\n",
    "weight1[M]=1\n",
    "for i in range(1,M-1):\n",
    "    subnum[i]=subnum[i-1]+N*weight[i]\n",
    "for i in range(1,M):\n",
    "    weight1[i]=np.sum(weight[:i])"
   ]
  },
  {
   "cell_type": "code",
   "execution_count": 4,
   "metadata": {},
   "outputs": [
    {
     "data": {
      "text/plain": [
       "array([0.84823459, 0.64306967, 0.61342573, 0.77565738, 0.85973448])"
      ]
     },
     "execution_count": 4,
     "metadata": {},
     "output_type": "execute_result"
    }
   ],
   "source": [
    "#beta的生成\n",
    "np.random.seed(123)\n",
    "'''\n",
    "Beta=0.5*(np.random.rand(100,5)+1)\n",
    "'''\n",
    "betat=0.5*np.random.rand(5)+0.5\n",
    "betat"
   ]
  },
  {
   "cell_type": "code",
   "execution_count": 5,
   "metadata": {},
   "outputs": [],
   "source": [
    "#x的生成\n",
    "def creatX():#X[i,j]表示第i个样本第j维分量\n",
    "    mu=np.array([0,0,0,0,0])\n",
    "    cov=np.array([[1,0.3,0.3,0.3,0.3],[0.3,1,0.3,0.3,0.3],[0.3,0.3,1,0.3,0.3],[0.3,0.3,0.3,1,0.3],[0.3,0.3,0.3,0.3,1]])\n",
    "    X=np.random.multivariate_normal(mu,cov,N,check_valid='raise')\n",
    "    return X"
   ]
  },
  {
   "cell_type": "code",
   "execution_count": 6,
   "metadata": {},
   "outputs": [],
   "source": [
    "def creatY(Xs):#一次实验生成的样本情况，Y[i]表示第i个样本的响应变量\n",
    "    Y=np.zeros(N)\n",
    "    hatY=np.zeros(N)\n",
    "    tgroup=np.zeros(N)\n",
    "    for i in range(N):\n",
    "        a=np.random.rand()\n",
    "        for j in range(M):\n",
    "            if a>=weight1[j] and a<=weight1[j+1]:\n",
    "                hatY[i]=np.dot(Xs[i],betat)\n",
    "                Y[i]=hatY[i]+np.random.normal(Theta[1,j],Theta[2,j])\n",
    "                tgroup[i]=int(j)\n",
    "                break\n",
    "    return Y,tgroup,hatY"
   ]
  },
  {
   "cell_type": "code",
   "execution_count": 7,
   "metadata": {},
   "outputs": [],
   "source": [
    "#100次实验，每次100个样本，sampleY[i,j]表示第i次实验第j个样本的响应变量\n",
    "sampleY=np.zeros((100,N))\n",
    "#sgroup[i,j]表示第i次实验第j个样本的真实组数\n",
    "sgroup=np.zeros((100,N))\n",
    "#sampleX[i,j,k]表示第i次实验第j个样本的第h个分量\n",
    "sampleX=np.zeros((100,N,5))\n",
    "trueY=np.zeros((100,N))\n",
    "for i in range(100):\n",
    "    Xi=creatX()\n",
    "    sam=creatY(Xi)\n",
    "    sampleX[i]=Xi\n",
    "    trueY[i]=sam[2]\n",
    "    sampleY[i]=sam[0]\n",
    "    sgroup[i]=sam[1]"
   ]
  },
  {
   "cell_type": "code",
   "execution_count": 8,
   "metadata": {},
   "outputs": [],
   "source": [
    "np.save('sampleY.npy',sampleY)\n",
    "np.save('sgroup.npy',sgroup)\n",
    "np.save('sampleX.npy',sampleX)\n",
    "np.save('trueY.npy',trueY)"
   ]
  }
 ],
 "metadata": {
  "interpreter": {
   "hash": "b3ba2566441a7c06988d0923437866b63cedc61552a5af99d1f4fb67d367b25f"
  },
  "kernelspec": {
   "display_name": "Python 3.8.5 64-bit ('base': conda)",
   "language": "python",
   "name": "python3"
  },
  "language_info": {
   "codemirror_mode": {
    "name": "ipython",
    "version": 3
   },
   "file_extension": ".py",
   "mimetype": "text/x-python",
   "name": "python",
   "nbconvert_exporter": "python",
   "pygments_lexer": "ipython3",
   "version": "3.8.5"
  },
  "orig_nbformat": 4
 },
 "nbformat": 4,
 "nbformat_minor": 2
}
