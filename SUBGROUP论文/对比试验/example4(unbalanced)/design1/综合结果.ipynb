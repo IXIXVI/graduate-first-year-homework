{
 "cells": [
  {
   "cell_type": "code",
   "execution_count": 1,
   "metadata": {},
   "outputs": [],
   "source": [
    "import numpy as np\n",
    "import func\n",
    "import matplotlib.pyplot as plt\n",
    "from sklearn.metrics.cluster import rand_score\n",
    "from sklearn.metrics import mean_squared_error\n",
    "from sklearn.metrics.cluster import adjusted_rand_score"
   ]
  },
  {
   "cell_type": "code",
   "execution_count": 2,
   "metadata": {},
   "outputs": [
    {
     "data": {
      "text/plain": [
       "(array([0.84823459, 0.64306967, 0.61342573, 0.77565738, 0.85973448]),\n",
       " array([[ 0.2,  0.3,  0.5],\n",
       "        [-2. ,  0. ,  2. ],\n",
       "        [ 0.5,  0.5,  0.5]]))"
      ]
     },
     "execution_count": 2,
     "metadata": {},
     "output_type": "execute_result"
    }
   ],
   "source": [
    "N=100\n",
    "P=5\n",
    "M=3\n",
    "weight=[ 0.2  , 0.3 , 0.5]\n",
    "mean=  [  -2  ,  0  ,  2 ]\n",
    "covs=  [  0.5 , 0.5 , 0.5 ]#标准差\n",
    "Theta=np.array([weight,mean,covs])\n",
    "np.random.seed(123)\n",
    "betat=0.5*np.random.rand(5)+0.5\n",
    "betat,Theta"
   ]
  },
  {
   "cell_type": "code",
   "execution_count": 3,
   "metadata": {},
   "outputs": [],
   "source": [
    "sampleY=np.load('sampleY.npy')#sampleY[i,j]表示第i次实验第j个样本的响应变量\n",
    "sampleX=np.load('sampleX.npy')#sampleX[i,j,k]表示第i次实验第j个样本的第h个分量\n",
    "Betares=np.load('Betares.npy')#Betares[i]表示第i次实验的所有样本估计所得的beta\n",
    "Thetares=np.load('Thetares.npy')#Thetares[i]表示第i次实验的所有样本估计所得的Theta\n",
    "sgroup=np.load('sgroup.npy')#sgroup[i,j]表示第i次实验第j个样本的真实亚组\n",
    "predclass=np.load('predclass.npy')\n",
    "RMSEofMu=np.load('RMSEofMu.npy')\n",
    "RMSEofbeta=np.load('RMSEofbeta.npy')"
   ]
  },
  {
   "cell_type": "code",
   "execution_count": 4,
   "metadata": {},
   "outputs": [],
   "source": [
    "bias=np.zeros((100,100))#bias[i,j]表示第i次实验第j个样本的真实值与预测值的偏差\n",
    "for i in range(100):\n",
    "    bias[i]=sampleY[i]-np.dot(sampleX[i],Betares[i])"
   ]
  },
  {
   "cell_type": "code",
   "execution_count": 5,
   "metadata": {},
   "outputs": [],
   "source": [
    "predgroup=np.zeros((100,100,M))#predgroup[i,j,h]表示第i次实验第j个样本属于第h组的后验概率\n",
    "for i in range(100):\n",
    "    predgroup[i]=func.Lih(bias[i],Thetares[i])"
   ]
  },
  {
   "cell_type": "code",
   "execution_count": 6,
   "metadata": {},
   "outputs": [],
   "source": [
    "predclass=np.zeros((100,100))#predclass[i,j]表示第i次实验第j个样本的预测类别\n",
    "for i in range(100):\n",
    "    for j in range(100):\n",
    "        predclass[i,j]=predgroup[i,j].argmax()"
   ]
  },
  {
   "cell_type": "code",
   "execution_count": 7,
   "metadata": {},
   "outputs": [],
   "source": [
    "predmu=np.zeros((100,100))\n",
    "smu=np.zeros((100,100))\n",
    "for i in range(100):\n",
    "    for j in range(100):\n",
    "        predmu[i,j]=2*(predclass[i,j]-1)\n",
    "        smu[i,j]=2*(sgroup[i,j]-1)"
   ]
  },
  {
   "cell_type": "code",
   "execution_count": 8,
   "metadata": {},
   "outputs": [],
   "source": [
    "RMSEofMu=np.zeros(100)\n",
    "for i in range(100):\n",
    "    RMSEofMu[i]=np.sqrt(np.linalg.norm(predmu[i]-smu[i]))/(np.sqrt(100))"
   ]
  },
  {
   "cell_type": "code",
   "execution_count": 9,
   "metadata": {},
   "outputs": [],
   "source": [
    "RMSEofbeta=np.zeros(100)\n",
    "for i in range(100):\n",
    "    RMSEofbeta[i]=np.sqrt(np.linalg.norm(Betares[i]-betat))/(np.sqrt(100))"
   ]
  },
  {
   "cell_type": "code",
   "execution_count": 10,
   "metadata": {},
   "outputs": [],
   "source": [
    "np.save('predclass.npy',predclass)\n",
    "np.save('RMSEofbeta.npy',RMSEofbeta)\n",
    "np.save('RMSEofMu.npy',RMSEofMu)"
   ]
  },
  {
   "cell_type": "code",
   "execution_count": 11,
   "metadata": {},
   "outputs": [
    {
     "data": {
      "text/plain": [
       "\"\\n#这里直接读取回来，不必要重新运算\\npredclass=np.load('predclass.npy')\\nRMSEofMu=np.load('RMSEofMu.npy')\\nRMSEofbeta=np.load('RMSEofbeta.npy')\\n\""
      ]
     },
     "execution_count": 11,
     "metadata": {},
     "output_type": "execute_result"
    }
   ],
   "source": [
    "\"\"\"\n",
    "#这里直接读取回来，不必要重新运算\n",
    "predclass=np.load('predclass.npy')\n",
    "RMSEofMu=np.load('RMSEofMu.npy')\n",
    "RMSEofbeta=np.load('RMSEofbeta.npy')\n",
    "\"\"\""
   ]
  },
  {
   "cell_type": "code",
   "execution_count": 12,
   "metadata": {},
   "outputs": [
    {
     "data": {
      "text/plain": [
       "(0.20984605496585254, 0.04320893350159584)"
      ]
     },
     "execution_count": 12,
     "metadata": {},
     "output_type": "execute_result"
    }
   ],
   "source": [
    "#100次实验mu和beta估计的RMSE的均值\n",
    "np.mean(RMSEofMu),np.mean(RMSEofbeta)"
   ]
  },
  {
   "cell_type": "markdown",
   "metadata": {},
   "source": [
    "标准误差（英文：Standard Error），也称标准误，即样本平均数抽样分布的标准差（英文：Standard Deviation），是描述对应的样本平均数抽样分布的离散程度及衡量对应样本平均数抽样误差大小的尺度"
   ]
  },
  {
   "cell_type": "code",
   "execution_count": 13,
   "metadata": {},
   "outputs": [
    {
     "data": {
      "text/plain": [
       "(0.03923010507540417, 0.00947027608008052)"
      ]
     },
     "execution_count": 13,
     "metadata": {},
     "output_type": "execute_result"
    }
   ],
   "source": [
    "np.std(RMSEofMu),np.std(RMSEofbeta)"
   ]
  },
  {
   "cell_type": "code",
   "execution_count": 11,
   "metadata": {},
   "outputs": [
    {
     "data": {
      "text/plain": [
       "array([0.09717927, 0.09497327, 0.10562657, 0.09256163, 0.08513797])"
      ]
     },
     "execution_count": 11,
     "metadata": {},
     "output_type": "execute_result"
    }
   ],
   "source": [
    "#beta各分量的MSE\n",
    "np.sqrt(np.sum((Betares-betat)**2,axis=0)/N)"
   ]
  },
  {
   "cell_type": "code",
   "execution_count": 14,
   "metadata": {},
   "outputs": [
    {
     "data": {
      "text/plain": [
       "array([[0.04778632, 0.07462287, 0.06571999],\n",
       "       [0.17382598, 0.2032138 , 0.11783401],\n",
       "       [0.15428588, 0.18061671, 0.07944484]])"
      ]
     },
     "execution_count": 14,
     "metadata": {},
     "output_type": "execute_result"
    }
   ],
   "source": [
    "np.sqrt(np.sum((Thetares-Theta)**2,axis=0)/N)"
   ]
  },
  {
   "cell_type": "code",
   "execution_count": 15,
   "metadata": {},
   "outputs": [],
   "source": [
    "#1000次实验的每次正确率\n",
    "Cratio=np.zeros((100,100))#Cratio[i,j]表示第i次实验第j个样本是否预测正确\n",
    "for i in range(100):\n",
    "    for j in range(100):\n",
    "        if predclass[i,j]==sgroup[i,j]:\n",
    "            Cratio[i,j]=1\n",
    "cr=np.sum(Cratio,axis=1)/100"
   ]
  },
  {
   "cell_type": "code",
   "execution_count": 19,
   "metadata": {},
   "outputs": [
    {
     "data": {
      "text/plain": [
       "0.035738494652125447"
      ]
     },
     "execution_count": 19,
     "metadata": {},
     "output_type": "execute_result"
    }
   ],
   "source": [
    "np.std(cr)"
   ]
  },
  {
   "cell_type": "code",
   "execution_count": 15,
   "metadata": {},
   "outputs": [
    {
     "data": {
      "image/png": "[encoded data removed]",
      "text/plain": [
       "<Figure size 432x288 with 1 Axes>"
      ]
     },
     "metadata": {
      "needs_background": "light"
     },
     "output_type": "display_data"
    }
   ],
   "source": [
    "plt.boxplot(cr,vert=False,showmeans=True )\n",
    "plt.show()"
   ]
  },
  {
   "cell_type": "code",
   "execution_count": 20,
   "metadata": {},
   "outputs": [],
   "source": [
    "#1000次实验的RI index（兰德系数，表示聚类精度）\n",
    "RIindex=np.zeros(100)\n",
    "for i in range(100):\n",
    "    RIindex[i]=rand_score(sgroup[i],predclass[i])"
   ]
  },
  {
   "cell_type": "code",
   "execution_count": 26,
   "metadata": {},
   "outputs": [
    {
     "data": {
      "text/plain": [
       "(0.9272626262626262, 0.9356565656565656, 0.045586254746066694)"
      ]
     },
     "execution_count": 26,
     "metadata": {},
     "output_type": "execute_result"
    }
   ],
   "source": [
    "np.mean(RIindex),np.median(RIindex),np.std(RIindex)"
   ]
  },
  {
   "cell_type": "code",
   "execution_count": 24,
   "metadata": {},
   "outputs": [
    {
     "data": {
      "image/png": "[encoded data removed]",
      "text/plain": [
       "<Figure size 216x360 with 1 Axes>"
      ]
     },
     "metadata": {
      "needs_background": "light"
     },
     "output_type": "display_data"
    }
   ],
   "source": [
    "fig = plt.figure(figsize=(3,5))\n",
    "plt.boxplot(RIindex,vert=True,showmeans=True )\n",
    "plt.ylim(0.3, 1)\n",
    "plt.show()"
   ]
  },
  {
   "cell_type": "code",
   "execution_count": 18,
   "metadata": {},
   "outputs": [
    {
     "data": {
      "text/plain": [
       "(array([0.85014034, 0.63689244, 0.60728442, 0.77390326, 0.86418655]),\n",
       " array([[ 0.20087077,  0.31079631,  0.48833292],\n",
       "        [-1.99416745,  0.00854237,  2.01899517],\n",
       "        [ 0.42392627,  0.50395981,  0.48135751]]))"
      ]
     },
     "execution_count": 18,
     "metadata": {},
     "output_type": "execute_result"
    }
   ],
   "source": [
    "np.mean(Betares,axis=0),np.mean(Thetares,axis=0)"
   ]
  },
  {
   "cell_type": "code",
   "execution_count": 19,
   "metadata": {},
   "outputs": [
    {
     "data": {
      "text/plain": [
       "(array([0.00944018, 0.00898176, 0.01111926, 0.00856458, 0.00722865]),\n",
       " array([[0.00228277, 0.00545201, 0.004183  ],\n",
       "        [0.03018145, 0.04122288, 0.01352404],\n",
       "        [0.01801692, 0.03260672, 0.00596394]]))"
      ]
     },
     "execution_count": 19,
     "metadata": {},
     "output_type": "execute_result"
    }
   ],
   "source": [
    "np.var(Betares,axis=0),np.var(Thetares,axis=0)"
   ]
  },
  {
   "cell_type": "code",
   "execution_count": 20,
   "metadata": {},
   "outputs": [
    {
     "data": {
      "image/png": "[encoded data removed]",
      "text/plain": [
       "<Figure size 648x864 with 4 Axes>"
      ]
     },
     "metadata": {
      "needs_background": "light"
     },
     "output_type": "display_data"
    }
   ],
   "source": [
    "fig = plt.figure(figsize=(9,12))\n",
    "ax0 = fig.add_subplot(411)\n",
    "ax0.boxplot(Betares,vert=False,showmeans=True )\n",
    "ax1 = fig.add_subplot(412)\n",
    "ax1.boxplot(Thetares[:,0,:],vert=False,showmeans=True )\n",
    "ax2 = fig.add_subplot(413)\n",
    "ax2.boxplot(Thetares[:,1,:],vert=False,showmeans=True )\n",
    "ax3 = fig.add_subplot(414)\n",
    "ax3.boxplot(Thetares[:,2,:],vert=False,showmeans=True )\n",
    "ax0.title.set_text('beta')\n",
    "ax1.title.set_text('weight')\n",
    "ax2.title.set_text('mean')\n",
    "ax3.title.set_text('std')\n",
    "plt.show()#显示图像"
   ]
  }
 ],
 "metadata": {
  "interpreter": {
   "hash": "b3ba2566441a7c06988d0923437866b63cedc61552a5af99d1f4fb67d367b25f"
  },
  "kernelspec": {
   "display_name": "Python 3.8.5 64-bit ('base': conda)",
   "language": "python",
   "name": "python3"
  },
  "language_info": {
   "codemirror_mode": {
    "name": "ipython",
    "version": 3
   },
   "file_extension": ".py",
   "mimetype": "text/x-python",
   "name": "python",
   "nbconvert_exporter": "python",
   "pygments_lexer": "ipython3",
   "version": "3.8.5"
  },
  "orig_nbformat": 4
 },
 "nbformat": 4,
 "nbformat_minor": 2
}
