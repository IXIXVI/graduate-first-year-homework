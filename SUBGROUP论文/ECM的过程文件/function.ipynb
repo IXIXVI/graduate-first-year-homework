{
 "cells": [
  {
   "cell_type": "code",
   "execution_count": 1,
   "metadata": {},
   "outputs": [],
   "source": [
    "import matplotlib.pyplot as plt\n",
    "import numpy as np\n",
    "from sklearn.linear_model import LinearRegression"
   ]
  },
  {
   "cell_type": "code",
   "execution_count": 3,
   "metadata": {},
   "outputs": [],
   "source": [
    "def ECM(Xs,Y,betaold,thetaold,theta0,tp=0.25):\n",
    "    P=Xs.shape[1]\n",
    "    num=Xs.shape[0]\n",
    "    data=Y-np.dot(Xs,betaold.T)\n",
    "    L0=Lih(data,thetaold)\n",
    "    C=thetaold.shape[1]\n",
    "    d=np.zeros(C)\n",
    "    thetanext=np.zeros((3,C))\n",
    "\n",
    "    ai=np.zeros(num)\n",
    "    bi=np.zeros(num)\n",
    "    for i in range (num):\n",
    "        for h in range(C):\n",
    "            bi[i]+=(L0[i,h])/((thetaold[2,h])**2)\n",
    "            ai[i]+=((L0[i,h])*((Y[i,0]-thetaold[1,h])))/((thetaold[2,h])**2)\n",
    "\n",
    "    xnew=np.zeros((num,P))\n",
    "    for i in range(n):\n",
    "        xnew[i]=x[i]*bi[i]\n",
    "\n",
    "    betanew=np.dot(np.dot(np.linalg.inv(np.dot(xnew.T,Xs)),Xs.T),ai)\n",
    "\n",
    "    datanew=Y-np.dot(Xs,betanew.T)\n",
    "    for k in range(C):#更新参数\n",
    "        d[k]=np.sum(L0[:,k])\n",
    "        thetanext[0,k]=d[k]/num\n",
    "        thetanext[1,k]=np.dot(L0[:,k],datanew[:])/d[k]\n",
    "        thetanext[2,k]=np.sqrt((np.dot(L0[:,k],(datanew[:]-thetanext[1,k])**2)+2*tp*theta0[2,k])/(d[k]+2*tp))#标准差\n",
    "\n",
    "    return betanew,thetanext"
   ]
  }
 ],
 "metadata": {
  "interpreter": {
   "hash": "b3ba2566441a7c06988d0923437866b63cedc61552a5af99d1f4fb67d367b25f"
  },
  "kernelspec": {
   "display_name": "Python 3.8.5 64-bit ('base': conda)",
   "name": "python3"
  },
  "language_info": {
   "codemirror_mode": {
    "name": "ipython",
    "version": 3
   },
   "file_extension": ".py",
   "mimetype": "text/x-python",
   "name": "python",
   "nbconvert_exporter": "python",
   "pygments_lexer": "ipython3",
   "version": "3.8.5"
  },
  "orig_nbformat": 4
 },
 "nbformat": 4,
 "nbformat_minor": 2
}
