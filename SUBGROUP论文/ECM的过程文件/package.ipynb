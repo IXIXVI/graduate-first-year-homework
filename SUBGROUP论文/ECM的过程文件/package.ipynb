{
 "cells": [
  {
   "cell_type": "code",
   "execution_count": null,
   "metadata": {},
   "outputs": [],
   "source": [
    "import numpy as np"
   ]
  },
  {
   "cell_type": "code",
   "execution_count": null,
   "metadata": {},
   "outputs": [],
   "source": [
    "def normal(x,theta):\n",
    "    mu=theta[0]\n",
    "    s=theta[1]#标准差\n",
    "    result=(1/(np.sqrt(2*np.pi)*s))*np.exp(-1*(x-mu)**2/(2*s**2))\n",
    "    return result\n",
    "\n",
    "def mixnormal(x,theta):\n",
    "    m=theta.shape[0]\n",
    "    result=0\n",
    "    for i in range(m):\n",
    "        result+=theta[0,1]*normal(x,theta[1:,i])\n",
    "    return result"
   ]
  },
  {
   "cell_type": "code",
   "execution_count": null,
   "metadata": {},
   "outputs": [],
   "source": [
    "def Lih(X,theta):\n",
    "    num=X.shape[0]\n",
    "    C=theta.shape[1]\n",
    "    Ga=np.zeros((num,C))\n",
    "    c=np.zeros(C)\n",
    "\n",
    "    for j in range(num):#响应度\n",
    "        for k in range(C):\n",
    "            c[k]=theta[0,k]*normal(X[j],theta[1:,k])\n",
    "        Ga[j]=c/np.sum(c)\n",
    "\n",
    "    return Ga"
   ]
  },
  {
   "cell_type": "code",
   "execution_count": null,
   "metadata": {},
   "outputs": [],
   "source": [
    "def ECM(Xs,Y,betaold,thetaold,theta0,tp=0.25):\n",
    "    P=Xs.shape[1]\n",
    "    num=Xs.shape[0]\n",
    "    data=Y-np.dot(Xs,betaold.T)\n",
    "    L0=Lih(data,thetaold)\n",
    "    C=thetaold.shape[1]\n",
    "    d=np.zeros(C)\n",
    "    thetanext=np.zeros((3,C))\n",
    "\n",
    "    ai=np.zeros(num)\n",
    "    bi=np.zeros(num)\n",
    "    for i in range (num):\n",
    "        for h in range(C):\n",
    "            bi[i]+=(L0[i,h])/((thetaold[2,h])**2)\n",
    "            ai[i]+=((L0[i,h])*((Y[i]-thetaold[1,h])))/((thetaold[2,h])**2)\n",
    "\n",
    "    xnew=np.zeros((num,P))\n",
    "    for i in range(num):\n",
    "        xnew[i]=Xs[i]*bi[i]\n",
    "\n",
    "    betanew=np.dot(np.dot(np.linalg.inv(np.dot(xnew.T,Xs)),Xs.T),ai)\n",
    "\n",
    "    datanew=Y-np.dot(Xs,betanew.T)\n",
    "    for k in range(C):#更新参数\n",
    "        d[k]=np.sum(L0[:,k])\n",
    "        thetanext[0,k]=d[k]/num\n",
    "        thetanext[1,k]=np.dot(L0[:,k],datanew[:])/d[k]\n",
    "        thetanext[2,k]=np.sqrt((np.dot(L0[:,k],(datanew[:]-thetanext[1,k])**2)+2*tp*theta0[2,k])/(d[k]+2*tp))#标准差\n",
    "\n",
    "    return betanew,thetanext\n",
    "\n",
    "\n",
    "def iterECM(Xs,Y,beta0,theta0,tp=0.25,N=1000,ε=0.005):\n",
    "    T0=[beta0,theta0]\n",
    "    for i in range(N):\n",
    "        a=T0[0]\n",
    "        T0=ECM(Xs,Y,T0[0],T0[1],theta0,tp)\n",
    "        b=np.linalg.norm(T0[0]-a)\n",
    "        '''\n",
    "        if b<=ε:\n",
    "            break\n",
    "        '''\n",
    "    return T0,b,i"
   ]
  },
  {
   "cell_type": "code",
   "execution_count": null,
   "metadata": {},
   "outputs": [],
   "source": [
    "def ps(x,y,an=0.25):#对方差的惩罚函数\n",
    "    z=-an*(np.log(x**2/y**2)+(y**2/x**2)-1)\n",
    "    return z\n",
    "\n",
    "def pa(α,C=1):#对系数的惩罚函数\n",
    "    z=C*np.log(1-abs(1-2*α))\n",
    "    return z\n",
    "\n",
    "def ln(x,t1,t2,α):#单个样本的混合正态的对数似然\n",
    "    n=x.shape[0]\n",
    "    y=np.zeros(n)\n",
    "    for i in range(n):\n",
    "        y[i]=np.log(mixnormal(x[i],t1,t2,α))\n",
    "    return y\n",
    "\n",
    "def pl(x,t1,t2,α):#混合正态的惩罚联合对数似然\n",
    "    y=np.sum(ln(x,t1,t2,α))+ps(t1[1],svar)+ps(t2[1],svar)+pa(α)\n",
    "    return y\n",
    "\n",
    "def ln0(x,th):#原假设下的惩罚对数似然\n",
    "    n=x.shape[0]\n",
    "    y=np.zeros(n)\n",
    "    for i in range(n):\n",
    "        y[i]=np.log(normal(x[i],th))\n",
    "    z=np.sum(y)\n",
    "    return z"
   ]
  },
  {
   "cell_type": "code",
   "execution_count": null,
   "metadata": {},
   "outputs": [],
   "source": []
  }
 ],
 "metadata": {
  "interpreter": {
   "hash": "b3ba2566441a7c06988d0923437866b63cedc61552a5af99d1f4fb67d367b25f"
  },
  "kernelspec": {
   "display_name": "Python 3.8.5 64-bit ('base': conda)",
   "name": "python3"
  },
  "language_info": {
   "codemirror_mode": {
    "name": "ipython",
    "version": 3
   },
   "file_extension": ".py",
   "mimetype": "text/x-python",
   "name": "python",
   "nbconvert_exporter": "python",
   "pygments_lexer": "ipython3",
   "version": "3.8.5"
  },
  "orig_nbformat": 4
 },
 "nbformat": 4,
 "nbformat_minor": 2
}
