{
 "cells": [
  {
   "cell_type": "code",
   "execution_count": 1,
   "metadata": {},
   "outputs": [],
   "source": [
    "import numpy as np\n",
    "import matplotlib.pyplot as plt"
   ]
  },
  {
   "cell_type": "code",
   "execution_count": 2,
   "metadata": {},
   "outputs": [],
   "source": [
    "N=500\n",
    "P=2\n",
    "M=3\n",
    "weight=[ 0.2 ,0.4, 0.4]\n",
    "mean=  [-2.5 , 0 ,  3 ]\n",
    "covs=  [  1  ,0.7,  1 ]#标准差\n",
    "Theta=np.array([weight,mean,covs])\n",
    "betat=np.array([0.3 , 0.5])"
   ]
  },
  {
   "cell_type": "code",
   "execution_count": 3,
   "metadata": {},
   "outputs": [],
   "source": [
    "#定义各组样本量的界点\n",
    "subnum=np.zeros(M-1)\n",
    "subnum[0]=N*weight[0]\n",
    "weight1=np.zeros(M+1)\n",
    "weight1[0]=0\n",
    "weight1[M]=1\n",
    "for i in range(1,M-1):\n",
    "    subnum[i]=subnum[i-1]+N*weight[i]\n",
    "for i in range(1,M):\n",
    "    weight1[i]=np.sum(weight[:i])"
   ]
  },
  {
   "cell_type": "code",
   "execution_count": 4,
   "metadata": {},
   "outputs": [
    {
     "data": {
      "text/plain": [
       "array([0. , 0.2, 0.6, 1. ])"
      ]
     },
     "execution_count": 4,
     "metadata": {},
     "output_type": "execute_result"
    }
   ],
   "source": [
    "weight1"
   ]
  },
  {
   "cell_type": "markdown",
   "metadata": {},
   "source": [
    "# 问题一：x是否需要随机生成？"
   ]
  },
  {
   "cell_type": "code",
   "execution_count": 5,
   "metadata": {},
   "outputs": [
    {
     "data": {
      "text/plain": [
       "[<matplotlib.lines.Line2D at 0x1d6397d34c0>]"
      ]
     },
     "execution_count": 5,
     "metadata": {},
     "output_type": "execute_result"
    },
    {
     "data": {
      "image/png": "[encoded data removed]",
      "text/plain": [
       "<Figure size 432x288 with 1 Axes>"
      ]
     },
     "metadata": {
      "needs_background": "light"
     },
     "output_type": "display_data"
    }
   ],
   "source": [
    "np.random.seed(123)\n",
    "mu=np.array([0,0])\n",
    "cov=np.array([[2,1],[1,2]])\n",
    "X=np.random.multivariate_normal(mu,cov,N,check_valid='raise')\n",
    "plt.plot(X[:,0],X[:,1],'o')"
   ]
  },
  {
   "cell_type": "code",
   "execution_count": 6,
   "metadata": {},
   "outputs": [],
   "source": [
    "np.savetxt('X.csv',X,delimiter=',')"
   ]
  },
  {
   "cell_type": "markdown",
   "metadata": {},
   "source": [
    "# 根据y=xβ+γ，随机生成Y"
   ]
  },
  {
   "cell_type": "markdown",
   "metadata": {},
   "source": [
    "def creatY():\n",
    "    Y=np.zeros((N,2))\n",
    "    for i in range(N):\n",
    "        a=np.random.rand()\n",
    "        for j in range(M):\n",
    "            if a>=weight1[j] and a<=weight1[j+1]:\n",
    "                Y[i,0]=np.dot(X[i],betat)+np.random.normal(Theta[1,j],Theta[2,j])\n",
    "                Y[i,1]=j\n",
    "    return Y"
   ]
  },
  {
   "cell_type": "code",
   "execution_count": 7,
   "metadata": {},
   "outputs": [],
   "source": [
    "def creatY():\n",
    "    Y=np.zeros(N)\n",
    "    tgroup=np.zeros(N)\n",
    "    for i in range(N):\n",
    "        a=np.random.rand()\n",
    "        for j in range(M):\n",
    "            if a>=weight1[j] and a<=weight1[j+1]:\n",
    "                Y[i]=np.dot(X[i],betat)+np.random.normal(Theta[1,j],Theta[2,j])\n",
    "                tgroup[i]=int(j)\n",
    "    return Y,tgroup"
   ]
  },
  {
   "cell_type": "code",
   "execution_count": 8,
   "metadata": {},
   "outputs": [],
   "source": [
    "samples=np.zeros((N,1000))\n",
    "sgroup=np.zeros((N,1000))\n",
    "for i in range(1000):\n",
    "    sam=creatY()\n",
    "    samples[:,i]=sam[0]\n",
    "    sgroup[:,i]=sam[1]"
   ]
  },
  {
   "cell_type": "code",
   "execution_count": 10,
   "metadata": {},
   "outputs": [],
   "source": [
    "np.savetxt('Y1000.csv',samples,delimiter=',')\n",
    "np.savetxt('sgroup.csv',sgroup,delimiter=',')"
   ]
  }
 ],
 "metadata": {
  "interpreter": {
   "hash": "b3ba2566441a7c06988d0923437866b63cedc61552a5af99d1f4fb67d367b25f"
  },
  "kernelspec": {
   "display_name": "Python 3.8.5 64-bit ('base': conda)",
   "name": "python3"
  },
  "language_info": {
   "codemirror_mode": {
    "name": "ipython",
    "version": 3
   },
   "file_extension": ".py",
   "mimetype": "text/x-python",
   "name": "python",
   "nbconvert_exporter": "python",
   "pygments_lexer": "ipython3",
   "version": "3.8.5"
  },
  "orig_nbformat": 4
 },
 "nbformat": 4,
 "nbformat_minor": 2
}
