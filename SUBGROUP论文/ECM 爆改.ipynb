{
 "cells": [
  {
   "cell_type": "code",
   "execution_count": 1,
   "metadata": {},
   "outputs": [],
   "source": [
    "import numpy as np\n",
    "import matplotlib.pyplot as plt"
   ]
  },
  {
   "cell_type": "markdown",
   "metadata": {},
   "source": [
    "# 样本"
   ]
  },
  {
   "cell_type": "markdown",
   "metadata": {},
   "source": [
    "## 样本生成\n",
    "用于生成（0,1]间的随机数  \n",
    "缺点：不能很好的控制各亚组的样本数量"
   ]
  },
  {
   "cell_type": "markdown",
   "metadata": {},
   "source": [
    "# H0m=m0 v.s. H1:m>m0 下的参数估计"
   ]
  },
  {
   "cell_type": "code",
   "execution_count": 2,
   "metadata": {},
   "outputs": [],
   "source": [
    "def normal(x,theta):\n",
    "    mu=theta[0]\n",
    "    s=theta[1]#标准差\n",
    "    result=(1/(np.sqrt(2*np.pi)*s))*np.exp(-1*(x-mu)**2/(2*s**2))\n",
    "    return result\n",
    "\n",
    "def mixnormal(x,theta):\n",
    "    m=theta.shape[1]\n",
    "    result=0\n",
    "    for i in range(m):\n",
    "        result+=theta[0,i]*normal(x,theta[1:,i])\n",
    "    return result\n",
    "\n",
    "def Lih(X,theta):\n",
    "    num=X.shape[0]\n",
    "    C=theta.shape[1]\n",
    "    Ga=np.zeros((num,C))\n",
    "    c=np.zeros(C)\n",
    "\n",
    "    for j in range(num):#响应度\n",
    "        for k in range(C):\n",
    "            c[k]=theta[0,k]*normal(X[j],theta[1:,k])\n",
    "        Ga[j]=c/np.sum(c)\n",
    "\n",
    "    return Ga"
   ]
  },
  {
   "cell_type": "code",
   "execution_count": 3,
   "metadata": {},
   "outputs": [],
   "source": [
    "data0=np.loadtxt(\"C:/Users/Administrator/Desktop/a.csv\",delimiter=\",\")"
   ]
  },
  {
   "cell_type": "code",
   "execution_count": 4,
   "metadata": {},
   "outputs": [],
   "source": [
    "Ca=1\n",
    "tp=0.068"
   ]
  },
  {
   "cell_type": "code",
   "execution_count": 5,
   "metadata": {},
   "outputs": [],
   "source": [
    "def ps(x,y,an=0.25):#对方差的惩罚函数\n",
    "    z=-an*(np.log(x**2/y**2)+(y**2/x**2)-1)\n",
    "    return z\n",
    "\n",
    "def pa(α):#对系数的惩罚函数\n",
    "    z=Ca*np.log(1-abs(1-2*α))\n",
    "    return z"
   ]
  },
  {
   "cell_type": "markdown",
   "metadata": {},
   "source": [
    "## H0下的最大惩罚似然计算"
   ]
  },
  {
   "cell_type": "code",
   "execution_count": 6,
   "metadata": {},
   "outputs": [],
   "source": [
    "'''\n",
    "原假设下的惩罚对数似然,这里只对方差惩罚，不对α惩罚\n",
    "因为H0为m=1时有惩罚似然最大中在α=0.5取到，自然设置α=0.5\n",
    "H0为m=m0>=2时，有充分的理由认为不会发生不可识别问题，即αh(h=1,2,...,m0)不会落在界点上\n",
    "'''\n",
    "def pl0(data,theta,tp):\n",
    "    n=data.shape[0]\n",
    "    m=theta.shape[1]\n",
    "    y=np.zeros(n)\n",
    "    ssvar=np.var(data)\n",
    "    a=0\n",
    "    for h in range(m):\n",
    "        a+=ps(theta[2,h],ssvar,tp)\n",
    "    for i in range(n):\n",
    "        y[i]=np.log(mixnormal(data[i],theta))\n",
    "    z=np.sum(y)+a\n",
    "    return z"
   ]
  },
  {
   "cell_type": "code",
   "execution_count": 7,
   "metadata": {},
   "outputs": [],
   "source": [
    "def ECMforH0(data,thetaold,theta0):\n",
    "    num=data.shape[0]\n",
    "    L0=Lih(data,thetaold)\n",
    "    C=thetaold.shape[1]\n",
    "    d=np.zeros(C)\n",
    "    thetanext=np.zeros((3,C))\n",
    "\n",
    "    datanew=data\n",
    "    for k in range(C):#更新参数\n",
    "        d[k]=np.sum(L0[:,k])\n",
    "        thetanext[0,k]=d[k]/num\n",
    "        thetanext[1,k]=np.dot(L0[:,k],datanew[:])/d[k]\n",
    "        thetanext[2,k]=np.sqrt((np.dot(L0[:,k],(datanew[:]-thetanext[1,k])**2)+2*tp*theta0[2,k])/(d[k]+2*tp))#标准差\n",
    "\n",
    "    return thetanext\n"
   ]
  },
  {
   "cell_type": "code",
   "execution_count": 44,
   "metadata": {},
   "outputs": [],
   "source": [
    "def iterECMforH0(data,theta0,N=1000):\n",
    "    T0=theta0\n",
    "    for i in range(N):\n",
    "        T0=ECMforH0(data,T0,theta0)\n",
    "\n",
    "    return T0,i"
   ]
  },
  {
   "cell_type": "markdown",
   "metadata": {},
   "source": [
    "### 获取H0下的最优估计"
   ]
  },
  {
   "cell_type": "markdown",
   "metadata": {},
   "source": [
    "#### beta的初值"
   ]
  },
  {
   "cell_type": "markdown",
   "metadata": {},
   "source": [
    "#### 其他参数的初值选取"
   ]
  },
  {
   "cell_type": "markdown",
   "metadata": {},
   "source": [
    "#### H0:m=1"
   ]
  },
  {
   "cell_type": "code",
   "execution_count": 9,
   "metadata": {},
   "outputs": [
    {
     "data": {
      "image/png": "[encoded data removed]",
      "text/plain": [
       "<Figure size 720x360 with 1 Axes>"
      ]
     },
     "metadata": {
      "needs_background": "light"
     },
     "output_type": "display_data"
    }
   ],
   "source": [
    "fig = plt.figure(figsize=(10,5))\n",
    "ax1 = fig.add_subplot()\n",
    "ax1.hist(data0, bins=100,  facecolor=\"blue\", edgecolor=\"black\", alpha=0.7)\n",
    "plt.show()"
   ]
  },
  {
   "cell_type": "code",
   "execution_count": 10,
   "metadata": {},
   "outputs": [
    {
     "data": {
      "text/plain": [
       "array([[0.5       ],\n",
       "       [0.26322632],\n",
       "       [0.09831687]])"
      ]
     },
     "execution_count": 10,
     "metadata": {},
     "output_type": "execute_result"
    }
   ],
   "source": [
    "smean=np.mean(data0)\n",
    "sstd=np.std(data0)\n",
    "ssvar=np.var(data0)\n",
    "stheta0=np.array([[0.5],[smean],[sstd]])\n",
    "stheta0#样本均值与样本的标准差"
   ]
  },
  {
   "cell_type": "code",
   "execution_count": 11,
   "metadata": {},
   "outputs": [
    {
     "data": {
      "text/plain": [
       "38.507853786571495"
      ]
     },
     "execution_count": 11,
     "metadata": {},
     "output_type": "execute_result"
    }
   ],
   "source": [
    "sr00=pl0(data0,stheta0,tp=0.25)\n",
    "sr00"
   ]
  },
  {
   "cell_type": "markdown",
   "metadata": {},
   "source": [
    "#### H0:m>=2（待改进）"
   ]
  },
  {
   "cell_type": "code",
   "execution_count": 12,
   "metadata": {},
   "outputs": [],
   "source": [
    "m0=2#H0的假设\n",
    "weight0=[0.6,0.4]\n",
    "mean0=[0.2,0.3]\n",
    "#分位数定均值初值\n",
    "covs0=[0.05,0.05]\n",
    "theta0=np.array([weight0,mean0,covs0])"
   ]
  },
  {
   "cell_type": "code",
   "execution_count": 13,
   "metadata": {},
   "outputs": [
    {
     "name": "stdout",
     "output_type": "stream",
     "text": [
      " 初值:\n",
      " 参数初值:\n",
      " [[0.6  0.4 ]\n",
      " [0.2  0.3 ]\n",
      " [0.05 0.05]]\n"
     ]
    }
   ],
   "source": [
    "print(' 初值:\\n','参数初值:\\n',theta0)"
   ]
  },
  {
   "cell_type": "code",
   "execution_count": 14,
   "metadata": {},
   "outputs": [
    {
     "data": {
      "text/plain": [
       "(array([[0.66700302, 0.33299698],\n",
       "        [0.22104328, 0.3477202 ],\n",
       "        [0.05733803, 0.10918555]]),\n",
       " 49)"
      ]
     },
     "execution_count": 14,
     "metadata": {},
     "output_type": "execute_result"
    }
   ],
   "source": [
    "result=iterECMforH0(data0,theta0,50)\n",
    "result"
   ]
  },
  {
   "cell_type": "code",
   "execution_count": 15,
   "metadata": {},
   "outputs": [
    {
     "data": {
      "text/plain": [
       "array([0.00328765, 0.01192149])"
      ]
     },
     "execution_count": 15,
     "metadata": {},
     "output_type": "execute_result"
    }
   ],
   "source": [
    "result[0][2]**2"
   ]
  },
  {
   "cell_type": "code",
   "execution_count": 16,
   "metadata": {},
   "outputs": [],
   "source": [
    "thetaH0=result[0]"
   ]
  },
  {
   "cell_type": "code",
   "execution_count": 17,
   "metadata": {},
   "outputs": [
    {
     "data": {
      "text/plain": [
       "187.60295004539233"
      ]
     },
     "execution_count": 17,
     "metadata": {},
     "output_type": "execute_result"
    }
   ],
   "source": [
    "#H0下的惩罚似然\n",
    "sr01=pl0(data0,thetaH0,tp)\n",
    "sr01"
   ]
  },
  {
   "cell_type": "markdown",
   "metadata": {},
   "source": [
    "## H1下的似然计算"
   ]
  },
  {
   "cell_type": "markdown",
   "metadata": {},
   "source": [
    "#混合正态的惩罚联合对数似然,注意这里的x为Yi-Xi.T*beta,k表示第k个初始值\n",
    "def pl1(k,data,theta,th0,C=1):\n",
    "    n=data.shape[0]\n",
    "    m=th0.shape[1]\n",
    "    y=np.zeros(n)\n",
    "    a=0\n",
    "    for h in range(m):\n",
    "        a+=ps(theta[2,(2*h)],th0[2,h],tp)+ps(theta[2,(2*h+1)],th0[2,h],tp)+pa(theta[0,2*h],C)+pa(theta[k,(2*h+1)],C)\n",
    "    for i in range(n):\n",
    "        y[i]=np.log(mixnormal(data[i],theta))\n",
    "    z=np.sum(y)+a\n",
    "    return z"
   ]
  },
  {
   "cell_type": "code",
   "execution_count": 18,
   "metadata": {},
   "outputs": [],
   "source": [
    "#混合正态的惩罚联合对数似然,注意这里的x为Yi-Xi.T*beta\n",
    "def pl1(k,data,theta,th0):\n",
    "    n=data.shape[0]\n",
    "    m=th0.shape[1]\n",
    "    y=np.zeros(n)\n",
    "    a=0\n",
    "    for h in range(m):\n",
    "        a+=ps(theta[2,(2*h)],th0[2,h],tp)+ps(theta[2,(2*h+1)],th0[2,h],tp)+pa(aa[k,h])\n",
    "    for i in range(n):\n",
    "        y[i]=np.log(mixnormal(data[i],theta))\n",
    "    z=np.sum(y)+a\n",
    "    return z"
   ]
  },
  {
   "cell_type": "code",
   "execution_count": 52,
   "metadata": {},
   "outputs": [],
   "source": [
    "#用来对固定权重迭代参数的ECM，不更新权重\n",
    "def ECMff(data,thetaold,theta0):\n",
    "    L0=Lih(data,thetaold)\n",
    "    C=thetaold.shape[1]\n",
    "    d=np.zeros(C)\n",
    "    thetanext=np.zeros((3,C))\n",
    "\n",
    "    datanew=data\n",
    "    for k in range(C):#更新参数\n",
    "        d[k]=np.sum(L0[:,k])\n",
    "        thetanext[0,k]=theta0[0,k]#这里不更新权重\n",
    "        thetanext[1,k]=np.dot(L0[:,k],datanew[:])/d[k]\n",
    "        thetanext[2,k]=np.sqrt((np.dot(L0[:,k],(datanew[:]-thetanext[1,k])**2)+2*tp*theta0[2,k])/(d[k]+2*tp))#标准差\n",
    "\n",
    "    return thetanext\n"
   ]
  },
  {
   "cell_type": "code",
   "execution_count": 45,
   "metadata": {},
   "outputs": [],
   "source": [
    "def iterECMff(data,theta0,N=1000):\n",
    "    T0=theta0\n",
    "    for i in range(N):\n",
    "        T0=ECMff(data,T0,theta0)\n",
    "    return T0,i"
   ]
  },
  {
   "cell_type": "code",
   "execution_count": 62,
   "metadata": {},
   "outputs": [],
   "source": [
    "#对于H1下的一次迭代的参数估计\n",
    "def ECMforH1(data,thetaold,theta0):\n",
    "    num=data.shape[0]\n",
    "    L0=Lih(data,thetaold)\n",
    "    C=thetaold.shape[1]\n",
    "    d=np.zeros(C)\n",
    "    thetanext=np.zeros((3,C))\n",
    "\n",
    "\n",
    "    datanew=data\n",
    "    for k in range(C):#更新参数\n",
    "        d[k]=np.sum(L0[:,k])\n",
    "        if (d[k]/num) <= 0.5:\n",
    "            if (d[k]+Ca)/(num+Ca) <= 0.5:\n",
    "                thetanext[0,k]=(d[k]+Ca)/(num+Ca)\n",
    "            else:\n",
    "                thetanext[0,k]=0.5\n",
    "        else:\n",
    "            if ((d[k])/(num+Ca)) > 0.5:\n",
    "                thetanext[0,k]=(d[k]+C)/(num+Ca)\n",
    "            else:\n",
    "                thetanext[0,k]=0.5\n",
    "\n",
    "        thetanext[1,k]=np.dot(L0[:,k],datanew[:])/d[k]\n",
    "        thetanext[2,k]=np.sqrt((np.dot(L0[:,k],(datanew[:]-thetanext[1,k])**2)+2*tp*theta0[2,k])/(d[k]+2*tp))#标准差\n",
    "\n",
    "    return thetanext\n"
   ]
  },
  {
   "cell_type": "code",
   "execution_count": 77,
   "metadata": {},
   "outputs": [],
   "source": [
    "def iterECMforH1(data,theta0,N=1000):\n",
    "    T0=theta0\n",
    "    for i in range(N):\n",
    "        T0=ECMforH1(data,T0,theta0)\n",
    "\n",
    "    return T0,i"
   ]
  },
  {
   "cell_type": "markdown",
   "metadata": {},
   "source": [
    "### step 0 设定不同的初值\n",
    "m0个数组的排列问题  \n",
    "当m0为确定的数时，只需要套m0个循环即可  \n",
    "如果m0未知，无法用上述想法做了，可以将循环问题转为递归问题  \n",
    "或者用查询的方法做"
   ]
  },
  {
   "cell_type": "code",
   "execution_count": 23,
   "metadata": {},
   "outputs": [],
   "source": [
    "m0=2"
   ]
  },
  {
   "cell_type": "code",
   "execution_count": 24,
   "metadata": {},
   "outputs": [],
   "source": [
    "Weight=np.array([0.1,0.9,0.3,0.7,0.5])\n",
    "Weight0=np.zeros((5**m0,2*m0))#H1下的初始权重\n",
    "aa=np.zeros((5**m0,m0))"
   ]
  },
  {
   "cell_type": "code",
   "execution_count": 25,
   "metadata": {},
   "outputs": [],
   "source": [
    "for i in range (5**m0):\n",
    "    for j in range(m0):\n",
    "        a=np.floor(i/(5**(m0-j-1)))\n",
    "        if a>4:\n",
    "            a=a-5*np.floor(a/5)\n",
    "        b=int(a)\n",
    "        aa[i,j]=Weight[b]\n",
    "        Weight0[i,2*j]=Weight[b]*thetaH0[0,j]\n",
    "        Weight0[i,2*j+1]=(1-Weight[b])*thetaH0[0,j]"
   ]
  },
  {
   "cell_type": "markdown",
   "metadata": {},
   "source": [
    "### step 1 固定参数的不同初值下，分别选取使得惩罚似然达到最大的正态参数\n",
    "（ECMff多次迭代即可）"
   ]
  },
  {
   "cell_type": "code",
   "execution_count": 28,
   "metadata": {},
   "outputs": [
    {
     "data": {
      "text/plain": [
       "array([[0.66700302, 0.33299698],\n",
       "       [0.22104328, 0.3477202 ],\n",
       "       [0.05733803, 0.10918555]])"
      ]
     },
     "execution_count": 28,
     "metadata": {},
     "output_type": "execute_result"
    }
   ],
   "source": [
    "thetaH0"
   ]
  },
  {
   "cell_type": "code",
   "execution_count": 32,
   "metadata": {},
   "outputs": [
    {
     "data": {
      "text/plain": [
       "array([[0.66700302, 0.33299698],\n",
       "       [0.22104328, 0.3477202 ],\n",
       "       [0.05733803, 0.10918555]])"
      ]
     },
     "execution_count": 32,
     "metadata": {},
     "output_type": "execute_result"
    }
   ],
   "source": [
    "result[0]"
   ]
  },
  {
   "cell_type": "code",
   "execution_count": 93,
   "metadata": {},
   "outputs": [
    {
     "data": {
      "text/plain": [
       "array([[0.33350151, 0.33350151, 0.0332997 , 0.29969728],\n",
       "       [0.33350151, 0.33350151, 0.29969728, 0.0332997 ],\n",
       "       [0.33350151, 0.33350151, 0.09989909, 0.23309789],\n",
       "       [0.33350151, 0.33350151, 0.23309789, 0.09989909],\n",
       "       [0.33350151, 0.33350151, 0.16649849, 0.16649849]])"
      ]
     },
     "execution_count": 93,
     "metadata": {},
     "output_type": "execute_result"
    }
   ],
   "source": [
    "Weight0[-5:]"
   ]
  },
  {
   "cell_type": "code",
   "execution_count": 83,
   "metadata": {},
   "outputs": [
    {
     "data": {
      "text/plain": [
       "'\\nTh[i]表示第i个权重初值下的最佳参数初值  \\nBe[i]表示第i个权重初值下的最佳斜率初值  \\n以上均作为最早的初值参与迭代\\n'"
      ]
     },
     "execution_count": 83,
     "metadata": {},
     "output_type": "execute_result"
    }
   ],
   "source": [
    "Th=np.zeros((5**m0,3,2*m0))\n",
    "for i in range(5**m0):\n",
    "    thetan=np.array((Weight0[i],[0.15,0.25,0.3,0.4],[0.025,0.025,0.05,0.05]))\n",
    "    res=iterECMff(data0,thetan,100)\n",
    "    Th[i]=res[0]\n",
    "\n",
    "'''\n",
    "Th[i]表示第i个权重初值下的最佳参数初值  \n",
    "Be[i]表示第i个权重初值下的最佳斜率初值  \n",
    "以上均作为最早的初值参与迭代\n",
    "'''"
   ]
  },
  {
   "cell_type": "markdown",
   "metadata": {},
   "source": [
    "### step 2 分别选定初始参数后的迭代（只需迭代几次）"
   ]
  },
  {
   "cell_type": "code",
   "execution_count": 84,
   "metadata": {},
   "outputs": [],
   "source": [
    "rs=np.zeros(5**m0)\n",
    "Th1=np.zeros((5**m0,3,2*m0))\n",
    "for i in range(5**m0):\n",
    "    res=iterECMforH1(data0,Th[i],30)\n",
    "    Th1[i]=res[0]\n",
    "    rs[i]=pl1(i,data0,Th1[i],stheta0)"
   ]
  },
  {
   "cell_type": "code",
   "execution_count": 86,
   "metadata": {},
   "outputs": [
    {
     "data": {
      "text/plain": [
       "array([193.21941529, 193.33555006, 193.14321315, 193.25445746,\n",
       "       193.21779225, 192.88774514, 193.30425704, 193.13441399,\n",
       "       193.23518015, 193.20641684, 191.57570411, 191.60366297,\n",
       "       191.47121383, 191.55557854, 191.52459118, 191.38637533,\n",
       "       191.5436225 , 191.40555639, 191.47608481, 191.44695687,\n",
       "       192.04073936, 192.08843273, 191.92277163, 192.01534599,\n",
       "       191.9722435 ])"
      ]
     },
     "execution_count": 86,
     "metadata": {},
     "output_type": "execute_result"
    }
   ],
   "source": [
    "rs"
   ]
  },
  {
   "cell_type": "code",
   "execution_count": 87,
   "metadata": {},
   "outputs": [
    {
     "data": {
      "text/plain": [
       "array([11.23293049, 11.46520003, 11.0805262 , 11.30301482, 11.22968442,\n",
       "       10.56959019, 11.40261398, 11.06292788, 11.2644602 , 11.20693358,\n",
       "        7.94550813,  8.00142585,  7.73652758,  7.90525698,  7.84328226,\n",
       "        7.56685057,  7.88134491,  7.6052127 ,  7.74626953,  7.68801366,\n",
       "        8.87557864,  8.97096538,  8.63964318,  8.82479189,  8.73858692])"
      ]
     },
     "execution_count": 87,
     "metadata": {},
     "output_type": "execute_result"
    }
   ],
   "source": [
    "2*(rs-sr01)"
   ]
  },
  {
   "cell_type": "code",
   "execution_count": 88,
   "metadata": {},
   "outputs": [
    {
     "data": {
      "text/plain": [
       "11.465200030569974"
      ]
     },
     "execution_count": 88,
     "metadata": {},
     "output_type": "execute_result"
    }
   ],
   "source": [
    "np.max(2*(rs-sr01))"
   ]
  },
  {
   "cell_type": "code",
   "execution_count": 89,
   "metadata": {},
   "outputs": [],
   "source": [
    "zx=np.where(2*(rs-sr01)==np.max(2*(rs-sr01)))"
   ]
  },
  {
   "cell_type": "code",
   "execution_count": 90,
   "metadata": {},
   "outputs": [
    {
     "data": {
      "text/plain": [
       "array([[[0.11676033, 0.61661928, 0.21988919, 0.07814482],\n",
       "        [0.30199093, 0.21389966, 0.32213226, 0.43350878],\n",
       "        [0.09419427, 0.0538599 , 0.08251247, 0.12572828]]])"
      ]
     },
     "execution_count": 90,
     "metadata": {},
     "output_type": "execute_result"
    }
   ],
   "source": [
    "Th1[zx]"
   ]
  },
  {
   "cell_type": "markdown",
   "metadata": {},
   "source": [
    "### step 3\n",
    "每次找出使得H1下惩罚似然达到最大的那个初始参数，计算对应的似然比统计量"
   ]
  },
  {
   "cell_type": "markdown",
   "metadata": {},
   "source": [
    "# EM值计算"
   ]
  },
  {
   "cell_type": "markdown",
   "metadata": {},
   "source": [
    "## ECM的迭代算法\n",
    "```\n",
    "def iterECM(Xs,Y,beta0,theta0,tp=0.002,N=1000,ε=0.005):\n",
    "    T0=[beta0,theta0]\n",
    "    for i in range(N):\n",
    "        a=T0[0]\n",
    "        T0=ECM(Xs,Y,T0[0],T0[1],theta0,tp)\n",
    "        b=np.linalg.norm(T0[0]-a)\n",
    "        '''\n",
    "        if b<=ε:\n",
    "            break\n",
    "        '''\n",
    "    return T0,b,i\n",
    "```"
   ]
  },
  {
   "cell_type": "code",
   "execution_count": null,
   "metadata": {},
   "outputs": [],
   "source": [
    "np.savetxt('b.csv',data0,delimiter=\",\")"
   ]
  },
  {
   "cell_type": "code",
   "execution_count": null,
   "metadata": {},
   "outputs": [],
   "source": [
    "Data=np.loadtxt(\"C:/Users/Administrator/Desktop/a.csv\",delimiter=\",\")"
   ]
  },
  {
   "cell_type": "code",
   "execution_count": null,
   "metadata": {},
   "outputs": [],
   "source": [
    "alpha=[0.1,0.2,0.3]\n",
    "for i in range(3):\n",
    "    "
   ]
  }
 ],
 "metadata": {
  "interpreter": {
   "hash": "b3ba2566441a7c06988d0923437866b63cedc61552a5af99d1f4fb67d367b25f"
  },
  "kernelspec": {
   "display_name": "Python 3.8.5 64-bit ('base': conda)",
   "name": "python3"
  },
  "language_info": {
   "codemirror_mode": {
    "name": "ipython",
    "version": 3
   },
   "file_extension": ".py",
   "mimetype": "text/x-python",
   "name": "python",
   "nbconvert_exporter": "python",
   "pygments_lexer": "ipython3",
   "version": "3.8.5"
  },
  "orig_nbformat": 4
 },
 "nbformat": 4,
 "nbformat_minor": 2
}
