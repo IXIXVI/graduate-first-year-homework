{
 "cells": [
  {
   "cell_type": "code",
   "execution_count": null,
   "metadata": {},
   "outputs": [],
   "source": [
    "import numpy as np"
   ]
  },
  {
   "cell_type": "code",
   "execution_count": null,
   "metadata": {},
   "outputs": [],
   "source": [
    "def normal(x,theta):#一元的正态分布密度函数\n",
    "    mu=theta[0]\n",
    "    s=theta[1]#标准差\n",
    "    result=(1/(np.sqrt(2*np.pi)*s))*np.exp(-1*(x-mu)**2/(2*s**2))\n",
    "    return result\n",
    "\n",
    "def mixnormal(x,theta1,theta2,a):\n",
    "    mu1=theta1[0]\n",
    "    s1=theta1[1]#标准差\n",
    "    mu2=theta2[0]\n",
    "    s2=theta2[1]#标准差\n",
    "    result=a*((1/(np.sqrt(2*np.pi)*s1))*np.exp(-1*(x-mu1)**2/(2*s1**2)))+(1-a)*((1/(np.sqrt(2*np.pi)*s2))*np.exp(-1*(x-mu2)**2/(2*s2**2)))\n",
    "    return result"
   ]
  },
  {
   "cell_type": "code",
   "execution_count": null,
   "metadata": {},
   "outputs": [],
   "source": [
    "def ps(x,y,an=0.25):#对方差的惩罚函数\n",
    "    z=-an*(np.log(x**2/y**2)+(y**2/x**2)-1)\n",
    "    return z\n",
    "\n",
    "def pa(α,C=1):#对系数的惩罚函数\n",
    "    z=C*np.log(1-abs(1-2*α))\n",
    "    return z\n",
    "\n",
    "def ln(x,t1,t2,α):#单个样本的混合正态的对数似然\n",
    "    n=x.shape[0]\n",
    "    y=np.zeros(n)\n",
    "    for i in range(n):\n",
    "        y[i]=np.log(mixnormal(x[i],t1,t2,α))\n",
    "    return y\n",
    "\n",
    "def pl(x,t1,t2,α):#混合正态的惩罚联合对数似然\n",
    "    y=np.sum(ln(x,t1,t2,α))+ps(t1[1],svar)+ps(t2[1],svar)+pa(α)\n",
    "    return y\n",
    "\n",
    "def ln0(x,th):#原假设下的惩罚对数似然\n",
    "    n=x.shape[0]\n",
    "    y=np.zeros(n)\n",
    "    for i in range(n):\n",
    "        y[i]=np.log(normal(x[i],th))\n",
    "    z=np.sum(y)\n",
    "    return z"
   ]
  },
  {
   "cell_type": "code",
   "execution_count": null,
   "metadata": {},
   "outputs": [],
   "source": []
  }
 ],
 "metadata": {
  "language_info": {
   "name": "python"
  },
  "orig_nbformat": 4
 },
 "nbformat": 4,
 "nbformat_minor": 2
}
