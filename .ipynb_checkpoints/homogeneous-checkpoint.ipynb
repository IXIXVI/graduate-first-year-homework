{
 "cells": [
  {
   "cell_type": "code",
   "execution_count": 1,
   "metadata": {},
   "outputs": [],
   "source": [
    "import numpy as np\n",
    "import matplotlib.pyplot as plt\n",
    "from mpl_toolkits.mplot3d import Axes3D"
   ]
  },
  {
   "cell_type": "code",
   "execution_count": 2,
   "metadata": {},
   "outputs": [],
   "source": [
    "np.random.seed(1123)\n",
    "beta=np.random.uniform(0,1,2)"
   ]
  },
  {
   "cell_type": "code",
   "execution_count": 3,
   "metadata": {},
   "outputs": [],
   "source": [
    "def normal(x,theta):#一元的正态分布密度函数\n",
    "    mu=theta[0]\n",
    "    s=theta[1]#标准差\n",
    "    result=(1/(np.sqrt(2*np.pi)*s))*np.exp(-1*(x-mu)**2/(2*s**2))\n",
    "    return result"
   ]
  },
  {
   "cell_type": "code",
   "execution_count": 4,
   "metadata": {},
   "outputs": [],
   "source": [
    "def mixnormal(x,theta1,theta2,a):\n",
    "    mu1=theta1[0]\n",
    "    s1=theta1[1]#标准差\n",
    "    mu2=theta2[0]\n",
    "    s2=theta2[1]#标准差\n",
    "    result=a*((1/(np.sqrt(2*np.pi)*s1))*np.exp(-1*(x-mu1)**2/(2*s1**2)))+(1-a)*((1/(np.sqrt(2*np.pi)*s2))*np.exp(-1*(x-mu2)**2/(2*s2**2)))\n",
    "    return result"
   ]
  },
  {
   "cell_type": "code",
   "execution_count": 5,
   "metadata": {},
   "outputs": [],
   "source": [
    "n=200\n",
    "np.random.seed(123)\n",
    "data=np.random.normal(0.5,2,n)"
   ]
  },
  {
   "cell_type": "code",
   "execution_count": 6,
   "metadata": {},
   "outputs": [
    {
     "data": {
      "text/plain": [
       "(array([ 1.,  0.,  1.,  1.,  1.,  1.,  3.,  3.,  3.,  6.,  7.,  9., 14.,\n",
       "        13., 14., 16., 11., 17., 17.,  8., 11.,  9.,  6.,  7.,  9.,  5.,\n",
       "         1.,  3.,  2.,  1.]),\n",
       " array([-5.96211002, -5.57348609, -5.18486216, -4.79623823, -4.4076143 ,\n",
       "        -4.01899037, -3.63036644, -3.24174251, -2.85311858, -2.46449465,\n",
       "        -2.07587073, -1.6872468 , -1.29862287, -0.90999894, -0.52137501,\n",
       "        -0.13275108,  0.25587285,  0.64449678,  1.03312071,  1.42174464,\n",
       "         1.81036856,  2.19899249,  2.58761642,  2.97624035,  3.36486428,\n",
       "         3.75348821,  4.14211214,  4.53073607,  4.91936   ,  5.30798393,\n",
       "         5.69660785]),\n",
       " <BarContainer object of 30 artists>)"
      ]
     },
     "execution_count": 6,
     "metadata": {},
     "output_type": "execute_result"
    },
    {
     "data": {
      "image/png": "[encoded data removed]",
      "text/plain": [
       "<Figure size 432x288 with 1 Axes>"
      ]
     },
     "metadata": {
      "needs_background": "light"
     },
     "output_type": "display_data"
    }
   ],
   "source": [
    "plt.hist(data, bins=30,  facecolor=\"blue\", edgecolor=\"black\", alpha=0.7)"
   ]
  },
  {
   "cell_type": "code",
   "execution_count": 7,
   "metadata": {},
   "outputs": [
    {
     "data": {
      "text/plain": [
       "array([0.50757351, 2.10476525])"
      ]
     },
     "execution_count": 7,
     "metadata": {},
     "output_type": "execute_result"
    }
   ],
   "source": [
    "smean=np.mean(data)\n",
    "sstd=np.std(data)\n",
    "svar=np.var(data)\n",
    "stheta0=np.array([smean,sstd])\n",
    "stheta0"
   ]
  },
  {
   "cell_type": "code",
   "execution_count": 8,
   "metadata": {},
   "outputs": [],
   "source": [
    "def ps(x,y,an=0.25):#对方差的惩罚\n",
    "    z=-an*(np.log(x**2/y**2)+(y**2/x**2)-1)\n",
    "    return z\n",
    "\n",
    "def pa(α,C=1):#对系数的惩罚\n",
    "    z=C*np.log(1-abs(1-2*α))\n",
    "    return z\n",
    "\n",
    "def ln(x,t1,t2,α):#每个样本的混合正态的对数似然\n",
    "    n=x.shape[0]\n",
    "    y=np.zeros(n)\n",
    "    for i in range(n):\n",
    "        y[i]=np.log(mixnormal(x[i],t1,t2,α))\n",
    "    return y\n",
    "\n",
    "def pl(x,t1,t2,α):#混合正态的惩罚对数似然\n",
    "    y=np.sum(ln(x,t1,t2,α))+ps(t1[1],svar)+ps(t2[1],svar)+pa(α)\n",
    "    return y\n",
    "\n",
    "def ln0(x,th):#原假设下的惩罚对数似然\n",
    "    n=x.shape[0]\n",
    "    y=np.zeros(n)\n",
    "    for i in range(n):\n",
    "        y[i]=np.log(normal(x[i],th))\n",
    "    z=np.sum(y)\n",
    "    return z"
   ]
  },
  {
   "cell_type": "markdown",
   "metadata": {},
   "source": [
    "n2=5\n",
    "m1=5\n",
    "intmu1 = np.linspace(-1,smean,m1)\n",
    "intmu2 = np.linspace(smean+0.01,1,m1)\n",
    "intstd = np.linspace(0.5,1.5,n2)\n",
    "intparameter1 = np.zeros((m1,n2,2))#储存参数\n",
    "intparameter2 = np.zeros((m1,n2,2))\n",
    "for i in range(m1):\n",
    "    for j in range(n2):\n",
    "        intparameter1[i,j,0]=intmu1[i]\n",
    "        intparameter1[i,j,1]=intstd[j]\n",
    "        intparameter2[i,j,0]=intmu2[i]\n",
    "        intparameter2[i,j,1]=intstd[j]\n",
    "\n",
    "ip1 = intparameter1.reshape(1,25,2)[0]\n",
    "ip2 = intparameter2.reshape(1,25,2)[0]"
   ]
  },
  {
   "cell_type": "code",
   "execution_count": 9,
   "metadata": {},
   "outputs": [],
   "source": [
    "n1=5\n",
    "n2=5\n",
    "intmu = np.linspace(-2,2,n1)\n",
    "intstd = np.linspace(0.5,3,n2)\n",
    "intparameter = np.zeros((n1,n2,2))\n",
    "for i in range(n1):\n",
    "    for j in range(n2):\n",
    "        intparameter[i,j,0]=intmu[i]\n",
    "        intparameter[i,j,1]=intstd[j]\n",
    "\n",
    "ip=intparameter.reshape(1,n1*n2,2)[0]"
   ]
  },
  {
   "cell_type": "code",
   "execution_count": 10,
   "metadata": {},
   "outputs": [],
   "source": [
    "beta=[0.1,0.3,0.5]\n",
    "intresult=np.zeros((n1*n2,n1*n2,3))\n",
    "for q in range(n1*n2):\n",
    "    for w in range(n1*n2):\n",
    "        for e in range (3):\n",
    "            intresult[q,w,e]=pl(data,ip[q],ip[w],beta[e])\n"
   ]
  },
  {
   "cell_type": "code",
   "execution_count": 11,
   "metadata": {},
   "outputs": [
    {
     "data": {
      "text/plain": [
       "-432.6284950569455"
      ]
     },
     "execution_count": 11,
     "metadata": {},
     "output_type": "execute_result"
    }
   ],
   "source": [
    "ln0(data,[smean,sstd])"
   ]
  },
  {
   "cell_type": "code",
   "execution_count": 12,
   "metadata": {},
   "outputs": [
    {
     "data": {
      "text/plain": [
       "-434.24451880946435"
      ]
     },
     "execution_count": 12,
     "metadata": {},
     "output_type": "execute_result"
    }
   ],
   "source": [
    "np.max(intresult[:,:,2])"
   ]
  },
  {
   "cell_type": "code",
   "execution_count": 13,
   "metadata": {},
   "outputs": [
    {
     "data": {
      "text/plain": [
       "array([13, 17], dtype=int64)"
      ]
     },
     "execution_count": 13,
     "metadata": {},
     "output_type": "execute_result"
    }
   ],
   "source": [
    "np.array(np.where(intresult==np.max(intresult[:,:,2]))[:2])[0]"
   ]
  },
  {
   "cell_type": "code",
   "execution_count": 14,
   "metadata": {},
   "outputs": [],
   "source": [
    "ab=np.zeros((3,2))\n",
    "for i in range(2):\n",
    "    ab[i]=np.array(np.where(intresult==np.max(intresult[:,:,i]))[:2]).reshape(2)\n",
    "ab[2]=np.array(np.where(intresult==np.max(intresult[:,:,2]))[:2])[0]"
   ]
  },
  {
   "cell_type": "code",
   "execution_count": 15,
   "metadata": {},
   "outputs": [
    {
     "data": {
      "text/plain": [
       "array([[ 2., 17.],\n",
       "       [ 8., 17.],\n",
       "       [13., 17.]])"
      ]
     },
     "execution_count": 15,
     "metadata": {},
     "output_type": "execute_result"
    }
   ],
   "source": [
    "ab"
   ]
  },
  {
   "cell_type": "code",
   "execution_count": 16,
   "metadata": {},
   "outputs": [],
   "source": [
    "weight00=[0.1,0.9]\n",
    "mean00=[ip[int(ab[0,0])][0],ip[int(ab[0,1])][0]]\n",
    "std00=[ip[int(ab[0,0])][1],ip[int(ab[0,1])][1]]\n",
    "theta00=np.array([weight00,mean00,std00])\n",
    "\n",
    "weight01=[0.3,0.7]\n",
    "mean01=[ip[int(ab[1,0])][0],ip[int(ab[1,1])][0]]\n",
    "std01=[ip[int(ab[1,0])][1],ip[int(ab[1,1])][1]]\n",
    "theta01=np.array([weight01,mean01,std01])\n",
    "\n",
    "weight02=[0.5,0.5]\n",
    "mean02=[ip[int(ab[2,0])][0],ip[int(ab[2,1])][0]]\n",
    "std02=[ip[int(ab[2,0])][1],ip[int(ab[2,1])][1]]\n",
    "theta02=np.array([weight02,mean02,std02])\n",
    "\n",
    "theta0=np.zeros((3,3,2))\n",
    "theta0[0]=theta00\n",
    "theta0[1]=theta01\n",
    "theta0[2]=theta02"
   ]
  },
  {
   "cell_type": "code",
   "execution_count": 17,
   "metadata": {},
   "outputs": [],
   "source": [
    "def ModEM(X,theta,C=2,tp=0.25,s=1):#读取sample、order和初值\n",
    "    num=X.shape[0]\n",
    "    Ga=np.zeros((num,C))\n",
    "    c=np.zeros(C)\n",
    "    d=np.zeros(C)\n",
    "    thetanext=np.zeros((3,C))\n",
    "    svar=np.var(X)\n",
    "    \n",
    "    for j in range(num):#响应度\n",
    "        for k in range(C):\n",
    "            c[k]=theta[0][k]*normal(X[j],theta[1:,k])\n",
    "        Ga[j]=c/np.sum(c)\n",
    "\n",
    "    for k in range(C):#更新参数\n",
    "        d[k]=np.sum(Ga[:,k])\n",
    "        thetanext[1,k]=np.dot(Ga[:,k],X[:])/d[k]\n",
    "        thetanext[2,k]=np.sqrt((np.dot(Ga[:,k],(X[:]-theta[1,k])**2)-2*tp*svar)/(d[k]-2*tp))#标准差\n",
    "        if (d[k]/num) <= 0.5:\n",
    "            if (d[k]+s)/(num+s) <= 0.5:\n",
    "                thetanext[0,k]=(d[k]+s)/(num+s)\n",
    "            else:\n",
    "                thetanext[0,k]=0.5\n",
    "        else:\n",
    "            if ((d[k])/(num+s)) >= 0.5:\n",
    "                thetanext[0,k]=(d[k]+C)/(num+s)\n",
    "            else:\n",
    "                thetanext[0,k]=0.5\n",
    "    return thetanext"
   ]
  },
  {
   "cell_type": "code",
   "execution_count": 18,
   "metadata": {},
   "outputs": [],
   "source": [
    "def iterate(X,n,T0,C,tp=0.25):\n",
    "    for j in range (n):\n",
    "        T0=ModEM(X,T0,C,tp)\n",
    "        Mn=2*(pl(X,T0[1:,0],T0[1:,1],T0[0,0])-ln0(X,stheta0))\n",
    "        print('\\n','-'*50,'the',j+1,'th is\\n',T0,'\\nM(',j+1,',α0=',beta[i],')=',Mn)"
   ]
  },
  {
   "cell_type": "code",
   "execution_count": 19,
   "metadata": {},
   "outputs": [
    {
     "data": {
      "text/plain": [
       "array([[[ 0.1  ,  0.9  ],\n",
       "        [-2.   ,  1.   ],\n",
       "        [ 1.75 ,  1.75 ]],\n",
       "\n",
       "       [[ 0.3  ,  0.7  ],\n",
       "        [-1.   ,  1.   ],\n",
       "        [ 2.375,  1.75 ]],\n",
       "\n",
       "       [[ 0.5  ,  0.5  ],\n",
       "        [ 0.   ,  1.   ],\n",
       "        [ 2.375,  1.75 ]]])"
      ]
     },
     "execution_count": 19,
     "metadata": {},
     "output_type": "execute_result"
    }
   ],
   "source": [
    "theta0"
   ]
  },
  {
   "cell_type": "code",
   "execution_count": 20,
   "metadata": {},
   "outputs": [
    {
     "name": "stdout",
     "output_type": "stream",
     "text": [
      "\n",
      " -------------------------------------------------- the 1 th is\n",
      " [[ 0.1226036   0.88734665]\n",
      " [-2.16238786  0.86552286]\n",
      " [ 1.62175302  1.87629077]] \n",
      "M( 1 ,α0= 0.1 )= -7.274147984679985\n",
      "\n",
      " -------------------------------------------------- the 2 th is\n",
      " [[ 0.12303135  0.8869189 ]\n",
      " [-2.09970984  0.85856214]\n",
      " [ 1.52562061  1.89172556]] \n",
      "M( 2 ,α0= 0.1 )= -7.8828344164874125\n",
      "\n",
      " -------------------------------------------------- the 3 th is\n",
      " [[ 0.1236409   0.88630935]\n",
      " [-2.07655264  0.85748411]\n",
      " [ 1.45723469  1.90091112]] \n",
      "M( 3 ,α0= 0.1 )= -8.570426335845127\n",
      "\n",
      " -------------------------------------------------- the 1 th is\n",
      " [[ 0.29359304  0.71635721]\n",
      " [-0.74108374  1.01773956]\n",
      " [ 2.23998389  1.81612145]] \n",
      "M( 1 ,α0= 0.3 )= -4.2163516040021705\n",
      "\n",
      " -------------------------------------------------- the 2 th is\n",
      " [[ 0.2941556   0.71579465]\n",
      " [-0.68702823  0.99699511]\n",
      " [ 2.17486828  1.85935053]] \n",
      "M( 2 ,α0= 0.3 )= -3.6095746621394937\n",
      "\n",
      " -------------------------------------------------- the 3 th is\n",
      " [[ 0.29465794  0.71529231]\n",
      " [-0.65727902  0.98597652]\n",
      " [ 2.13869661  1.8856066 ]] \n",
      "M( 3 ,α0= 0.3 )= -3.3836556857443156\n",
      "\n",
      " -------------------------------------------------- the 1 th is\n",
      " [[0.5        0.5       ]\n",
      " [0.04321057 0.96980444]\n",
      " [2.3038277  1.76215775]] \n",
      "M( 1 ,α0= 0.5 )= -2.8485777145017437\n",
      "\n",
      " -------------------------------------------------- the 2 th is\n",
      " [[0.5        0.5       ]\n",
      " [0.06015035 0.95637615]\n",
      " [2.28889997 1.78660511]] \n",
      "M( 2 ,α0= 0.5 )= -2.6204322933014055\n",
      "\n",
      " -------------------------------------------------- the 3 th is\n",
      " [[0.5        0.5       ]\n",
      " [0.07111765 0.94508144]\n",
      " [2.27855578 1.80575707]] \n",
      "M( 3 ,α0= 0.5 )= -2.46874186053617\n"
     ]
    }
   ],
   "source": [
    "tp=n**(1/5)\n",
    "for i in range(3):\n",
    "    iterate(data,3,theta0[i],2,tp)"
   ]
  }
 ],
 "metadata": {
  "interpreter": {
   "hash": "b3ba2566441a7c06988d0923437866b63cedc61552a5af99d1f4fb67d367b25f"
  },
  "kernelspec": {
   "display_name": "Python 3",
   "language": "python",
   "name": "python3"
  },
  "language_info": {
   "codemirror_mode": {
    "name": "ipython",
    "version": 3
   },
   "file_extension": ".py",
   "mimetype": "text/x-python",
   "name": "python",
   "nbconvert_exporter": "python",
   "pygments_lexer": "ipython3",
   "version": "3.8.5"
  }
 },
 "nbformat": 4,
 "nbformat_minor": 2
}
