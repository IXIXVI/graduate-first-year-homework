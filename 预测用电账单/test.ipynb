{
 "cells": [
  {
   "cell_type": "code",
   "execution_count": null,
   "source": [
    "#python\r\n",
    "import pandas as pd\r\n",
    "import numpy as np\r\n",
    "data=pd.read_csv('data.csv',sep=',')\r\n",
    "data0=pd.Series(data['snum'].values, index=pd.date_range('2018-11-01', freq='D',periods=len(data[\"snum\"])))\r\n",
    "data1=data0.resample('M',label='right').mean()\r\n",
    "data2=data0.resample('BM',label='right').mean()\r\n",
    "data1.to_csv(\"C:\\\\Users\\\\Administrator\\\\Desktop\\\\电费\\\\monthly.csv\",sep=',')\r\n",
    "data2.to_csv(\"C:\\\\Users\\\\Administrator\\\\Desktop\\\\电费\\businessmonthly.csv\",sep=',')"
   ],
   "outputs": [],
   "metadata": {}
  },
  {
   "cell_type": "code",
   "execution_count": null,
   "source": [
    "#R语言\r\n",
    "data<-read.csv(\"C:\\\\Users\\\\Administrator\\\\Desktop\\\\电费\\\\monthly.csv\",header=T)\r\n",
    "data1<-ts(data['X0'],frequency=12,start=c(2018,11))\r\n",
    "p_d_q=auto.arima(data1,trace=T)\r\n",
    "p_d_q\r\n",
    "pre<-arima(data1,order=c(0,1,1),seasonal=list(order=c(0,1,0),period=12),method=\"ML\")\r\n",
    "pre\r\n",
    "arima1\r\n",
    "arima(x = data1, order = c(0, 1, 1), seasonal = list(order = c(0, 1, 0), period = 12), method = \"ML\")\r\n",
    "fore<-forecast(pre,h=6,level=c(99.5))\r\n",
    "fore\r\n",
    "autoplot(pre$residuals)\r\n",
    "plot(fore,ylim=c(100,700))"
   ],
   "outputs": [],
   "metadata": {}
  }
 ],
 "metadata": {
  "orig_nbformat": 4,
  "language_info": {
   "name": "python",
   "version": "3.8.5",
   "mimetype": "text/x-python",
   "codemirror_mode": {
    "name": "ipython",
    "version": 3
   },
   "pygments_lexer": "ipython3",
   "nbconvert_exporter": "python",
   "file_extension": ".py"
  },
  "kernelspec": {
   "name": "python3",
   "display_name": "Python 3.8.5 64-bit ('base': conda)"
  },
  "interpreter": {
   "hash": "b3ba2566441a7c06988d0923437866b63cedc61552a5af99d1f4fb67d367b25f"
  }
 },
 "nbformat": 4,
 "nbformat_minor": 2
}