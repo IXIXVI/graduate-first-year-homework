{
 "cells": [
  {
   "cell_type": "code",
   "execution_count": 9,
   "source": [
    "import pandas as pd\r\n",
    "import numpy as np\r\n",
    "\r\n",
    "rng = pd.date_range('20200101', periods = 12)\r\n",
    "ts = pd.Series(np.arange(12), index = rng)\r\n",
    "print(ts,type(ts))\r\n"
   ],
   "outputs": [
    {
     "output_type": "stream",
     "name": "stdout",
     "text": [
      "2020-01-01     0\n",
      "2020-01-02     1\n",
      "2020-01-03     2\n",
      "2020-01-04     3\n",
      "2020-01-05     4\n",
      "2020-01-06     5\n",
      "2020-01-07     6\n",
      "2020-01-08     7\n",
      "2020-01-09     8\n",
      "2020-01-10     9\n",
      "2020-01-11    10\n",
      "2020-01-12    11\n",
      "Freq: D, dtype: int32 <class 'pandas.core.series.Series'>\n"
     ]
    }
   ],
   "metadata": {}
  },
  {
   "cell_type": "code",
   "execution_count": 8,
   "source": [
    "ts_re = ts.resample('M',label='left').mean()\r\n",
    "print(ts_re, type(ts_re))"
   ],
   "outputs": [
    {
     "output_type": "stream",
     "name": "stdout",
     "text": [
      "2019-12-31    5.5\n",
      "Freq: M, dtype: float64 <class 'pandas.core.series.Series'>\n"
     ]
    }
   ],
   "metadata": {}
  },
  {
   "cell_type": "code",
   "execution_count": 3,
   "source": [
    "ts_re2 = ts.resample('5D').sum()\r\n",
    "print(ts_re2, type(ts_re2))"
   ],
   "outputs": [
    {
     "output_type": "stream",
     "name": "stdout",
     "text": [
      "2020-01-01    10\n",
      "2020-01-06    35\n",
      "2020-01-11    21\n",
      "Freq: 5D, dtype: int32 <class 'pandas.core.series.Series'>\n"
     ]
    }
   ],
   "metadata": {}
  }
 ],
 "metadata": {
  "orig_nbformat": 4,
  "language_info": {
   "name": "python",
   "version": "3.8.5",
   "mimetype": "text/x-python",
   "codemirror_mode": {
    "name": "ipython",
    "version": 3
   },
   "pygments_lexer": "ipython3",
   "nbconvert_exporter": "python",
   "file_extension": ".py"
  },
  "kernelspec": {
   "name": "python3",
   "display_name": "Python 3.8.5 64-bit ('base': conda)"
  },
  "interpreter": {
   "hash": "b3ba2566441a7c06988d0923437866b63cedc61552a5af99d1f4fb67d367b25f"
  }
 },
 "nbformat": 4,
 "nbformat_minor": 2
}