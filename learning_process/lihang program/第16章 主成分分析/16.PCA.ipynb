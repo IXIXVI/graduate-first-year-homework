{
 "cells": [
  {
   "cell_type": "markdown",
   "metadata": {},
   "source": [
    "# 第16章 主成分分析"
   ]
  },
  {
   "cell_type": "markdown",
   "metadata": {},
   "source": [
    "1.假设$x$为$m$ 维随机变量，其均值为$\\mu$，协方差矩阵为$\\Sigma$。\n",
    "\n",
    "考虑由$m$维随机变量$x$到$m$维随机变量$y$的线性变换\n",
    "$$y _ { i } = \\alpha _ { i } ^ { T } x = \\sum _ { k = 1 } ^ { m } \\alpha _ { k i } x _ { k } , \\quad i = 1,2 , \\cdots , m$$\n",
    "\n",
    "其中$\\alpha _ { i } ^ { T } = ( \\alpha _ { 1 i } , \\alpha _ { 2 i } , \\cdots , \\alpha _ { m i } )$。\n",
    "\n",
    "如果该线性变换满足以下条件，则称之为总体主成分：\n",
    "\n",
    "（1）$\\alpha _ { i } ^ { T } \\alpha _ { i } = 1 , i = 1,2 , \\cdots , m$；\n",
    "\n",
    "（2）$\\operatorname { cov } ( y _ { i } , y _ { j } ) = 0 ( i \\neq j )$;\n",
    "\n",
    "（3）变量$y_1$是$x$的所有线性变换中方差最大的；$y_2$是与$y_1$不相关的$x$的所有线性变换中方差最大的；一般地，$y_i$是与$y _ { 1 } , y _ { 2 } , \\cdots , y _ { i - 1 } , ( i = 1,2 , \\cdots , m )$都不相关的$x$的所有线性变换中方差最大的；这时分别称$y _ { 1 } , y _ { 2 } , \\cdots , y _ { m }$为$x$的第一主成分、第二主成分、…、第$m$主成分。\n",
    "\n",
    "2.假设$x$是$m$维随机变量，其协方差矩阵是$\\Sigma$，$\\Sigma$的特征值分别是$\\lambda _ { 1 } \\geq\\lambda _ { 2 } \\geq \\cdots \\geq \\lambda _ { m } \\geq 0$，特征值对应的单位特征向量分别是$\\alpha _ { 1 } , \\alpha _ { 2 } , \\cdots , \\alpha _ { m }$，则$x$的第2主成分可以写作\n",
    "\n",
    "$$y _ { i } = \\alpha _ { i } ^ { T } x = \\sum _ { k = 1 } ^ { m } \\alpha _ { k i } x _ { k } , \\quad i = 1,2 , \\cdots , m$$\n",
    "并且，$x$的第$i$主成分的方差是协方差矩阵$\\Sigma$的第$i$个特征值，即$$\\operatorname { var } ( y _ { i } ) = \\alpha _ { i } ^ { T } \\Sigma \\alpha _ { i } = \\lambda _ { i }$$\n",
    "\n",
    "3.主成分有以下性质：\n",
    "\n",
    "主成分$y$的协方差矩阵是对角矩阵$$\\operatorname { cov } ( y ) = \\Lambda = \\operatorname { diag } ( \\lambda _ { 1 } , \\lambda _ { 2 } , \\cdots , \\lambda _ { m } )$$\n",
    "\n",
    "主成分$y$的方差之和等于随机变量$x$的方差之和\n",
    "$$\\sum _ { i = 1 } ^ { m } \\lambda _ { i } = \\sum _ { i = 1 } ^ { m } \\sigma _ { i i }$$\n",
    "其中$\\sigma _ { i i }$是$x_2$的方差，即协方差矩阵$\\Sigma$的对角线元素。\n",
    "\n",
    "主成分$y_k$与变量$x_2$的相关系数$\\rho ( y _ { k } , x _ { i } )$称为因子负荷量（factor loading），它表示第$k$个主成分$y_k$与变量$x$的相关关系，即$y_k$对$x$的贡献程度。\n",
    "$$\\rho ( y _ { k } , x _ { i } ) = \\frac { \\sqrt { \\lambda _ { k } } \\alpha _ { i k } } { \\sqrt { \\sigma _ { i i } } } , \\quad k , i = 1,2 , \\cdots , m$$\n",
    "\n",
    "4.样本主成分分析就是基于样本协方差矩阵的主成分分析。\n",
    "\n",
    "给定样本矩阵\n",
    "$$X = \\left[ \\begin{array} { l l l l } { x _ { 1 } } & { x _ { 2 } } & { \\cdots } & { x _ { n } } \\end{array} \\right] = \\left[ \\begin{array} { c c c c } { x _ { 11 } } & { x _ { 12 } } & { \\cdots } & { x _ { 1 n } } \\\\ { x _ { 21 } } & { x _ { 22 } } & { \\cdots } & { x _ { 2 n } } \\\\ { \\vdots } & { \\vdots } & { } & { \\vdots } \\\\ { x _ { m 1 } } & { x _ { m 2 } } & { \\cdots } & { x _ { m n } } \\end{array} \\right]$$\n",
    "\n",
    "其中$x _ { j } = ( x _ { 1 j } , x _ { 2 j } , \\cdots , x _ { m j } ) ^ { T }$是$x$的第$j$个独立观测样本，$j=1,2，…,n$。 \n",
    "\n",
    "$X$的样本协方差矩阵\n",
    "$$\\left. \\begin{array} { c } { S = [ s _ { i j } ] _ { m \\times m } , \\quad s _ { i j } = \\frac { 1 } { n - 1 } \\sum _ { k = 1 } ^ { n } ( x _ { i k } - \\overline { x } _ { i } ) ( x _ { j k } - \\overline { x } _ { j } ) } \\\\ { i = 1,2 , \\cdots , m , \\quad j = 1,2 , \\cdots , m } \\end{array} \\right.$$\n",
    "\n",
    "给定样本数据矩阵$X$，考虑向量$x$到$y$的线性变换$$y = A ^ { T } x$$\n",
    "这里\n",
    "$$A = \\left[ \\begin{array} { l l l l } { a _ { 1 } } & { a _ { 2 } } & { \\cdots } & { a _ { m } } \\end{array} \\right] = \\left[ \\begin{array} { c c c c } { a _ { 11 } } & { a _ { 12 } } & { \\cdots } & { a _ { 1 m } } \\\\ { a _ { 21 } } & { a _ { 22 } } & { \\cdots } & { a _ { 2 m } } \\\\ { \\vdots } & { \\vdots } & { } & { \\vdots } \\\\ { a _ { m 1 } } & { a _ { m 2 } } & { \\cdots } & { a _ { m m } } \\end{array} \\right]$$\n",
    "\n",
    "如果该线性变换满足以下条件，则称之为样本主成分。样本第一主成分$y _ { 1 } = a _ { 1 } ^ { T } x$是在$a _ { 1 } ^ { T } a _ { 1 } = 1$条件下，使得$a _ { 1 } ^ { T } x _ { j } ( j = 1,2 , \\cdots , n )$的样本方差$a _ { 1 } ^ { T } S a _ { 1 }$最大的$x$的线性变换；\n",
    "\n",
    "样本第二主成分$y _ { 2 } = a _ { 2 } ^ { T } x$是在$a _ { 2 } ^ { T } a _ { 2 } = 1$和$a _ { 2 } ^ { T } x _ { j }$与$a _ { 1 } ^ { T } x _ { j } ( j = 1,2 , \\cdots , n )$的样本协方差$a _ { 1 } ^ { T } S a _ { 2 } = 0$条件下，使得$a _ { 2 } ^ { T } x _ { j } ( j = 1,2 , \\cdots , n )$的样本方差$a _ { 2 } ^ { T } S a _ { 2 }$最大的$x$的线性变换；\n",
    "\n",
    "一般地，样本第$i$主成分$y _ { i } = a _ { i } ^ { T } x$是在$a _ { i } ^ { T } a _ { i } = 1$和$a _ { i } ^ { T } x _ { j }$与$a _ { k } ^ { T } x _ { j } ( k < i , j = 1,2 , \\cdots , n )$的样本协方差$a _ { k } ^ { T } S a _ { i } = 0$条件下，使得$a _ { i } ^ { T } x _ { j } ( j = 1,2 , \\cdots , n )$的样本方差$a _ { k } ^ { T } S a _ { i }$最大的$x$的线性变换。\n",
    "\n",
    "5.主成分分析方法主要有两种，可以通过相关矩阵的特征值分解或样本矩阵的奇异值分解进行。\n",
    "\n",
    "（1）相关矩阵的特征值分解算法。针对$m \\times n$样本矩阵$X$，求样本相关矩阵\n",
    "$$R = \\frac { 1 } { n - 1 } X X ^ { T }$$\n",
    "再求样本相关矩阵的$k$个特征值和对应的单位特征向量，构造正交矩阵\n",
    "$$V = ( v _ { 1 } , v _ { 2 } , \\cdots , v _ { k } )$$\n",
    "\n",
    "$V$的每一列对应一个主成分，得到$k \\times n$样本主成分矩阵\n",
    "$$Y = V ^ { T } X$$\n",
    "\n",
    "（2）矩阵$X$的奇异值分解算法。针对$m \\times n$样本矩阵$X$ \n",
    "$$X ^ { \\prime } = \\frac { 1 } { \\sqrt { n - 1 } } X ^ { T }$$\n",
    "对矩阵$X ^ { \\prime }$进行截断奇异值分解，保留$k$个奇异值、奇异向量，得到\n",
    "$$X ^ { \\prime } = U S V ^ { T }$$\n",
    "$V$的每一列对应一个主成分，得到$k \\times n$样本主成分矩阵$Y$\n",
    "$$Y = V ^ { T } X$$"
   ]
  },
  {
   "cell_type": "markdown",
   "metadata": {},
   "source": [
    "本章代码直接使用Coursera机器学习课程的第六个编程练习。"
   ]
  },
  {
   "cell_type": "markdown",
   "metadata": {},
   "source": [
    "----\n",
    "PCA（principal components analysis）即主成分分析技术旨在利用降维的思想，把多指标转化为少数几个综合指标。"
   ]
  },
  {
   "cell_type": "code",
   "execution_count": 1,
   "metadata": {},
   "outputs": [],
   "source": [
    "import numpy as np\n",
    "import pandas as pd\n",
    "import matplotlib.pyplot as plt\n",
    "import seaborn as sb\n",
    "from scipy.io import loadmat"
   ]
  },
  {
   "cell_type": "code",
   "execution_count": 2,
   "metadata": {},
   "outputs": [],
   "source": [
    "data = loadmat('data/ex7data1.mat')\n",
    "# data"
   ]
  },
  {
   "cell_type": "code",
   "execution_count": 5,
   "metadata": {},
   "outputs": [
    {
     "output_type": "display_data",
     "data": {
      "text/plain": "<Figure size 864x576 with 1 Axes>",
      "image/svg+xml": "<?xml version=\"1.0\" encoding=\"utf-8\" standalone=\"no\"?>\r\n<!DOCTYPE svg PUBLIC \"-//W3C//DTD SVG 1.1//EN\"\r\n  \"http://www.w3.org/Graphics/SVG/1.1/DTD/svg11.dtd\">\r\n<!-- Created with matplotlib (https://matplotlib.org/) -->\r\n<svg height=\"465.958125pt\" version=\"1.1\" viewBox=\"0 0 697.3625 465.958125\" width=\"697.3625pt\" xmlns=\"http://www.w3.org/2000/svg\" xmlns:xlink=\"http://www.w3.org/1999/xlink\">\r\n <metadata>\r\n  <rdf:RDF xmlns:cc=\"http://creativecommons.org/ns#\" xmlns:dc=\"http://purl.org/dc/elements/1.1/\" xmlns:rdf=\"http://www.w3.org/1999/02/22-rdf-syntax-ns#\">\r\n   <cc:Work>\r\n    <dc:type rdf:resource=\"http://purl.org/dc/dcmitype/StillImage\"/>\r\n    <dc:date>2021-04-01T22:56:49.654416</dc:date>\r\n    <dc:format>image/svg+xml</dc:format>\r\n    <dc:creator>\r\n     <cc:Agent>\r\n      <dc:title>Matplotlib v3.3.2, https://matplotlib.org/</dc:title>\r\n     </cc:Agent>\r\n    </dc:creator>\r\n   </cc:Work>\r\n  </rdf:RDF>\r\n </metadata>\r\n <defs>\r\n  <style type=\"text/css\">*{stroke-linecap:butt;stroke-linejoin:round;}</style>\r\n </defs>\r\n <g id=\"figure_1\">\r\n  <g id=\"patch_1\">\r\n   <path d=\"M 0 465.958125 \r\nL 697.3625 465.958125 \r\nL 697.3625 0 \r\nL 0 0 \r\nz\r\n\" style=\"fill:none;\"/>\r\n  </g>\r\n  <g id=\"axes_1\">\r\n   <g id=\"patch_2\">\r\n    <path d=\"M 20.5625 442.08 \r\nL 690.1625 442.08 \r\nL 690.1625 7.2 \r\nL 20.5625 7.2 \r\nz\r\n\" style=\"fill:#ffffff;\"/>\r\n   </g>\r\n   <g id=\"PathCollection_1\">\r\n    <defs>\r\n     <path d=\"M 0 3 \r\nC 0.795609 3 1.55874 2.683901 2.12132 2.12132 \r\nC 2.683901 1.55874 3 0.795609 3 0 \r\nC 3 -0.795609 2.683901 -1.55874 2.12132 -2.12132 \r\nC 1.55874 -2.683901 0.795609 -3 0 -3 \r\nC -0.795609 -3 -1.55874 -2.683901 -2.12132 -2.12132 \r\nC -2.683901 -1.55874 -3 -0.795609 -3 0 \r\nC -3 0.795609 -2.683901 1.55874 -2.12132 2.12132 \r\nC -1.55874 2.683901 -0.795609 3 0 3 \r\nz\r\n\" id=\"m0d5ee7c3c6\" style=\"stroke:#1f77b4;\"/>\r\n    </defs>\r\n    <g clip-path=\"url(#pcd0e0ee776)\">\r\n     <use style=\"fill:#1f77b4;stroke:#1f77b4;\" x=\"334.235135\" xlink:href=\"#m0d5ee7c3c6\" y=\"377.315168\"/>\r\n     <use style=\"fill:#1f77b4;stroke:#1f77b4;\" x=\"481.726615\" xlink:href=\"#m0d5ee7c3c6\" y=\"159.999557\"/>\r\n     <use style=\"fill:#1f77b4;stroke:#1f77b4;\" x=\"240.838951\" xlink:href=\"#m0d5ee7c3c6\" y=\"287.139778\"/>\r\n     <use style=\"fill:#1f77b4;stroke:#1f77b4;\" x=\"254.934673\" xlink:href=\"#m0d5ee7c3c6\" y=\"348.549078\"/>\r\n     <use style=\"fill:#1f77b4;stroke:#1f77b4;\" x=\"265.398492\" xlink:href=\"#m0d5ee7c3c6\" y=\"307.988147\"/>\r\n     <use style=\"fill:#1f77b4;stroke:#1f77b4;\" x=\"399.740195\" xlink:href=\"#m0d5ee7c3c6\" y=\"104.089413\"/>\r\n     <use style=\"fill:#1f77b4;stroke:#1f77b4;\" x=\"346.360951\" xlink:href=\"#m0d5ee7c3c6\" y=\"355.827846\"/>\r\n     <use style=\"fill:#1f77b4;stroke:#1f77b4;\" x=\"659.726136\" xlink:href=\"#m0d5ee7c3c6\" y=\"87.128872\"/>\r\n     <use style=\"fill:#1f77b4;stroke:#1f77b4;\" x=\"404.658068\" xlink:href=\"#m0d5ee7c3c6\" y=\"226.623448\"/>\r\n     <use style=\"fill:#1f77b4;stroke:#1f77b4;\" x=\"486.09611\" xlink:href=\"#m0d5ee7c3c6\" y=\"180.353406\"/>\r\n     <use style=\"fill:#1f77b4;stroke:#1f77b4;\" x=\"487.670511\" xlink:href=\"#m0d5ee7c3c6\" y=\"200.246169\"/>\r\n     <use style=\"fill:#1f77b4;stroke:#1f77b4;\" x=\"461.63647\" xlink:href=\"#m0d5ee7c3c6\" y=\"194.646822\"/>\r\n     <use style=\"fill:#1f77b4;stroke:#1f77b4;\" x=\"438.471483\" xlink:href=\"#m0d5ee7c3c6\" y=\"239.296449\"/>\r\n     <use style=\"fill:#1f77b4;stroke:#1f77b4;\" x=\"573.878469\" xlink:href=\"#m0d5ee7c3c6\" y=\"265.144941\"/>\r\n     <use style=\"fill:#1f77b4;stroke:#1f77b4;\" x=\"264.019205\" xlink:href=\"#m0d5ee7c3c6\" y=\"343.911649\"/>\r\n     <use style=\"fill:#1f77b4;stroke:#1f77b4;\" x=\"624.210619\" xlink:href=\"#m0d5ee7c3c6\" y=\"119.62874\"/>\r\n     <use style=\"fill:#1f77b4;stroke:#1f77b4;\" x=\"502.114297\" xlink:href=\"#m0d5ee7c3c6\" y=\"176.655893\"/>\r\n     <use style=\"fill:#1f77b4;stroke:#1f77b4;\" x=\"265.907143\" xlink:href=\"#m0d5ee7c3c6\" y=\"268.233244\"/>\r\n     <use style=\"fill:#1f77b4;stroke:#1f77b4;\" x=\"556.646504\" xlink:href=\"#m0d5ee7c3c6\" y=\"26.967273\"/>\r\n     <use style=\"fill:#1f77b4;stroke:#1f77b4;\" x=\"565.962755\" xlink:href=\"#m0d5ee7c3c6\" y=\"266.465425\"/>\r\n     <use style=\"fill:#1f77b4;stroke:#1f77b4;\" x=\"633.482085\" xlink:href=\"#m0d5ee7c3c6\" y=\"87.104944\"/>\r\n     <use style=\"fill:#1f77b4;stroke:#1f77b4;\" x=\"359.726691\" xlink:href=\"#m0d5ee7c3c6\" y=\"252.688805\"/>\r\n     <use style=\"fill:#1f77b4;stroke:#1f77b4;\" x=\"624.739184\" xlink:href=\"#m0d5ee7c3c6\" y=\"136.526757\"/>\r\n     <use style=\"fill:#1f77b4;stroke:#1f77b4;\" x=\"447.706439\" xlink:href=\"#m0d5ee7c3c6\" y=\"262.681688\"/>\r\n     <use style=\"fill:#1f77b4;stroke:#1f77b4;\" x=\"225.506475\" xlink:href=\"#m0d5ee7c3c6\" y=\"333.643551\"/>\r\n     <use style=\"fill:#1f77b4;stroke:#1f77b4;\" x=\"313.940176\" xlink:href=\"#m0d5ee7c3c6\" y=\"240.366489\"/>\r\n     <use style=\"fill:#1f77b4;stroke:#1f77b4;\" x=\"533.400508\" xlink:href=\"#m0d5ee7c3c6\" y=\"151.109547\"/>\r\n     <use style=\"fill:#1f77b4;stroke:#1f77b4;\" x=\"644.49971\" xlink:href=\"#m0d5ee7c3c6\" y=\"225.746588\"/>\r\n     <use style=\"fill:#1f77b4;stroke:#1f77b4;\" x=\"261.575585\" xlink:href=\"#m0d5ee7c3c6\" y=\"251.262675\"/>\r\n     <use style=\"fill:#1f77b4;stroke:#1f77b4;\" x=\"399.502443\" xlink:href=\"#m0d5ee7c3c6\" y=\"226.45427\"/>\r\n     <use style=\"fill:#1f77b4;stroke:#1f77b4;\" x=\"329.303563\" xlink:href=\"#m0d5ee7c3c6\" y=\"156.575904\"/>\r\n     <use style=\"fill:#1f77b4;stroke:#1f77b4;\" x=\"655.664883\" xlink:href=\"#m0d5ee7c3c6\" y=\"189.335192\"/>\r\n     <use style=\"fill:#1f77b4;stroke:#1f77b4;\" x=\"298.511849\" xlink:href=\"#m0d5ee7c3c6\" y=\"336.058057\"/>\r\n     <use style=\"fill:#1f77b4;stroke:#1f77b4;\" x=\"585.126522\" xlink:href=\"#m0d5ee7c3c6\" y=\"263.447484\"/>\r\n     <use style=\"fill:#1f77b4;stroke:#1f77b4;\" x=\"333.445667\" xlink:href=\"#m0d5ee7c3c6\" y=\"273.617746\"/>\r\n     <use style=\"fill:#1f77b4;stroke:#1f77b4;\" x=\"513.739168\" xlink:href=\"#m0d5ee7c3c6\" y=\"124.721107\"/>\r\n     <use style=\"fill:#1f77b4;stroke:#1f77b4;\" x=\"243.420562\" xlink:href=\"#m0d5ee7c3c6\" y=\"347.17767\"/>\r\n     <use style=\"fill:#1f77b4;stroke:#1f77b4;\" x=\"606.841603\" xlink:href=\"#m0d5ee7c3c6\" y=\"175.400518\"/>\r\n     <use style=\"fill:#1f77b4;stroke:#1f77b4;\" x=\"130.368283\" xlink:href=\"#m0d5ee7c3c6\" y=\"389.796055\"/>\r\n     <use style=\"fill:#1f77b4;stroke:#1f77b4;\" x=\"455.303676\" xlink:href=\"#m0d5ee7c3c6\" y=\"225.507532\"/>\r\n     <use style=\"fill:#1f77b4;stroke:#1f77b4;\" x=\"467.975959\" xlink:href=\"#m0d5ee7c3c6\" y=\"144.883812\"/>\r\n     <use style=\"fill:#1f77b4;stroke:#1f77b4;\" x=\"308.210659\" xlink:href=\"#m0d5ee7c3c6\" y=\"284.947673\"/>\r\n     <use style=\"fill:#1f77b4;stroke:#1f77b4;\" x=\"289.456609\" xlink:href=\"#m0d5ee7c3c6\" y=\"325.33006\"/>\r\n     <use style=\"fill:#1f77b4;stroke:#1f77b4;\" x=\"492.209397\" xlink:href=\"#m0d5ee7c3c6\" y=\"157.741482\"/>\r\n     <use style=\"fill:#1f77b4;stroke:#1f77b4;\" x=\"280.481813\" xlink:href=\"#m0d5ee7c3c6\" y=\"385.149283\"/>\r\n     <use style=\"fill:#1f77b4;stroke:#1f77b4;\" x=\"410.173789\" xlink:href=\"#m0d5ee7c3c6\" y=\"199.356948\"/>\r\n     <use style=\"fill:#1f77b4;stroke:#1f77b4;\" x=\"50.998864\" xlink:href=\"#m0d5ee7c3c6\" y=\"422.312727\"/>\r\n     <use style=\"fill:#1f77b4;stroke:#1f77b4;\" x=\"146.046662\" xlink:href=\"#m0d5ee7c3c6\" y=\"229.036172\"/>\r\n     <use style=\"fill:#1f77b4;stroke:#1f77b4;\" x=\"408.048791\" xlink:href=\"#m0d5ee7c3c6\" y=\"278.911768\"/>\r\n     <use style=\"fill:#1f77b4;stroke:#1f77b4;\" x=\"557.649802\" xlink:href=\"#m0d5ee7c3c6\" y=\"139.644213\"/>\r\n    </g>\r\n   </g>\r\n   <g id=\"matplotlib.axis_1\">\r\n    <g id=\"xtick_1\">\r\n     <g id=\"line2d_1\">\r\n      <defs>\r\n       <path d=\"M 0 0 \r\nL 0 3.5 \r\n\" id=\"m9cccbd6239\" style=\"stroke:#000000;stroke-width:0.8;\"/>\r\n      </defs>\r\n      <g>\r\n       <use style=\"stroke:#000000;stroke-width:0.8;\" x=\"27.808977\" xlink:href=\"#m9cccbd6239\" y=\"442.08\"/>\r\n      </g>\r\n     </g>\r\n     <g id=\"text_1\">\r\n      <!-- 1 -->\r\n      <g transform=\"translate(24.627727 456.678437)scale(0.1 -0.1)\">\r\n       <defs>\r\n        <path d=\"M 12.40625 8.296875 \r\nL 28.515625 8.296875 \r\nL 28.515625 63.921875 \r\nL 10.984375 60.40625 \r\nL 10.984375 69.390625 \r\nL 28.421875 72.90625 \r\nL 38.28125 72.90625 \r\nL 38.28125 8.296875 \r\nL 54.390625 8.296875 \r\nL 54.390625 0 \r\nL 12.40625 0 \r\nz\r\n\" id=\"DejaVuSans-49\"/>\r\n       </defs>\r\n       <use xlink:href=\"#DejaVuSans-49\"/>\r\n      </g>\r\n     </g>\r\n    </g>\r\n    <g id=\"xtick_2\">\r\n     <g id=\"line2d_2\">\r\n      <g>\r\n       <use style=\"stroke:#000000;stroke-width:0.8;\" x=\"156.474984\" xlink:href=\"#m9cccbd6239\" y=\"442.08\"/>\r\n      </g>\r\n     </g>\r\n     <g id=\"text_2\">\r\n      <!-- 2 -->\r\n      <g transform=\"translate(153.293734 456.678437)scale(0.1 -0.1)\">\r\n       <defs>\r\n        <path d=\"M 19.1875 8.296875 \r\nL 53.609375 8.296875 \r\nL 53.609375 0 \r\nL 7.328125 0 \r\nL 7.328125 8.296875 \r\nQ 12.9375 14.109375 22.625 23.890625 \r\nQ 32.328125 33.6875 34.8125 36.53125 \r\nQ 39.546875 41.84375 41.421875 45.53125 \r\nQ 43.3125 49.21875 43.3125 52.78125 \r\nQ 43.3125 58.59375 39.234375 62.25 \r\nQ 35.15625 65.921875 28.609375 65.921875 \r\nQ 23.96875 65.921875 18.8125 64.3125 \r\nQ 13.671875 62.703125 7.8125 59.421875 \r\nL 7.8125 69.390625 \r\nQ 13.765625 71.78125 18.9375 73 \r\nQ 24.125 74.21875 28.421875 74.21875 \r\nQ 39.75 74.21875 46.484375 68.546875 \r\nQ 53.21875 62.890625 53.21875 53.421875 \r\nQ 53.21875 48.921875 51.53125 44.890625 \r\nQ 49.859375 40.875 45.40625 35.40625 \r\nQ 44.1875 33.984375 37.640625 27.21875 \r\nQ 31.109375 20.453125 19.1875 8.296875 \r\nz\r\n\" id=\"DejaVuSans-50\"/>\r\n       </defs>\r\n       <use xlink:href=\"#DejaVuSans-50\"/>\r\n      </g>\r\n     </g>\r\n    </g>\r\n    <g id=\"xtick_3\">\r\n     <g id=\"line2d_3\">\r\n      <g>\r\n       <use style=\"stroke:#000000;stroke-width:0.8;\" x=\"285.140991\" xlink:href=\"#m9cccbd6239\" y=\"442.08\"/>\r\n      </g>\r\n     </g>\r\n     <g id=\"text_3\">\r\n      <!-- 3 -->\r\n      <g transform=\"translate(281.959741 456.678437)scale(0.1 -0.1)\">\r\n       <defs>\r\n        <path d=\"M 40.578125 39.3125 \r\nQ 47.65625 37.796875 51.625 33 \r\nQ 55.609375 28.21875 55.609375 21.1875 \r\nQ 55.609375 10.40625 48.1875 4.484375 \r\nQ 40.765625 -1.421875 27.09375 -1.421875 \r\nQ 22.515625 -1.421875 17.65625 -0.515625 \r\nQ 12.796875 0.390625 7.625 2.203125 \r\nL 7.625 11.71875 \r\nQ 11.71875 9.328125 16.59375 8.109375 \r\nQ 21.484375 6.890625 26.8125 6.890625 \r\nQ 36.078125 6.890625 40.9375 10.546875 \r\nQ 45.796875 14.203125 45.796875 21.1875 \r\nQ 45.796875 27.640625 41.28125 31.265625 \r\nQ 36.765625 34.90625 28.71875 34.90625 \r\nL 20.21875 34.90625 \r\nL 20.21875 43.015625 \r\nL 29.109375 43.015625 \r\nQ 36.375 43.015625 40.234375 45.921875 \r\nQ 44.09375 48.828125 44.09375 54.296875 \r\nQ 44.09375 59.90625 40.109375 62.90625 \r\nQ 36.140625 65.921875 28.71875 65.921875 \r\nQ 24.65625 65.921875 20.015625 65.03125 \r\nQ 15.375 64.15625 9.8125 62.3125 \r\nL 9.8125 71.09375 \r\nQ 15.4375 72.65625 20.34375 73.4375 \r\nQ 25.25 74.21875 29.59375 74.21875 \r\nQ 40.828125 74.21875 47.359375 69.109375 \r\nQ 53.90625 64.015625 53.90625 55.328125 \r\nQ 53.90625 49.265625 50.4375 45.09375 \r\nQ 46.96875 40.921875 40.578125 39.3125 \r\nz\r\n\" id=\"DejaVuSans-51\"/>\r\n       </defs>\r\n       <use xlink:href=\"#DejaVuSans-51\"/>\r\n      </g>\r\n     </g>\r\n    </g>\r\n    <g id=\"xtick_4\">\r\n     <g id=\"line2d_4\">\r\n      <g>\r\n       <use style=\"stroke:#000000;stroke-width:0.8;\" x=\"413.806997\" xlink:href=\"#m9cccbd6239\" y=\"442.08\"/>\r\n      </g>\r\n     </g>\r\n     <g id=\"text_4\">\r\n      <!-- 4 -->\r\n      <g transform=\"translate(410.625747 456.678437)scale(0.1 -0.1)\">\r\n       <defs>\r\n        <path d=\"M 37.796875 64.3125 \r\nL 12.890625 25.390625 \r\nL 37.796875 25.390625 \r\nz\r\nM 35.203125 72.90625 \r\nL 47.609375 72.90625 \r\nL 47.609375 25.390625 \r\nL 58.015625 25.390625 \r\nL 58.015625 17.1875 \r\nL 47.609375 17.1875 \r\nL 47.609375 0 \r\nL 37.796875 0 \r\nL 37.796875 17.1875 \r\nL 4.890625 17.1875 \r\nL 4.890625 26.703125 \r\nz\r\n\" id=\"DejaVuSans-52\"/>\r\n       </defs>\r\n       <use xlink:href=\"#DejaVuSans-52\"/>\r\n      </g>\r\n     </g>\r\n    </g>\r\n    <g id=\"xtick_5\">\r\n     <g id=\"line2d_5\">\r\n      <g>\r\n       <use style=\"stroke:#000000;stroke-width:0.8;\" x=\"542.473004\" xlink:href=\"#m9cccbd6239\" y=\"442.08\"/>\r\n      </g>\r\n     </g>\r\n     <g id=\"text_5\">\r\n      <!-- 5 -->\r\n      <g transform=\"translate(539.291754 456.678437)scale(0.1 -0.1)\">\r\n       <defs>\r\n        <path d=\"M 10.796875 72.90625 \r\nL 49.515625 72.90625 \r\nL 49.515625 64.59375 \r\nL 19.828125 64.59375 \r\nL 19.828125 46.734375 \r\nQ 21.96875 47.46875 24.109375 47.828125 \r\nQ 26.265625 48.1875 28.421875 48.1875 \r\nQ 40.625 48.1875 47.75 41.5 \r\nQ 54.890625 34.8125 54.890625 23.390625 \r\nQ 54.890625 11.625 47.5625 5.09375 \r\nQ 40.234375 -1.421875 26.90625 -1.421875 \r\nQ 22.3125 -1.421875 17.546875 -0.640625 \r\nQ 12.796875 0.140625 7.71875 1.703125 \r\nL 7.71875 11.625 \r\nQ 12.109375 9.234375 16.796875 8.0625 \r\nQ 21.484375 6.890625 26.703125 6.890625 \r\nQ 35.15625 6.890625 40.078125 11.328125 \r\nQ 45.015625 15.765625 45.015625 23.390625 \r\nQ 45.015625 31 40.078125 35.4375 \r\nQ 35.15625 39.890625 26.703125 39.890625 \r\nQ 22.75 39.890625 18.8125 39.015625 \r\nQ 14.890625 38.140625 10.796875 36.28125 \r\nz\r\n\" id=\"DejaVuSans-53\"/>\r\n       </defs>\r\n       <use xlink:href=\"#DejaVuSans-53\"/>\r\n      </g>\r\n     </g>\r\n    </g>\r\n    <g id=\"xtick_6\">\r\n     <g id=\"line2d_6\">\r\n      <g>\r\n       <use style=\"stroke:#000000;stroke-width:0.8;\" x=\"671.139011\" xlink:href=\"#m9cccbd6239\" y=\"442.08\"/>\r\n      </g>\r\n     </g>\r\n     <g id=\"text_6\">\r\n      <!-- 6 -->\r\n      <g transform=\"translate(667.957761 456.678437)scale(0.1 -0.1)\">\r\n       <defs>\r\n        <path d=\"M 33.015625 40.375 \r\nQ 26.375 40.375 22.484375 35.828125 \r\nQ 18.609375 31.296875 18.609375 23.390625 \r\nQ 18.609375 15.53125 22.484375 10.953125 \r\nQ 26.375 6.390625 33.015625 6.390625 \r\nQ 39.65625 6.390625 43.53125 10.953125 \r\nQ 47.40625 15.53125 47.40625 23.390625 \r\nQ 47.40625 31.296875 43.53125 35.828125 \r\nQ 39.65625 40.375 33.015625 40.375 \r\nz\r\nM 52.59375 71.296875 \r\nL 52.59375 62.3125 \r\nQ 48.875 64.0625 45.09375 64.984375 \r\nQ 41.3125 65.921875 37.59375 65.921875 \r\nQ 27.828125 65.921875 22.671875 59.328125 \r\nQ 17.53125 52.734375 16.796875 39.40625 \r\nQ 19.671875 43.65625 24.015625 45.921875 \r\nQ 28.375 48.1875 33.59375 48.1875 \r\nQ 44.578125 48.1875 50.953125 41.515625 \r\nQ 57.328125 34.859375 57.328125 23.390625 \r\nQ 57.328125 12.15625 50.6875 5.359375 \r\nQ 44.046875 -1.421875 33.015625 -1.421875 \r\nQ 20.359375 -1.421875 13.671875 8.265625 \r\nQ 6.984375 17.96875 6.984375 36.375 \r\nQ 6.984375 53.65625 15.1875 63.9375 \r\nQ 23.390625 74.21875 37.203125 74.21875 \r\nQ 40.921875 74.21875 44.703125 73.484375 \r\nQ 48.484375 72.75 52.59375 71.296875 \r\nz\r\n\" id=\"DejaVuSans-54\"/>\r\n       </defs>\r\n       <use xlink:href=\"#DejaVuSans-54\"/>\r\n      </g>\r\n     </g>\r\n    </g>\r\n   </g>\r\n   <g id=\"matplotlib.axis_2\">\r\n    <g id=\"ytick_1\">\r\n     <g id=\"line2d_7\">\r\n      <defs>\r\n       <path d=\"M 0 0 \r\nL -3.5 0 \r\n\" id=\"m41ea888648\" style=\"stroke:#000000;stroke-width:0.8;\"/>\r\n      </defs>\r\n      <g>\r\n       <use style=\"stroke:#000000;stroke-width:0.8;\" x=\"20.5625\" xlink:href=\"#m41ea888648\" y=\"411.618623\"/>\r\n      </g>\r\n     </g>\r\n     <g id=\"text_7\">\r\n      <!-- 3 -->\r\n      <g transform=\"translate(7.2 415.417842)scale(0.1 -0.1)\">\r\n       <use xlink:href=\"#DejaVuSans-51\"/>\r\n      </g>\r\n     </g>\r\n    </g>\r\n    <g id=\"ytick_2\">\r\n     <g id=\"line2d_8\">\r\n      <g>\r\n       <use style=\"stroke:#000000;stroke-width:0.8;\" x=\"20.5625\" xlink:href=\"#m41ea888648\" y=\"323.460471\"/>\r\n      </g>\r\n     </g>\r\n     <g id=\"text_8\">\r\n      <!-- 4 -->\r\n      <g transform=\"translate(7.2 327.25969)scale(0.1 -0.1)\">\r\n       <use xlink:href=\"#DejaVuSans-52\"/>\r\n      </g>\r\n     </g>\r\n    </g>\r\n    <g id=\"ytick_3\">\r\n     <g id=\"line2d_9\">\r\n      <g>\r\n       <use style=\"stroke:#000000;stroke-width:0.8;\" x=\"20.5625\" xlink:href=\"#m41ea888648\" y=\"235.302319\"/>\r\n      </g>\r\n     </g>\r\n     <g id=\"text_9\">\r\n      <!-- 5 -->\r\n      <g transform=\"translate(7.2 239.101538)scale(0.1 -0.1)\">\r\n       <use xlink:href=\"#DejaVuSans-53\"/>\r\n      </g>\r\n     </g>\r\n    </g>\r\n    <g id=\"ytick_4\">\r\n     <g id=\"line2d_10\">\r\n      <g>\r\n       <use style=\"stroke:#000000;stroke-width:0.8;\" x=\"20.5625\" xlink:href=\"#m41ea888648\" y=\"147.144168\"/>\r\n      </g>\r\n     </g>\r\n     <g id=\"text_10\">\r\n      <!-- 6 -->\r\n      <g transform=\"translate(7.2 150.943386)scale(0.1 -0.1)\">\r\n       <use xlink:href=\"#DejaVuSans-54\"/>\r\n      </g>\r\n     </g>\r\n    </g>\r\n    <g id=\"ytick_5\">\r\n     <g id=\"line2d_11\">\r\n      <g>\r\n       <use style=\"stroke:#000000;stroke-width:0.8;\" x=\"20.5625\" xlink:href=\"#m41ea888648\" y=\"58.986016\"/>\r\n      </g>\r\n     </g>\r\n     <g id=\"text_11\">\r\n      <!-- 7 -->\r\n      <g transform=\"translate(7.2 62.785235)scale(0.1 -0.1)\">\r\n       <defs>\r\n        <path d=\"M 8.203125 72.90625 \r\nL 55.078125 72.90625 \r\nL 55.078125 68.703125 \r\nL 28.609375 0 \r\nL 18.3125 0 \r\nL 43.21875 64.59375 \r\nL 8.203125 64.59375 \r\nz\r\n\" id=\"DejaVuSans-55\"/>\r\n       </defs>\r\n       <use xlink:href=\"#DejaVuSans-55\"/>\r\n      </g>\r\n     </g>\r\n    </g>\r\n   </g>\r\n   <g id=\"patch_3\">\r\n    <path d=\"M 20.5625 442.08 \r\nL 20.5625 7.2 \r\n\" style=\"fill:none;stroke:#000000;stroke-linecap:square;stroke-linejoin:miter;stroke-width:0.8;\"/>\r\n   </g>\r\n   <g id=\"patch_4\">\r\n    <path d=\"M 690.1625 442.08 \r\nL 690.1625 7.2 \r\n\" style=\"fill:none;stroke:#000000;stroke-linecap:square;stroke-linejoin:miter;stroke-width:0.8;\"/>\r\n   </g>\r\n   <g id=\"patch_5\">\r\n    <path d=\"M 20.5625 442.08 \r\nL 690.1625 442.08 \r\n\" style=\"fill:none;stroke:#000000;stroke-linecap:square;stroke-linejoin:miter;stroke-width:0.8;\"/>\r\n   </g>\r\n   <g id=\"patch_6\">\r\n    <path d=\"M 20.5625 7.2 \r\nL 690.1625 7.2 \r\n\" style=\"fill:none;stroke:#000000;stroke-linecap:square;stroke-linejoin:miter;stroke-width:0.8;\"/>\r\n   </g>\r\n  </g>\r\n </g>\r\n <defs>\r\n  <clipPath id=\"pcd0e0ee776\">\r\n   <rect height=\"434.88\" width=\"669.6\" x=\"20.5625\" y=\"7.2\"/>\r\n  </clipPath>\r\n </defs>\r\n</svg>\r\n",
      "image/png": "[encoded data removed]"
     },
     "metadata": {
      "needs_background": "light"
     }
    }
   ],
   "source": [
    "X = data['X']\n",
    "\n",
    "fig, ax = plt.subplots(figsize=(12,8))\n",
    "ax.scatter(X[:, 0], X[:, 1])\n",
    "plt.show()"
   ]
  },
  {
   "cell_type": "markdown",
   "metadata": {},
   "source": [
    "PCA的算法相当简单。 在确保数据被归一化之后，输出仅仅是原始数据的协方差矩阵的奇异值分解。"
   ]
  },
  {
   "cell_type": "code",
   "execution_count": 4,
   "metadata": {},
   "outputs": [],
   "source": [
    "def pca(X):\n",
    "    # normalize the features\n",
    "    X = (X - X.mean()) / X.std()\n",
    "    \n",
    "    # compute the covariance matrix\n",
    "    X = np.matrix(X)\n",
    "    cov = (X.T * X) / X.shape[0]\n",
    "    \n",
    "    # perform SVD\n",
    "    U, S, V = np.linalg.svd(cov)\n",
    "    \n",
    "    return U, S, V"
   ]
  },
  {
   "cell_type": "code",
   "execution_count": 5,
   "metadata": {},
   "outputs": [
    {
     "data": {
      "text/plain": [
       "(matrix([[-0.79241747, -0.60997914],\n",
       "         [-0.60997914,  0.79241747]]),\n",
       " array([1.43584536, 0.56415464]),\n",
       " matrix([[-0.79241747, -0.60997914],\n",
       "         [-0.60997914,  0.79241747]]))"
      ]
     },
     "execution_count": 5,
     "metadata": {},
     "output_type": "execute_result"
    }
   ],
   "source": [
    "U, S, V = pca(X)\n",
    "U, S, V"
   ]
  },
  {
   "cell_type": "markdown",
   "metadata": {},
   "source": [
    "现在我们有主成分（矩阵U），我们可以用这些来将原始数据投影到一个较低维的空间中。 对于这个任务，我们将实现一个计算投影并且仅选择顶部K个分量的函数，有效地减少了维数。"
   ]
  },
  {
   "cell_type": "code",
   "execution_count": 6,
   "metadata": {},
   "outputs": [],
   "source": [
    "def project_data(X, U, k):\n",
    "    U_reduced = U[:,:k]\n",
    "    return np.dot(X, U_reduced)"
   ]
  },
  {
   "cell_type": "code",
   "execution_count": 7,
   "metadata": {},
   "outputs": [
    {
     "data": {
      "text/plain": [
       "matrix([[-4.74689738],\n",
       "        [-7.15889408],\n",
       "        [-4.79563345],\n",
       "        [-4.45754509],\n",
       "        [-4.80263579],\n",
       "        [-7.04081342],\n",
       "        [-4.97025076],\n",
       "        [-8.75934561],\n",
       "        [-6.2232703 ],\n",
       "        [-7.04497331],\n",
       "        [-6.91702866],\n",
       "        [-6.79543508],\n",
       "        [-6.3438312 ],\n",
       "        [-6.99891495],\n",
       "        [-4.54558119],\n",
       "        [-8.31574426],\n",
       "        [-7.16920841],\n",
       "        [-5.08083842],\n",
       "        [-8.54077427],\n",
       "        [-6.94102769],\n",
       "        [-8.5978815 ],\n",
       "        [-5.76620067],\n",
       "        [-8.2020797 ],\n",
       "        [-6.23890078],\n",
       "        [-4.37943868],\n",
       "        [-5.56947441],\n",
       "        [-7.53865023],\n",
       "        [-7.70645413],\n",
       "        [-5.17158343],\n",
       "        [-6.19268884],\n",
       "        [-6.24385246],\n",
       "        [-8.02715303],\n",
       "        [-4.81235176],\n",
       "        [-7.07993347],\n",
       "        [-5.45953289],\n",
       "        [-7.60014707],\n",
       "        [-4.39612191],\n",
       "        [-7.82288033],\n",
       "        [-3.40498213],\n",
       "        [-6.54290343],\n",
       "        [-7.17879573],\n",
       "        [-5.22572421],\n",
       "        [-4.83081168],\n",
       "        [-7.23907851],\n",
       "        [-4.36164051],\n",
       "        [-6.44590096],\n",
       "        [-2.69118076],\n",
       "        [-4.61386195],\n",
       "        [-5.88236227],\n",
       "        [-7.76732508]])"
      ]
     },
     "execution_count": 7,
     "metadata": {},
     "output_type": "execute_result"
    }
   ],
   "source": [
    "Z = project_data(X, U, 1)\n",
    "Z"
   ]
  },
  {
   "cell_type": "markdown",
   "metadata": {},
   "source": [
    "我们也可以通过反向转换步骤来恢复原始数据。"
   ]
  },
  {
   "cell_type": "code",
   "execution_count": 8,
   "metadata": {},
   "outputs": [],
   "source": [
    "def recover_data(Z, U, k):\n",
    "    U_reduced = U[:,:k]\n",
    "    return np.dot(Z, U_reduced.T)"
   ]
  },
  {
   "cell_type": "code",
   "execution_count": 9,
   "metadata": {},
   "outputs": [
    {
     "data": {
      "text/plain": [
       "matrix([[3.76152442, 2.89550838],\n",
       "        [5.67283275, 4.36677606],\n",
       "        [3.80014373, 2.92523637],\n",
       "        [3.53223661, 2.71900952],\n",
       "        [3.80569251, 2.92950765],\n",
       "        [5.57926356, 4.29474931],\n",
       "        [3.93851354, 3.03174929],\n",
       "        [6.94105849, 5.3430181 ],\n",
       "        [4.93142811, 3.79606507],\n",
       "        [5.58255993, 4.29728676],\n",
       "        [5.48117436, 4.21924319],\n",
       "        [5.38482148, 4.14507365],\n",
       "        [5.02696267, 3.8696047 ],\n",
       "        [5.54606249, 4.26919213],\n",
       "        [3.60199795, 2.77270971],\n",
       "        [6.58954104, 5.07243054],\n",
       "        [5.681006  , 4.37306758],\n",
       "        [4.02614513, 3.09920545],\n",
       "        [6.76785875, 5.20969415],\n",
       "        [5.50019161, 4.2338821 ],\n",
       "        [6.81311151, 5.24452836],\n",
       "        [4.56923815, 3.51726213],\n",
       "        [6.49947125, 5.00309752],\n",
       "        [4.94381398, 3.80559934],\n",
       "        [3.47034372, 2.67136624],\n",
       "        [4.41334883, 3.39726321],\n",
       "        [5.97375815, 4.59841938],\n",
       "        [6.10672889, 4.70077626],\n",
       "        [4.09805306, 3.15455801],\n",
       "        [4.90719483, 3.77741101],\n",
       "        [4.94773778, 3.80861976],\n",
       "        [6.36085631, 4.8963959 ],\n",
       "        [3.81339161, 2.93543419],\n",
       "        [5.61026298, 4.31861173],\n",
       "        [4.32622924, 3.33020118],\n",
       "        [6.02248932, 4.63593118],\n",
       "        [3.48356381, 2.68154267],\n",
       "        [6.19898705, 4.77179382],\n",
       "        [2.69816733, 2.07696807],\n",
       "        [5.18471099, 3.99103461],\n",
       "        [5.68860316, 4.37891565],\n",
       "        [4.14095516, 3.18758276],\n",
       "        [3.82801958, 2.94669436],\n",
       "        [5.73637229, 4.41568689],\n",
       "        [3.45624014, 2.66050973],\n",
       "        [5.10784454, 3.93186513],\n",
       "        [2.13253865, 1.64156413],\n",
       "        [3.65610482, 2.81435955],\n",
       "        [4.66128664, 3.58811828],\n",
       "        [6.1549641 , 4.73790627]])"
      ]
     },
     "execution_count": 9,
     "metadata": {},
     "output_type": "execute_result"
    }
   ],
   "source": [
    "X_recovered = recover_data(Z, U, 1)\n",
    "X_recovered"
   ]
  },
  {
   "cell_type": "code",
   "execution_count": 10,
   "metadata": {},
   "outputs": [
    {
     "data": {
      "image/png": "[encoded data removed]",
      "text/plain": [
       "<Figure size 864x576 with 1 Axes>"
      ]
     },
     "metadata": {
      "needs_background": "light"
     },
     "output_type": "display_data"
    }
   ],
   "source": [
    "fig, ax = plt.subplots(figsize=(12,8))\n",
    "ax.scatter(list(X_recovered[:, 0]), list(X_recovered[:, 1]))\n",
    "plt.show()"
   ]
  },
  {
   "cell_type": "markdown",
   "metadata": {},
   "source": [
    "请注意，第一主成分的投影轴基本上是数据集中的对角线。 当我们将数据减少到一个维度时，我们失去了该对角线周围的变化，所以在我们的再现中，一切都沿着该对角线。"
   ]
  },
  {
   "cell_type": "markdown",
   "metadata": {
    "collapsed": true
   },
   "source": [
    "----\n",
    "\n",
    "本文代码更新地址：https://github.com/fengdu78/lihang-code\n",
    "\n",
    "中文注释制作：机器学习初学者公众号：ID:ai-start-com\n",
    "\n",
    "配置环境：python 3.5+\n",
    "\n",
    "代码全部测试通过。\n",
    "![gongzhong](../gongzhong.jpg)"
   ]
  }
 ],
 "metadata": {
  "kernelspec": {
   "display_name": "Python 3",
   "language": "python",
   "name": "python3"
  },
  "language_info": {
   "codemirror_mode": {
    "name": "ipython",
    "version": 3
   },
   "file_extension": ".py",
   "mimetype": "text/x-python",
   "name": "python",
   "nbconvert_exporter": "python",
   "pygments_lexer": "ipython3",
   "version": "3.8.5"
  }
 },
 "nbformat": 4,
 "nbformat_minor": 1
}