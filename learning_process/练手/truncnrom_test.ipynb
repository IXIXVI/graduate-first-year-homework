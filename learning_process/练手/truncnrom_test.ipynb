{
 "metadata": {
  "language_info": {
   "codemirror_mode": {
    "name": "ipython",
    "version": 3
   },
   "file_extension": ".py",
   "mimetype": "text/x-python",
   "name": "python",
   "nbconvert_exporter": "python",
   "pygments_lexer": "ipython3",
   "version": "3.7.6-final"
  },
  "orig_nbformat": 2,
  "kernelspec": {
   "name": "Python 3.7.6 64-bit ('base': conda)",
   "display_name": "Python 3.7.6 64-bit ('base': conda)",
   "metadata": {
    "interpreter": {
     "hash": "485035c5b2a6f2b50dc2dc5ca51aeeb931032fbc9adc2e30c7c528d6bf8a9176"
    }
   }
  }
 },
 "nbformat": 4,
 "nbformat_minor": 2,
 "cells": [
  {
   "cell_type": "code",
   "execution_count": 1,
   "metadata": {},
   "outputs": [],
   "source": [
    "import numpy as np\n",
    "from scipy.stats import truncnorm\n",
    "import matplotlib.pyplot as plt"
   ]
  },
  {
   "cell_type": "code",
   "execution_count": 14,
   "metadata": {},
   "outputs": [
    {
     "output_type": "stream",
     "name": "stdout",
     "text": [
      "Help on method ppf in module scipy.stats._distn_infrastructure:\n\nppf(q, *args, **kwds) method of scipy.stats._continuous_distns.truncnorm_gen instance\n    Percent point function (inverse of `cdf`) at q of the given RV.\n    \n    Parameters\n    ----------\n    q : array_like\n        lower tail probability\n    arg1, arg2, arg3,... : array_like\n        The shape parameter(s) for the distribution (see docstring of the\n        instance object for more information)\n    loc : array_like, optional\n        location parameter (default=0)\n    scale : array_like, optional\n        scale parameter (default=1)\n    \n    Returns\n    -------\n    x : array_like\n        quantile corresponding to the lower tail probability q.\n\n"
     ]
    }
   ],
   "source": [
    "help(truncnorm.ppf)"
   ]
  },
  {
   "cell_type": "code",
   "execution_count": 12,
   "metadata": {},
   "outputs": [],
   "source": [
    "c=truncnorm.ppf(0.01, a=0, b=1)"
   ]
  },
  {
   "source": [
    "## np.linspace主要用来创建等差数列 \n",
    "** numpy.linspace(start, stop, num=50, endpoint=True, retstep=False, dtype=None, axis=0) **  \n",
    "  \n",
    "tart:返回样本数据开始点  \n",
    "stop:返回样本数据结束点  \n",
    "num:生成的样本数据量，默认为50  \n",
    "endpoint：True则包含stop；False则不包含stop  \n",
    "retstep：If True, return (samples, step), where step is the spacing between samples.(即如果为True则结果会给出数据间隔)  \n",
    "dtype：输出数组类型  \n",
    "axis：0(默认)或-1  \n",
    "\n"
   ],
   "cell_type": "markdown",
   "metadata": {}
  },
  {
   "cell_type": "code",
   "execution_count": 7,
   "metadata": {},
   "outputs": [],
   "source": [
    "#np.linspace主要用来创建等差数列\n",
    "x = np.linspace(truncnorm.ppf(0.01, a=0, b=1),\n",
    "                truncnorm.ppf(0.99, a=0, b=1), 10)"
   ]
  },
  {
   "cell_type": "code",
   "execution_count": 8,
   "metadata": {},
   "outputs": [
    {
     "output_type": "execute_result",
     "data": {
      "text/plain": [
       "array([0.00855635, 0.11716023, 0.22576411, 0.33436798, 0.44297186,\n",
       "       0.55157574, 0.66017962, 0.7687835 , 0.87738738, 0.98599126])"
      ]
     },
     "metadata": {},
     "execution_count": 8
    }
   ],
   "source": [
    "x"
   ]
  },
  {
   "cell_type": "code",
   "execution_count": 10,
   "metadata": {},
   "outputs": [],
   "source": [
    "y=truncnorm.pdf(x, a=0, b=1, loc=0.3, scale=np.sqrt(0.4))"
   ]
  },
  {
   "cell_type": "code",
   "execution_count": 11,
   "metadata": {},
   "outputs": [
    {
     "output_type": "execute_result",
     "data": {
      "text/plain": [
       "array([0.        , 0.        , 0.        , 1.8452093 , 1.80131683,\n",
       "       1.70737349, 1.57130653, 1.40406514, 1.21816902, 0.        ])"
      ]
     },
     "metadata": {},
     "execution_count": 11
    }
   ],
   "source": [
    "y"
   ]
  },
  {
   "cell_type": "code",
   "execution_count": null,
   "metadata": {},
   "outputs": [],
   "source": []
  }
 ]
}