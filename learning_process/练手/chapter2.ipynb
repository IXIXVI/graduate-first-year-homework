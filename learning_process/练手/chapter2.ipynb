{
 "metadata": {
  "language_info": {
   "codemirror_mode": {
    "name": "ipython",
    "version": 3
   },
   "file_extension": ".py",
   "mimetype": "text/x-python",
   "name": "python",
   "nbconvert_exporter": "python",
   "pygments_lexer": "ipython3",
   "version": "3.7.6-final"
  },
  "orig_nbformat": 2,
  "kernelspec": {
   "name": "python_defaultSpec_1599573530458",
   "display_name": "Python 3.7.6 64-bit ('base': conda)"
  }
 },
 "nbformat": 4,
 "nbformat_minor": 2,
 "cells": [
  {
   "cell_type": "code",
   "execution_count": 105,
   "metadata": {},
   "outputs": [
    {
     "output_type": "execute_result",
     "data": {
      "text/plain": "'对象，python是强面向对象（object）的，一切都是对象，包括字符串、数字与函数'"
     },
     "metadata": {},
     "execution_count": 105
    }
   ],
   "source": [
    "\"对象，python是强面向对象（object）的，一切都是对象，包括字符串、数字与函数\""
   ]
  },
  {
   "cell_type": "code",
   "execution_count": 106,
   "metadata": {
    "tags": []
   },
   "outputs": [
    {
     "output_type": "stream",
     "name": "stdout",
     "text": "python默认一个物理行对应一个逻辑行，分号';'可一个物理行两个逻辑行，但一般不使用，如果有很长的代码一般使用'\\'，将一个逻辑行拆分成多个物理行，这一般被称作Explicit Line Joining\n"
    }
   ],
   "source": [
    "print(\"python默认一个{1}对应一个{0}，分号{2}可一个{1}两个{0}，但一般不使用，如果有很长的代码一般使用{3}，将一个{0}拆分成多个{1}，这一般被称作Explicit Line Joining\".format(\"逻辑行\",\"物理行\",\"\\';\\'\",\"\\'\\\\\\'\"))"
   ]
  },
  {
   "cell_type": "code",
   "execution_count": 56,
   "metadata": {
    "tags": []
   },
   "outputs": [
    {
     "output_type": "stream",
     "name": "stdout",
     "text": "5.0       ,20        ,256\n"
    }
   ],
   "source": [
    "print('{:<10.1f},{:<10},{}'.format(11>>1,10<<1,2**8))\n",
    "#\"<<\" means 将数字的位向左移动指定的位数。（每个数字在内存中以二进制数表示)\n",
    "# for example, 10 is expressed as 1010 in the binary system, \"10<<1\" means 1010 indent 1 bits to left,so we get the \"101\" as the result,\"101\" is represented \"5\" in decimal system."
   ]
  },
  {
   "cell_type": "code",
   "execution_count": 53,
   "metadata": {
    "tags": []
   },
   "outputs": [
    {
     "output_type": "stream",
     "name": "stdout",
     "text": "5.0       ,3         ,1\n"
    }
   ],
   "source": [
    "print('{:<10},{:<10},{}'.format(15/3,10//3,10%3))\n",
    "#\"//\" means rounding 向下取整至最接近的整数\n",
    "#\"%\" return除法运算后的余数"
   ]
  },
  {
   "cell_type": "code",
   "execution_count": 45,
   "metadata": {
    "tags": []
   },
   "outputs": [
    {
     "output_type": "stream",
     "name": "stdout",
     "text": "5.0,        20,   256    ,\n     hello,        20,   256    ,\n    5     ,    20    ,       256,\n5.00      ,20        ,   256    ,\n         5,20,  256.0   ,\n"
    },
    {
     "output_type": "execute_result",
     "data": {
      "text/plain": "'默认左对齐，{:^10}表示取10位并居中对齐，{:>10}表示取10位并右对齐，{:.5f}表示取小数点后5位'"
     },
     "metadata": {},
     "execution_count": 45
    }
   ],
   "source": [
    "\n",
    "print('{:>10.1f},{:10},{:^10},'.format(11>>1,10<<1,2**8))\n",
    "print('{:>10s},{:10},{:^10},'.format('hello',10<<1,2**8))#疑问，为何第一行第一列的元素无法居中或居右\n",
    "print('{:^10.0f},{:^10},{:>10.0f},'.format(11>>1,10<<1,2**8))\n",
    "print('{:<10.2f},{:<10},{:^10},'.format(11>>1,10<<1,2**8))\n",
    "print('{:>10.0f},{},{:^10.1f},'.format(11>>1,10<<1,2**8))\n",
    "'''默认左对齐，{:^10}表示取10位并居中对齐，{:>10}表示取10位并右对齐，{:.5f}表示取小数点后5位'''"
   ]
  },
  {
   "cell_type": "code",
   "execution_count": 10,
   "metadata": {
    "tags": []
   },
   "outputs": [
    {
     "output_type": "stream",
     "name": "stdout",
     "text": "1,7,6,-6\n"
    }
   ],
   "source": [
    "\"难点\"\n",
    "print('{},{},{},{}'.format(5&3,5|3,5^3,~5))\n",
    "#按位与'&'\n",
    "#按位或'|'\n",
    "#按位异或'^'\n",
    "#按位取反'~'"
   ]
  },
  {
   "cell_type": "code",
   "execution_count": 15,
   "metadata": {},
   "outputs": [
    {
     "output_type": "execute_result",
     "data": {
      "text/plain": "(True, True, False, False, True)"
     },
     "metadata": {},
     "execution_count": 15
    }
   ],
   "source": [
    "#比较符\n",
    "5<6,5<=5,5>=6,5==6,5!=6"
   ]
  },
  {
   "cell_type": "code",
   "execution_count": 20,
   "metadata": {},
   "outputs": [
    {
     "output_type": "execute_result",
     "data": {
      "text/plain": "(False, True, False, True, True)"
     },
     "metadata": {},
     "execution_count": 20
    }
   ],
   "source": [
    "x=True\n",
    "y=False\n",
    "z=True\n",
    "not x,not y,x and y,x or y"
   ]
  },
  {
   "cell_type": "code",
   "execution_count": 33,
   "metadata": {},
   "outputs": [
    {
     "output_type": "execute_result",
     "data": {
      "text/plain": "(9, 9)"
     },
     "metadata": {},
     "execution_count": 33
    }
   ],
   "source": [
    "a=3\n",
    "b=3\n",
    "\n",
    "a*=3\n",
    "b=b*3\n",
    "a,b\n",
    "#a*=3 <=>a=a*3"
   ]
  },
  {
   "cell_type": "code",
   "execution_count": null,
   "metadata": {},
   "outputs": [],
   "source": [
    "'''\n",
    "括号可以改变运算顺序，并使表达式更易读\n",
    "运算顺序：\n",
    "    lambda ：Lambda 表达式\n",
    "    if - else ：条件表达式\n",
    "    or ：布尔“或”\n",
    "    and ：布尔“与”\n",
    "    not x ：布尔“非”\n",
    "    in, not in, is, is not, <, <=, >, >=, !=, == ：比较,包括成员资格测试(Membership Tests）和身份测试（Identity Tests）。\n",
    "    | ：按位或\n",
    "    ^ ：按位异或\n",
    "    & ：按位与\n",
    "    <<, >> ：移动\n",
    "    +, - ：加与减\n",
    "    *, /, //, % ：乘、除、整除、取余\n",
    "    +x, -x, ~x ：正、负、按位取反\n",
    "    ** ：求幂\n",
    "    x[index], x[index:index], x(arguments...), x.attribute ：下标、切片、调用、属性引用\n",
    "    (expressions...), [expressions...], {key: value...},{expressions...} ：表示绑定或元组、表示列表、表示字典、表示集合\n",
    "'''"
   ]
  },
  {
   "cell_type": "code",
   "execution_count": 2,
   "metadata": {
    "tags": []
   },
   "outputs": [
    {
     "output_type": "stream",
     "name": "stdout",
     "text": "area is 10\nperimeter is 14\n"
    }
   ],
   "source": [
    "%load expression.py \n",
    "#打开文件\n",
    "%run expression.py \n",
    "#运行文件\n"
   ]
  }
 ]
}