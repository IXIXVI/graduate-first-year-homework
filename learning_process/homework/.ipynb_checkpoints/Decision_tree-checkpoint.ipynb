{
 "cells": [
  {
   "cell_type": "code",
   "execution_count": 1,
   "metadata": {},
   "outputs": [],
   "source": [
    "import numpy as np\n",
    "from math import log\n",
    "import time"
   ]
  },
  {
   "cell_type": "code",
   "execution_count": 2,
   "metadata": {},
   "outputs": [],
   "source": [
    "start = time.time()\n",
    "num=10000#训练集样本数\n",
    "d1=1000#测试集样本数\n",
    "d2=0#测试集样本中判断正确个数的初值\n",
    "d3=20#特征1在（0,1）间分为几份\n",
    "d4=20#特征0在（0,1）间分为几份\n",
    "X=[[0.3,0.7,0.4],[0.7,0.3,0.4]]#两正态分布的中心与方差"
   ]
  },
  {
   "cell_type": "code",
   "execution_count": 3,
   "metadata": {},
   "outputs": [],
   "source": [
    "#坐标转换\n",
    "#横坐标转换\n",
    "def cf0(i):\n",
    "    c=np.floor(i*d4)+1 \n",
    "    return c\n",
    "#纵坐标转换\n",
    "def cf1(i):\n",
    "    c=np.floor(i*d3)+1\n",
    "    return c"
   ]
  },
  {
   "cell_type": "code",
   "execution_count": 4,
   "metadata": {},
   "outputs": [],
   "source": [
    "#生成训练集,第一列为类别，第二列为第一个特征，第三列为第二个特征\n",
    "aa=np.empty((num,3))\n",
    "for i in range(0,int(0.6*num)):\n",
    "    aa[i][0]=0\n",
    "    aa[i][1]=cf0(np.random.normal(X[0][0],np.sqrt(X[0][2])))\n",
    "    aa[i][2]=cf1(np.random.normal(X[0][1],np.sqrt(X[0][2])))\n",
    "\n",
    "for i in range(int(0.6*num),num):\n",
    "    aa[i][0]=1\n",
    "    aa[i][1]=cf0(np.random.normal(X[1][0],np.sqrt(X[1][2])))\n",
    "    aa[i][2]=cf1(np.random.normal(X[1][1],np.sqrt(X[1][2])))"
   ]
  },
  {
   "cell_type": "code",
   "execution_count": 5,
   "metadata": {},
   "outputs": [],
   "source": [
    "#得到了压缩后的训练集，包含了训练决策树算法需要的所有信息\n",
    "#截取0到1的压缩训练集数据，并将数据到这400个格子中\n",
    "#bb[j][k][0]表示第j行第k列中类0的数目，bb[j][k][1]表示第j行第k列中类1的数目\n",
    "bb=np.zeros((d3,d4,2))\n",
    "#（0,1）内总样本数c1\n",
    "c1=0\n",
    "for i in range(num):\n",
    "    if 0<aa[i][1]<=d4  and 0<aa[i][2]<=d3 :\n",
    "        c1+=1\n",
    "        k=int(aa[i][1])-1\n",
    "        j=int(aa[i][2])-1\n",
    "        if aa[i][0]==0:\n",
    "            bb[j][k][0]+=1\n",
    "        else:\n",
    "            bb[j][k][1]+=1"
   ]
  },
  {
   "cell_type": "code",
   "execution_count": 6,
   "metadata": {},
   "outputs": [],
   "source": [
    "#cc为按特征0分割样本后的结果\n",
    "cc=np.zeros((d4,2))\n",
    "for i in range(d4):\n",
    "    cc[i][0]=bb[:,i,0].sum()\n",
    "    cc[i][1]=bb[:,i,1].sum()\n",
    "#dd为按特征1分割样本后的结果\n",
    "dd=np.zeros((d3,2))\n",
    "for i in range(d3):\n",
    "    dd[i][0]=bb[i,:,0].sum()\n",
    "    dd[i][1]=bb[i,:,1].sum()\n"
   ]
  },
  {
   "cell_type": "code",
   "execution_count": 7,
   "metadata": {},
   "outputs": [],
   "source": [
    "#根节点的熵\n",
    "def prop(x,y):\n",
    "    #定义一个计算x中y类样本说占比例\n",
    "    d=(x[:,:,y].sum())/c1\n",
    "    #d=(sum(sum(x[:,:,y])))/c1\n",
    "    return d\n",
    "\n",
    "bbentropy=-(prop(bb,1)*log(prop(bb,1))+prop(bb,0)*log(prop(bb,0)))"
   ]
  },
  {
   "cell_type": "code",
   "execution_count": 8,
   "metadata": {},
   "outputs": [],
   "source": [
    "#按行或列(y=0或1)划分后,第z类样本中第z类(20类)所占比例Di/D\n",
    "def prop1(y,z):\n",
    "    if y==0:\n",
    "        return cc[z].sum()/c1\n",
    "    if y==1:\n",
    "        return dd[z].sum()/c1\n",
    "#H(Di),y为类别，z为i\n",
    "def entropy1(y,z):\n",
    "    if y==0:\n",
    "        return -((cc[z][0]/cc[z].sum())*log(cc[z][0]/cc[z].sum())+(cc[z][1]/cc[z].sum())*log(cc[z][1]/cc[z].sum()))\n",
    "    else:\n",
    "        return -((dd[z][0]/dd[z].sum())*log(dd[z][0]/dd[z].sum())+(dd[z][1]/dd[z].sum())*log(dd[z][1]/dd[z].sum()))"
   ]
  },
  {
   "cell_type": "code",
   "execution_count": 9,
   "metadata": {},
   "outputs": [],
   "source": [
    "#定义条件熵，类别y=0或1\n",
    "def entropy2(y):\n",
    "    b=0\n",
    "    if y==0:\n",
    "        a=d4\n",
    "    else:\n",
    "        a=d3\n",
    "    for z in range(a):\n",
    "        b+=prop1(y,z)*entropy1(y,z)\n",
    "    return b\n"
   ]
  },
  {
   "cell_type": "code",
   "execution_count": 10,
   "metadata": {},
   "outputs": [
    {
     "name": "stdout",
     "output_type": "stream",
     "text": [
      "H(D): 0.6757133496354356 \n",
      " H(D|1): 0.662447589665932 \n",
      " H(D|0): 0.6665048103723684 \n",
      " H(D|1)>H(D|0): False\n"
     ]
    }
   ],
   "source": [
    "#FALSE代表用横坐标划分后的条件熵比用纵坐标划分后的条件熵大，先用纵坐标划分信息增益大\n",
    "#True代表用横坐标划分后的条件熵比用纵坐标划分后的条件熵小，先用横坐标划分信息增益大\n",
    "print('H(D):',bbentropy,'\\n','H(D|1):',entropy2(1),'\\n','H(D|0):',entropy2(0),'\\n','H(D|1)>H(D|0):',entropy2(1)>entropy2(0))"
   ]
  },
  {
   "cell_type": "code",
   "execution_count": 11,
   "metadata": {},
   "outputs": [],
   "source": [
    "def I(c):\n",
    "    n=np.random.uniform()\n",
    "    if c<=n:\n",
    "        return 0\n",
    "    else:\n",
    "        return 1\n",
    "#生成测试集\n",
    "ee=np.empty((d1,3),int)\n",
    "for i in range(d1):\n",
    "    #cc[i][0]=i+1#cc[i]的序号\n",
    "    ee[i][0]=I(0.4)#cc[i]的真实类\n",
    "    a=int(ee[i][0])\n",
    "    ee[i][1]=cf0(np.random.normal(X[a][0],np.sqrt(X[a][2])))\n",
    "    ee[i][2]=cf1(np.random.normal(X[a][1],np.sqrt(X[a][2])))"
   ]
  },
  {
   "cell_type": "code",
   "execution_count": 12,
   "metadata": {},
   "outputs": [],
   "source": [
    "#裁剪测试集\n",
    "ff=[]\n",
    "for i in range(d1):\n",
    "    if ee[i][1]>0 and ee[i][1]<=d4 and ee[i][2]>0 and ee[i][2]<=d3:\n",
    "        ff.append(ee[i])\n",
    "ff=np.array(ff,int)"
   ]
  },
  {
   "cell_type": "code",
   "execution_count": 13,
   "metadata": {},
   "outputs": [],
   "source": [
    "#决策树的叶结点\n",
    "gg=np.empty((d3,d4))\n",
    "k=0\n",
    "for i in range(d3):\n",
    "    for j in range(d4): \n",
    "        if bb[i][j][0]>=bb[i][j][1]:\n",
    "            gg[i][j]=0\n",
    "            k+=1\n",
    "        else:\n",
    "            gg[i][j]=1"
   ]
  },
  {
   "cell_type": "code",
   "execution_count": 14,
   "metadata": {},
   "outputs": [
    {
     "data": {
      "text/plain": [
       "0.5845070422535211"
      ]
     },
     "execution_count": 14,
     "metadata": {},
     "output_type": "execute_result"
    }
   ],
   "source": [
    "su=0\n",
    "for i in range(len(ff)):\n",
    "    if ff[i][0]==gg[ff[i][2]-1,ff[i][1]-1]:\n",
    "        su+=1\n",
    "su/len(ff)\n"
   ]
  }
 ],
 "metadata": {
  "kernelspec": {
   "display_name": "Python 3",
   "language": "python",
   "name": "python3"
  },
  "language_info": {
   "codemirror_mode": {
    "name": "ipython",
    "version": 3
   },
   "file_extension": ".py",
   "mimetype": "text/x-python",
   "name": "python",
   "nbconvert_exporter": "python",
   "pygments_lexer": "ipython3",
   "version": "3.7.6"
  }
 },
 "nbformat": 4,
 "nbformat_minor": 2
}
