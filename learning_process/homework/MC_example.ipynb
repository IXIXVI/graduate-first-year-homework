{
 "cells": [
  {
   "cell_type": "code",
   "execution_count": 1,
   "metadata": {},
   "outputs": [],
   "source": [
    "import numpy as np\n",
    "import math\n",
    "import matplotlib.pyplot as plt"
   ]
  },
  {
   "cell_type": "code",
   "execution_count": 2,
   "metadata": {},
   "outputs": [],
   "source": [
    "def I(x):#一个随机生成-1、1的函数\n",
    "    c=np.random.uniform()\n",
    "    if x<=c:\n",
    "        return -1\n",
    "    else:\n",
    "        return 1\n"
   ]
  },
  {
   "cell_type": "code",
   "execution_count": 3,
   "metadata": {},
   "outputs": [],
   "source": [
    "aa=np.zeros((10000,21),int)#存储10000个样本的20步内的随机漫步过程\n",
    "for i in range(10000):#随机漫步过程\n",
    "    for j in range(0,20):\n",
    "        aa[i][j+1]=aa[i][j]+I(0.5)\n",
    "        if aa[i][j+1] < -10 or aa[i][j+1] > 10:#若到达吸收界\n",
    "            aa[i][20]=100#给数组最后一位赋值100代表到达吸收界（这里可以任意大于10或小于10的数）\n",
    "            break"
   ]
  },
  {
   "cell_type": "code",
   "execution_count": 4,
   "metadata": {},
   "outputs": [],
   "source": [
    "#根据数组最后一位统计10000个样本的情况\n",
    "num=0\n",
    "for i in range(0,10000):\n",
    "    if aa[i][20]==100:\n",
    "        num+=1"
   ]
  },
  {
   "cell_type": "code",
   "execution_count": 5,
   "metadata": {},
   "outputs": [
    {
     "data": {
      "text/plain": [
       "0.9772"
      ]
     },
     "execution_count": 5,
     "metadata": {},
     "output_type": "execute_result"
    }
   ],
   "source": [
    "#存活率\n",
    "1-(num/10000)"
   ]
  },
  {
   "cell_type": "code",
   "execution_count": 6,
   "metadata": {},
   "outputs": [
    {
     "data": {
      "text/plain": [
       "array([ 104,    0,  337,    0,  722,    0, 1226,    0, 1509,    0, 1773,\n",
       "          0, 1657,    0, 1217,    0,  732,    0,  390,    0,  105])"
      ]
     },
     "execution_count": 6,
     "metadata": {},
     "output_type": "execute_result"
    }
   ],
   "source": [
    "b=np.zeros(21,int)\n",
    "for j in range (10000):\n",
    "    if aa[j][20] != 100:\n",
    "        b[(aa[j][20])+10]+=1\n",
    "b   "
   ]
  },
  {
   "cell_type": "code",
   "execution_count": 7,
   "metadata": {},
   "outputs": [
    {
     "data": {
      "text/plain": [
       "<BarContainer object of 21 artists>"
      ]
     },
     "execution_count": 7,
     "metadata": {},
     "output_type": "execute_result"
    },
    {
     "data": {
      "image/png": "[encoded data removed]",
      "text/plain": [
       "<Figure size 432x288 with 1 Axes>"
      ]
     },
     "metadata": {
      "needs_background": "light"
     },
     "output_type": "display_data"
    }
   ],
   "source": [
    "#给所有情况做bar图，查看一下分布\n",
    "c=np.arange(-10,11)\n",
    "plt.xticks(c, color='blue',rotation=60)\n",
    "plt.ylabel('num') \n",
    "plt.xlabel('situation') \n",
    "plt.bar(c,b,width=0.8)"
   ]
  },
  {
   "cell_type": "code",
   "execution_count": 8,
   "metadata": {},
   "outputs": [],
   "source": [
    "#n！：factorial\n",
    "def fa(n):\n",
    "    if n==2:\n",
    "        return 2\n",
    "    else:\n",
    "        return n*fa(n-1)\n",
    "#排列组合\n",
    "def c(n,m):\n",
    "    x=fa(n)/(fa(m)*fa(n-m))\n",
    "    return x"
   ]
  },
  {
   "cell_type": "code",
   "execution_count": 9,
   "metadata": {},
   "outputs": [
    {
     "data": {
      "text/plain": [
       "0.9642791748046875"
      ]
     },
     "execution_count": 9,
     "metadata": {},
     "output_type": "execute_result"
    }
   ],
   "source": [
    "#真实存活概率为0.964，与simulation近似\n",
    "a=2*(np.power(0.5,11)+13*np.power(0.5,13)+c(15,2)*np.power(0.5,15)+c(17,3)*np.power(0.5,17)+c(19,4)*np.power(0.5,19))\n",
    "1-a"
   ]
  }
 ],
 "metadata": {
  "kernelspec": {
   "display_name": "Python 3",
   "language": "python",
   "name": "python3"
  },
  "language_info": {
   "codemirror_mode": {
    "name": "ipython",
    "version": 3
   },
   "file_extension": ".py",
   "mimetype": "text/x-python",
   "name": "python",
   "nbconvert_exporter": "python",
   "pygments_lexer": "ipython3",
   "version": "3.7.6"
  }
 },
 "nbformat": 4,
 "nbformat_minor": 2
}
