{
 "cells": [
  {
   "cell_type": "code",
   "execution_count": 1,
   "source": [
    "import numpy as np\r\n",
    "import matplotlib.pyplot as plt\r\n",
    "from matplotlib import pyplot as plt"
   ],
   "outputs": [],
   "metadata": {}
  },
  {
   "cell_type": "code",
   "execution_count": 2,
   "source": [
    "K=3\r\n",
    "num=600\r\n",
    "weight=[0.2,0.3,0.5]\r\n",
    "mean=[-2,0,2]\r\n",
    "covs=[1,1,1]#标准差\r\n",
    "Theta=np.array([weight,mean,covs])"
   ],
   "outputs": [],
   "metadata": {}
  },
  {
   "cell_type": "code",
   "execution_count": 3,
   "source": [
    "aa=np.random.normal(mean[0],covs[0],int(num*weight[0]))\r\n",
    "bb=np.random.normal(mean[1],covs[1],int(num*weight[1]))\r\n",
    "cc=np.random.normal(mean[2],covs[2],int(num*weight[2]))"
   ],
   "outputs": [],
   "metadata": {}
  },
  {
   "cell_type": "code",
   "execution_count": 4,
   "source": [
    "data=np.hstack((aa,bb,cc))"
   ],
   "outputs": [],
   "metadata": {}
  },
  {
   "cell_type": "code",
   "execution_count": 5,
   "source": [
    "def normal(x,theta):\r\n",
    "    mu=theta[0]\r\n",
    "    s=theta[1]#标准差\r\n",
    "    result=(1/(np.sqrt(2*np.pi)*s))*np.exp(-1*(x-mu)*(x-mu)/(2*s**2))\r\n",
    "    return result"
   ],
   "outputs": [],
   "metadata": {}
  },
  {
   "cell_type": "code",
   "execution_count": 6,
   "source": [
    "def EM(X,theta):\r\n",
    "    Ga=np.zeros((num,K))\r\n",
    "    c=np.zeros(K)\r\n",
    "    d=np.zeros(K)\r\n",
    "    thetanext=np.zeros((3,K))\r\n",
    "    \r\n",
    "    for j in range(num):#响应度\r\n",
    "        for k in range(K):\r\n",
    "            c[k]=theta[0][k]*normal(X[j],theta[1:,k])\r\n",
    "        Ga[j]=c/np.sum(c)\r\n",
    "\r\n",
    "    for k in range(K):#更新参数\r\n",
    "        d[k]=np.sum(Ga[:,k])\r\n",
    "        thetanext[0,k]=d[k]/num\r\n",
    "        thetanext[1,k]=np.dot(Ga[:,k],X[:])/d[k]\r\n",
    "        thetanext[2,k]=np.sqrt(np.dot(Ga[:,k],(X[:]-theta[1,k])**2)/d[k])#标准差\r\n",
    "\r\n",
    "    return thetanext"
   ],
   "outputs": [],
   "metadata": {}
  },
  {
   "cell_type": "code",
   "execution_count": 7,
   "source": [
    "weight0=[0.3,0.4,0.3]\r\n",
    "mean0=[-5,0,5]\r\n",
    "covs0=[1,1,1]\r\n",
    "theta0=np.array([weight0,mean0,covs0])"
   ],
   "outputs": [],
   "metadata": {}
  },
  {
   "cell_type": "code",
   "execution_count": 8,
   "source": [
    "def iterate(X,n,T0):\r\n",
    "    for i in range (n):\r\n",
    "        T0=EM(X,T0)\r\n",
    "    return T0"
   ],
   "outputs": [],
   "metadata": {}
  },
  {
   "cell_type": "code",
   "execution_count": 9,
   "source": [
    "Theta"
   ],
   "outputs": [
    {
     "output_type": "execute_result",
     "data": {
      "text/plain": [
       "array([[ 0.2,  0.3,  0.5],\n",
       "       [-2. ,  0. ,  2. ],\n",
       "       [ 1. ,  1. ,  1. ]])"
      ]
     },
     "metadata": {},
     "execution_count": 9
    }
   ],
   "metadata": {}
  },
  {
   "cell_type": "code",
   "execution_count": 10,
   "source": [
    "iterate(data,50,theta0)"
   ],
   "outputs": [
    {
     "output_type": "execute_result",
     "data": {
      "text/plain": [
       "array([[ 0.15195019,  0.57618599,  0.27186382],\n",
       "       [-2.35962488,  0.46128799,  2.4840887 ],\n",
       "       [ 0.88646533,  1.37617874,  0.77360986]])"
      ]
     },
     "metadata": {},
     "execution_count": 10
    }
   ],
   "metadata": {}
  },
  {
   "cell_type": "code",
   "execution_count": 14,
   "source": [
    "x = np.linspace(-5,5,2000) # 从0到1，等分50分\r\n",
    "y = weight[0]*normal(x,Theta[1:,0])+weight[1]*normal(x,Theta[1:,1])+weight[2]*normal(x,Theta[1:,2])\r\n",
    "\r\n",
    "plt.figure() # 定义一个图像窗口\r\n",
    "plt.plot(x, y) # 绘制曲线 y\r\n",
    "plt.show()"
   ],
   "outputs": [
    {
     "output_type": "display_data",
     "data": {
      "image/png": "[encoded data removed]",
      "text/plain": [
       "<Figure size 432x288 with 1 Axes>"
      ]
     },
     "metadata": {
      "needs_background": "light"
     }
    }
   ],
   "metadata": {}
  },
  {
   "cell_type": "code",
   "execution_count": 12,
   "source": [
    "plt.hist(aa, bins=10,  facecolor=\"blue\", edgecolor=\"black\", alpha=0.7)\r\n",
    "plt.hist(bb, bins=10,  facecolor=\"red\", edgecolor=\"black\", alpha=0.7)\r\n",
    "plt.hist(cc, bins=10, facecolor=\"green\", edgecolor=\"black\", alpha=0.7)"
   ],
   "outputs": [
    {
     "output_type": "execute_result",
     "data": {
      "text/plain": [
       "(array([ 5., 11., 30., 40., 63., 62., 45., 37.,  6.,  1.]),\n",
       " array([-0.69594347, -0.14046086,  0.41502175,  0.97050436,  1.52598697,\n",
       "         2.08146958,  2.63695219,  3.1924348 ,  3.74791741,  4.30340002,\n",
       "         4.85888263]),\n",
       " <BarContainer object of 10 artists>)"
      ]
     },
     "metadata": {},
     "execution_count": 12
    },
    {
     "output_type": "display_data",
     "data": {
      "image/png": "[encoded data removed]",
      "text/plain": [
       "<Figure size 432x288 with 1 Axes>"
      ]
     },
     "metadata": {
      "needs_background": "light"
     }
    }
   ],
   "metadata": {}
  }
 ],
 "metadata": {
  "orig_nbformat": 4,
  "language_info": {
   "name": "python",
   "version": "3.8.5",
   "mimetype": "text/x-python",
   "codemirror_mode": {
    "name": "ipython",
    "version": 3
   },
   "pygments_lexer": "ipython3",
   "nbconvert_exporter": "python",
   "file_extension": ".py"
  },
  "kernelspec": {
   "name": "python3",
   "display_name": "Python 3.8.5 64-bit ('base': conda)"
  },
  "interpreter": {
   "hash": "b3ba2566441a7c06988d0923437866b63cedc61552a5af99d1f4fb67d367b25f"
  }
 },
 "nbformat": 4,
 "nbformat_minor": 2
}