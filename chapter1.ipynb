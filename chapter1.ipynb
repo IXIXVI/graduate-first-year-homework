{
 "cells": [
  {
   "cell_type": "code",
   "execution_count": 1,
   "metadata": {
    "tags": []
   },
   "outputs": [
    {
     "output_type": "stream",
     "name": "stdout",
     "text": "3\n"
    }
   ],
   "source": [
    "x=int(input(\"x:\")) \n",
    "print(3*x)"
   ]
  },
  {
   "cell_type": "code",
   "execution_count": 2,
   "metadata": {
    "tags": []
   },
   "outputs": [
    {
     "output_type": "stream",
     "name": "stdout",
     "text": "hello\nzyn\n"
    }
   ],
   "source": [
    "name=input(\"please input your name :\")\n",
    "print(\"hello\\n\"+name)"
   ]
  },
  {
   "cell_type": "code",
   "execution_count": null,
   "metadata": {
    "tags": []
   },
   "outputs": [],
   "source": [
    "cd C:\\Users\\Administrator\\Desktop\\test"
   ]
  },
  {
   "cell_type": "code",
   "execution_count": 4,
   "metadata": {
    "tags": []
   },
   "outputs": [
    {
     "output_type": "stream",
     "name": "stdout",
     "text": "Tommy was 20 years old when he worte this sentence\n"
    }
   ],
   "source": [
    "age= 20\n",
    "name='Tommy'\n",
    "\n",
    "print(\"{0} was {1} years old when he worte this sentence\".format(name,age))\n",
    "#Python 从 0 开始计数"
   ]
  },
  {
   "cell_type": "code",
   "execution_count": 21,
   "metadata": {
    "tags": []
   },
   "outputs": [
    {
     "output_type": "stream",
     "name": "stdout",
     "text": "0.333\n"
    }
   ],
   "source": [
    "print('{0:.3}'.format(1/3))"
   ]
  },
  {
   "cell_type": "code",
   "execution_count": 7,
   "metadata": {
    "tags": []
   },
   "outputs": [
    {
     "output_type": "stream",
     "name": "stdout",
     "text": "____hello____\n"
    }
   ],
   "source": [
    "print('{0:_^13}'.format(\"hello\"))#使用 (^) 定义 '___hello___'字符串长度为 11"
   ]
  },
  {
   "cell_type": "code",
   "execution_count": 29,
   "metadata": {
    "tags": []
   },
   "outputs": [
    {
     "output_type": "stream",
     "name": "stdout",
     "text": "Tommy wrote this sentence when he was 20 years old\n"
    }
   ],
   "source": [
    "print(\"{0} wrote this sentence when he was {1} years old\".format(name,age))"
   ]
  },
  {
   "cell_type": "code",
   "execution_count": 34,
   "metadata": {
    "tags": []
   },
   "outputs": [
    {
     "output_type": "stream",
     "name": "stdout",
     "text": "a b\n"
    }
   ],
   "source": [
    "print('a',end=\" \") #要注意 print 总是会以一个不可见的“新一行”字符（ \\n ）结尾，因此重复调用 print 将会在相互独立的一行中分别打印。为防止打印过程中出现这一换行符，你可以通过 end 指定其应以空白结尾\n",
    "print('b')"
   ]
  },
  {
   "cell_type": "code",
   "execution_count": 45,
   "metadata": {
    "tags": []
   },
   "outputs": [
    {
     "output_type": "stream",
     "name": "stdout",
     "text": "what's your name?\tMy name is zyn\nwhat's your name?\tMy name is zyn\nwhat\\'s your name?\tMy name is zyn\n"
    }
   ],
   "source": [
    "\"转义序列\"\n",
    "print(\"what's your name?\\tMy name is zyn\")#\\t表示“tab”\n",
    "print('what\\'s your name?\\tMy name is zyn')#通过\\来指定单引号：要注意它可是反斜杠\n",
    "print(\"what\\\\'s your name?\\tMy name is zyn\")#必须使用转义序列 \\\\ 来指定反斜杠本身"
   ]
  },
  {
   "cell_type": "code",
   "execution_count": 48,
   "metadata": {
    "tags": []
   },
   "outputs": [
    {
     "output_type": "stream",
     "name": "stdout",
     "text": "what's your name?    what's your name?\n"
    }
   ],
   "source": [
    "print(\"what's your name?\\\n",
    "    what's your name?\")\n",
    "#在一个字符串中，一个放置在末尾的反斜杠表示字符串将在下一行继续，但不会添加新的一行"
   ]
  },
  {
   "cell_type": "code",
   "execution_count": 51,
   "metadata": {},
   "outputs": [
    {
     "output_type": "execute_result",
     "data": {
      "text/plain": "'Newlines are indicated by \\\\n'"
     },
     "metadata": {},
     "execution_count": 51
    }
   ],
   "source": [
    "r\"Newlines are indicated by \\n\"\n",
    "#在字符串前增加r 或 R 来指定一个 原始（Raw） 字符串,即不加编译的一段characters"
   ]
  },
  {
   "cell_type": "code",
   "execution_count": 55,
   "metadata": {
    "tags": []
   },
   "outputs": [
    {
     "output_type": "stream",
     "name": "stdout",
     "text": "标识符，即为标识某个东西，提供名称\n首字符必须大小写的英文字母或下划线_，即为ASCII中的字符\n区分大小写\n标识符其他部分可用字符、数字、下划线\n"
    }
   ],
   "source": [
    "print(\"标识符，即为标识某个东西，提供名称\\n\"\n",
    "\"首字符必须大小写的英文字母或下划线_，即为ASCII中的字符\\n\"\n",
    "\"区分大小写\\n\"\n",
    "\"标识符其他部分可用字符、数字、下划线_\")"
   ]
  },
  {
   "cell_type": "code",
   "execution_count": null,
   "metadata": {},
   "outputs": [],
   "source": []
  }
 ],
 "metadata": {
  "kernelspec": {
   "display_name": "Python 3",
   "language": "python",
   "name": "python3"
  },
  "language_info": {
   "codemirror_mode": {
    "name": "ipython",
    "version": 3
   },
   "file_extension": ".py",
   "mimetype": "text/x-python",
   "name": "python",
   "nbconvert_exporter": "python",
   "pygments_lexer": "ipython3",
   "version": "3.7.6-final"
  }
 },
 "nbformat": 4,
 "nbformat_minor": 4
}