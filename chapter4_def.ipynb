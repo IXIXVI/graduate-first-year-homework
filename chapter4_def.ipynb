{
 "metadata": {
  "language_info": {
   "codemirror_mode": {
    "name": "ipython",
    "version": 3
   },
   "file_extension": ".py",
   "mimetype": "text/x-python",
   "name": "python",
   "nbconvert_exporter": "python",
   "pygments_lexer": "ipython3",
   "version": "3.7.6-final"
  },
  "orig_nbformat": 2,
  "kernelspec": {
   "name": "python_defaultSpec_1599640361210",
   "display_name": "Python 3.7.6 64-bit ('base': conda)"
  }
 },
 "nbformat": 4,
 "nbformat_minor": 2,
 "cells": [
  {
   "cell_type": "code",
   "execution_count": 2,
   "metadata": {},
   "outputs": [],
   "source": [
    "import fundation1"
   ]
  },
  {
   "cell_type": "code",
   "execution_count": 3,
   "metadata": {
    "tags": []
   },
   "outputs": [
    {
     "output_type": "stream",
     "name": "stdout",
     "text": "4  is maximum\n"
    }
   ],
   "source": [
    "fundation1.print_max(4,2)"
   ]
  },
  {
   "cell_type": "code",
   "execution_count": 25,
   "metadata": {
    "tags": []
   },
   "outputs": [
    {
     "output_type": "stream",
     "name": "stdout",
     "text": "x is  50\nchange x to  2\nx still is 50\n"
    }
   ],
   "source": [
    "x=50#定义一个全局变量X，x=50\n",
    "def fanc1(x):\n",
    "    print(\"x is \",x)\n",
    "    x=2#这里的x为局部变量，在函数内可变\n",
    "    print('change x to ',x)\n",
    "\n",
    "fanc1(x)#\n",
    "print(\"x still is\",x)#这里的x依然为全局变量x的值"
   ]
  },
  {
   "cell_type": "code",
   "execution_count": 27,
   "metadata": {
    "tags": []
   },
   "outputs": [
    {
     "output_type": "stream",
     "name": "stdout",
     "text": "x is  50\nchange x to  2\nthe real x is 2\n"
    }
   ],
   "source": [
    "x=50\n",
    "def func2():\n",
    "    global x#声明函数func2()will define a gobal variable \"x\"\n",
    "\n",
    "    print(\"x is \",x)\n",
    "    x=2\n",
    "    print('change x to ',x)\n",
    "    \n",
    "func2()\n",
    "print('the real x is',x)"
   ]
  },
  {
   "cell_type": "code",
   "execution_count": 28,
   "metadata": {
    "tags": []
   },
   "outputs": [
    {
     "output_type": "stream",
     "name": "stdout",
     "text": "hello\nhellohellohellohellohello\n"
    }
   ],
   "source": [
    "#default value of parameter must be a constant ，and only the back part of parameters in list can be set,e.g.(a=1,b=2,c)is wrong,(a,b=2,c=3)is allowed.\n",
    "\n",
    "def say(message,time=1):\n",
    "    print(message*time)\n",
    "\n",
    "say(\"hello\")\n",
    "say('hello',5)\n"
   ]
  },
  {
   "cell_type": "code",
   "execution_count": 32,
   "metadata": {
    "tags": []
   },
   "outputs": [
    {
     "output_type": "stream",
     "name": "stdout",
     "text": "a is  1 \tb is  2 \tc is  3\na is  1 \tb is  5 \tc is  4\na is  1 \tb is  5 \tc is  2\n"
    }
   ],
   "source": [
    "#关键字参数keyword\n",
    "def fanc3(a,b=5,c=4):\n",
    "    print('a is ',a,'\\tb is ',b,'\\tc is ',c)\n",
    "\n",
    "fanc3(1,2,3)\n",
    "fanc3(1)\n",
    "fanc3(1,c=2)"
   ]
  },
  {
   "cell_type": "code",
   "execution_count": 49,
   "metadata": {
    "tags": []
   },
   "outputs": [
    {
     "output_type": "stream",
     "name": "stdout",
     "text": "a 10\nsingle_item 3\nsingle_item 2\nsingle_item 1\nJack 1123\nJohn 2231\nInge 1560\nNone\nNone\n"
    },
    {
     "output_type": "execute_result",
     "data": {
      "text/plain": "'\\n当我们声明一个诸如 *param 的星号参数时，从此处开始直到结束的所有位置参数（Positional Arguments）都将被收集并汇集成一个称为“param”的元组（Tuple）。\\n类似地，当我们声明一个诸如 **param 的双星号参数时，从此处开始直至结束的所有关键字参数都将被收集并汇集成一个名为 param 的字典（Dictionary）。\\n'"
     },
     "metadata": {},
     "execution_count": 49
    }
   ],
   "source": [
    "#可变参数var args\n",
    "# 一星：*param表示元组，\n",
    "'''\n",
    "Tuple 比 list 操作速度快。如果您定义了一个值的常量集，并且唯一要用它做的是不断地遍历它，请使用 tuple 代替 list。\n",
    "如果对不需要修改的数据进行 “写保护”，可以使代码更安全。\n",
    "使用 tuple 而不是 list 如同拥有一个隐含的 assert 语句，说明这一数据是常量。如果必须要改变这些值，则需要执行 tuple 到 list 的转换。\n",
    "您不能向 tuple 增加元素。Tuple 没有 append 或 extend 方法。\n",
    "您不能从 tuple 删除元素。Tuple 没有 remove 或 pop 方法。\n",
    "然而, 您可以使用 in 来查看一个元素是否存在于 tuple 中。\n",
    "'''\n",
    "# 二星：**param表示字典，有一一映射的两部分\n",
    "def total(a=5, *numbers, **phonebook):\n",
    "    print('a',a)\n",
    "    '''可以通过使用函数的 __doc__ （注意其中的双下划綫）属性（属于函数的名称）来获取函数定义block中的的文档字符串属性。'''\n",
    "    for single_item in numbers:\n",
    "        print('single_item', single_item)\n",
    "    for first_part, second_part in phonebook.items():\n",
    "        print(first_part,second_part)\n",
    "\n",
    "\n",
    "\n",
    "print(total(10,3,2,1,Jack=1123,John=2231,Inge=1560))\n",
    "print(total.__doc__)\n",
    "'''\n",
    "当我们声明一个诸如 *param 的星号参数时，从此处开始直到结束的所有位置参数（Positional Arguments）都将被收集并汇集成一个称为“param”的元组（Tuple）。\n",
    "类似地，当我们声明一个诸如 **param 的双星号参数时，从此处开始直至结束的所有关键字参数都将被收集并汇集成一个名为 param 的字典（Dictionary）。\n",
    "'''"
   ]
  }
 ]
}