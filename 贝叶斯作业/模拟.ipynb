{
 "cells": [
  {
   "cell_type": "code",
   "execution_count": 1,
   "metadata": {},
   "outputs": [],
   "source": [
    "import numpy as np\n",
    "from scipy.special import logit,expit\n",
    "import collections\n",
    "import matplotlib.pyplot as plt"
   ]
  },
  {
   "cell_type": "code",
   "execution_count": 2,
   "metadata": {},
   "outputs": [],
   "source": [
    "def g(x,y):\n",
    "    y=np.dot(x,y)\n",
    "    return y\n",
    "\n",
    "def f(x,y):\n",
    "    y=np.dot(x,y)\n",
    "    return y\n",
    "\n",
    "def pi(x,y):\n",
    "    y=expit(g(x,y))\n",
    "    return y\n",
    "\n",
    "def phi(x,y):\n",
    "    y=expit(f(x,y))\n",
    "    return y\n",
    "\n",
    "def I0(y):\n",
    "    if y==0:\n",
    "        return 1"
   ]
  },
  {
   "cell_type": "code",
   "execution_count": 3,
   "metadata": {},
   "outputs": [],
   "source": [
    "#E-step\n",
    "def Lih(X,beta):\n",
    "    Ga=np.zeros((N,2))\n",
    "\n",
    "    for i in range(N):#响应度\n",
    "        if Y[i]==1:\n",
    "            Ga[i,0]=0\n",
    "            Ga[i,1]=1\n",
    "        elif Y[i]==0:\n",
    "            a=(expit(np.dot(X[i],beta[0])))\n",
    "            b=(1-a)*(1-expit(np.dot(X[i],beta[1])))\n",
    "            Ga[i,0]=a/(a+b)\n",
    "            Ga[i,1]=1-Ga[i,0]\n",
    "\n",
    "    return Ga\n",
    "\n",
    "\n",
    "#M-step\n",
    "def Q(X,Y,beta):\n",
    "    Ga=Lih(X,beta)\n",
    "    A=np.zeros(N)\n",
    "    for i in range(N):\n",
    "        pi=expit(np.dot(beta[0],X[i]))\n",
    "        phi=expit(np.dot(beta[1],X[i]))\n",
    "        if Y[i]==0:\n",
    "            A[i]=(Ga[i,0])*np.log(pi)+(Ga[i,1])*np.log((1-pi)*(1-phi))\n",
    "            #A[i]=Ga[i,0]*np.log(pi)+Ga[i,1]*np.log((1-pi)*(1-phi))\n",
    "            #A[i]=(Ga[i,0]*np.log(pi))+(Ga[i,1]*(np.log(1-pi)+np.log(1-phi)))\n",
    "        else:\n",
    "            A[i]=(Ga[i,1])*np.log((1-pi)*(phi))\n",
    "            #A[i]=Ga[i,0]*np.log(pi)+Ga[i,1]*np.log((1-pi)*(1-phi))\n",
    "            #A[i]=(Ga[i,0]*np.log(pi))+(Ga[i,1]*(np.log(1-pi)+np.log(phi)))\n",
    "        #A[i]=(Ga[i,0]*(1-Y[i])*np.log(pi))+(Ga[i,1]*(np.log(1-pi)+np.log(1-phi)+Y[i]*np.dot(X[i],beta[1])))\n",
    "    Q=np.sum(A)\n",
    "    return Q\n",
    "\n",
    "def grad(X,Y,Ga,beta):\n",
    "    A=np.zeros((N,P))\n",
    "    B=np.zeros((N,P))\n",
    "    for i in range(N):\n",
    "        A[i]=((Ga[i,0]*(1-Y[i]))*(1-expit(np.dot(beta[0],X[i])))-(Ga[i,1]*expit(np.dot(beta[0],X[i]))))*X[i]\n",
    "        B[i]=(Ga[i,1]*(Y[i]-expit(np.dot(beta[1],X[i]))))*X[i]\n",
    "    grad1=np.sum(A,axis=0)\n",
    "    grad2=np.sum(B,axis=0)\n",
    "    grad=np.array([grad1,grad2])\n",
    "    return grad\n",
    "\n",
    "\n",
    "#EM\n",
    "def dgra(X,Y,ibeta,n=1000,t=0.001,xim=0.99,yim=0.1):#梯度下降（回溯梯度下降法）xim为步长缩小倍数\n",
    "\n",
    "    for i in range(n):#M-step\n",
    "        lik1=Q(X,Y,ibeta)\n",
    "        ibeta1=ibeta\n",
    "        L=Lih(X,ibeta)#E-step\n",
    "        ibeta=ibeta+t*grad(X,Y,L,ibeta)\n",
    "        lik=Q(X,Y,ibeta)\n",
    "        d=np.r_[ibeta[0],ibeta[1]]\n",
    "        c=np.dot(d,d)\n",
    "        b=(lik-lik1)\n",
    "        print('i=',i,'b=',b,'\\tstep=',t)\n",
    "        print('Q=',Q(X,Y,ibeta))\n",
    "        if b>=yim*t*c :\n",
    "            t=xim*t\n",
    "        else:\n",
    "            break\n",
    "    return ibeta\n"
   ]
  },
  {
   "cell_type": "code",
   "execution_count": 4,
   "metadata": {},
   "outputs": [],
   "source": [
    "N=500\n",
    "M=50\n",
    "P=3\n",
    "np.random.seed(123)\n"
   ]
  },
  {
   "cell_type": "code",
   "execution_count": 5,
   "metadata": {},
   "outputs": [],
   "source": [
    "def creatB():\n",
    "    b1=0.1*np.random.rand(3)-0.05\n",
    "    b2=np.random.rand(3)-0.5\n",
    "    b1[2]=-0.5*np.random.rand()-0.5\n",
    "    b2[1]=0.5*np.random.rand()+0.5\n",
    "    b=np.array([b1,b2])\n",
    "    return b\n",
    "\n",
    "def creatX():#X[i,j]表示第i个样本第j维分量\n",
    "    X=np.zeros((N,3))\n",
    "    for i in range(N):\n",
    "        a=np.zeros(3)\n",
    "        mu=[-1.5,-1.5]\n",
    "        cov=np.array([[1,0.3],[0.3,1]])\n",
    "        a[0]=1\n",
    "        a[1:]=np.random.multivariate_normal(mu,cov,1,check_valid='raise')\n",
    "        X[i]=a\n",
    "    return X\n",
    "\n",
    "\n",
    "def creatY(X,beta):\n",
    "    Y=np.zeros(N)\n",
    "    for i in range(N):\n",
    "        a=np.random.rand()\n",
    "        b=pi(X[i],beta[0])\n",
    "        if a>=b:\n",
    "            c=np.random.rand()\n",
    "            d=phi(X[i],beta[1])\n",
    "            if c>=d:\n",
    "                Y[i]=1\n",
    "    return Y"
   ]
  },
  {
   "cell_type": "code",
   "execution_count": 6,
   "metadata": {},
   "outputs": [],
   "source": [
    "Y=np.zeros(N)\n",
    "beta=creatB()\n",
    "A=creatX()\n",
    "B=expit(np.dot(A,beta.T))\n",
    "C=np.random.rand(N,2)\n",
    "for j in range(N):\n",
    "    if C[j,0]>B[j,0]:\n",
    "        if C[j,1]<B[j,1]:\n",
    "            Y[j]=1"
   ]
  },
  {
   "cell_type": "code",
   "execution_count": 7,
   "metadata": {},
   "outputs": [
    {
     "data": {
      "text/plain": [
       "(1, 29)"
      ]
     },
     "execution_count": 7,
     "metadata": {},
     "output_type": "execute_result"
    }
   ],
   "source": [
    "np.array(np.where(Y[:]==1)).shape"
   ]
  },
  {
   "cell_type": "code",
   "execution_count": 11,
   "metadata": {},
   "outputs": [],
   "source": [
    "X=np.zeros((M,N,3))\n",
    "Y=np.zeros((M,N))\n",
    "Betat=np.zeros((M,2,3))\n",
    "Corr=np.zeros(M)\n",
    "for i in range(M):\n",
    "    beta=creatB()\n",
    "    Betat[i]=beta\n",
    "    A=creatX()\n",
    "    X[i]=A\n",
    "    B=expit(np.dot(A,beta.T))\n",
    "    C=np.random.rand(N,2)\n",
    "    for j in range(N):\n",
    "        if C[j,0]>B[j,0]:\n",
    "            if C[j,1]<B[j,1]:\n",
    "                Y[i,j]=1\n",
    "    Corr[i]=np.array(np.where(Y[i]==1)).shape[1]/N"
   ]
  }
 ],
 "metadata": {
  "interpreter": {
   "hash": "b3ba2566441a7c06988d0923437866b63cedc61552a5af99d1f4fb67d367b25f"
  },
  "kernelspec": {
   "display_name": "Python 3.8.5 64-bit ('base': conda)",
   "language": "python",
   "name": "python3"
  },
  "language_info": {
   "codemirror_mode": {
    "name": "ipython",
    "version": 3
   },
   "file_extension": ".py",
   "mimetype": "text/x-python",
   "name": "python",
   "nbconvert_exporter": "python",
   "pygments_lexer": "ipython3",
   "version": "3.8.5"
  },
  "orig_nbformat": 4
 },
 "nbformat": 4,
 "nbformat_minor": 2
}
