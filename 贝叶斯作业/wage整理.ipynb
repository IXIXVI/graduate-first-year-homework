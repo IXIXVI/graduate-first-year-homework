{
 "cells": [
  {
   "cell_type": "code",
   "execution_count": 2,
   "metadata": {},
   "outputs": [],
   "source": [
    "import numpy as np\n",
    "import pandas as pd\n",
    "from scipy.special import logit,expit\n",
    "import collections\n",
    "import matplotlib.pyplot as plt"
   ]
  },
  {
   "cell_type": "code",
   "execution_count": 3,
   "metadata": {},
   "outputs": [],
   "source": [
    "data=pd.read_csv('wage.csv').drop(['Unnamed: 0','region','logwage','maritl'],axis=1)\n",
    "X=data.drop(['wage'],axis=1)"
   ]
  },
  {
   "cell_type": "code",
   "execution_count": 4,
   "metadata": {},
   "outputs": [
    {
     "name": "stdout",
     "output_type": "stream",
     "text": [
      "<class 'pandas.core.frame.DataFrame'>\n",
      "RangeIndex: 3000 entries, 0 to 2999\n",
      "Data columns (total 8 columns):\n",
      " #   Column      Non-Null Count  Dtype  \n",
      "---  ------      --------------  -----  \n",
      " 0   year        3000 non-null   int64  \n",
      " 1   age         3000 non-null   int64  \n",
      " 2   race        3000 non-null   object \n",
      " 3   education   3000 non-null   object \n",
      " 4   jobclass    3000 non-null   object \n",
      " 5   health      3000 non-null   object \n",
      " 6   health_ins  3000 non-null   object \n",
      " 7   wage        3000 non-null   float64\n",
      "dtypes: float64(1), int64(2), object(5)\n",
      "memory usage: 187.6+ KB\n"
     ]
    }
   ],
   "source": [
    "data.info()"
   ]
  },
  {
   "cell_type": "code",
   "execution_count": 5,
   "metadata": {},
   "outputs": [
    {
     "data": {
      "text/plain": [
       "2. >=Very Good    2142\n",
       "1. <=Good          858\n",
       "Name: health, dtype: int64"
      ]
     },
     "execution_count": 5,
     "metadata": {},
     "output_type": "execute_result"
    }
   ],
   "source": [
    "data['health'].value_counts()"
   ]
  },
  {
   "cell_type": "code",
   "execution_count": 6,
   "metadata": {},
   "outputs": [],
   "source": [
    "maprace={'1. White':1,'2. Black':2,'3. Asian':3,'4. Other':4}\n",
    "maphealth_ins={'1. Yes':1,'2. No':2}\n",
    "mapeducation={'1. < HS Grad':1,'2. HS Grad':2,'3. Some College':3,'4. College Grad':4,'5. Advanced Degree':5}\n",
    "mapjobclass={'1. Industrial':1,'2. Information':2}\n",
    "maphealth={'1. <=Good':1,'2. >=Very Good':2}"
   ]
  },
  {
   "cell_type": "code",
   "execution_count": 7,
   "metadata": {},
   "outputs": [],
   "source": [
    "X['race']=data['race'].map(maprace)\n",
    "X['health_ins']=data['health_ins'].map(maphealth_ins)\n",
    "X['education']=data['education'].map(mapeducation)\n",
    "X['jobclass']=data['jobclass'].map(mapjobclass)\n",
    "X['health']=data['health'].map(maphealth)"
   ]
  },
  {
   "cell_type": "code",
   "execution_count": 8,
   "metadata": {},
   "outputs": [],
   "source": [
    "X.insert(0,'num',1)"
   ]
  },
  {
   "cell_type": "code",
   "execution_count": 9,
   "metadata": {},
   "outputs": [
    {
     "data": {
      "image/png": "[encoded data removed]",
      "text/plain": [
       "<Figure size 720x360 with 1 Axes>"
      ]
     },
     "metadata": {
      "needs_background": "light"
     },
     "output_type": "display_data"
    }
   ],
   "source": [
    "plt.figure(figsize=(10, 5))\n",
    "plt.hist(data['wage'],bins=30)\n",
    "plt.show()"
   ]
  },
  {
   "cell_type": "code",
   "execution_count": 10,
   "metadata": {},
   "outputs": [],
   "source": [
    "Y=np.zeros(3000)\n",
    "Y[np.where(data['wage']>=250)]=1"
   ]
  },
  {
   "cell_type": "code",
   "execution_count": 11,
   "metadata": {},
   "outputs": [],
   "source": [
    "X.insert(8,'Y',Y)"
   ]
  },
  {
   "cell_type": "code",
   "execution_count": 13,
   "metadata": {},
   "outputs": [],
   "source": [
    "X.to_csv('wagedata.csv',index=0)"
   ]
  },
  {
   "cell_type": "code",
   "execution_count": 14,
   "metadata": {},
   "outputs": [
    {
     "data": {
      "text/html": [
       "<div>\n",
       "<style scoped>\n",
       "    .dataframe tbody tr th:only-of-type {\n",
       "        vertical-align: middle;\n",
       "    }\n",
       "\n",
       "    .dataframe tbody tr th {\n",
       "        vertical-align: top;\n",
       "    }\n",
       "\n",
       "    .dataframe thead th {\n",
       "        text-align: right;\n",
       "    }\n",
       "</style>\n",
       "<table border=\"1\" class=\"dataframe\">\n",
       "  <thead>\n",
       "    <tr style=\"text-align: right;\">\n",
       "      <th></th>\n",
       "      <th>num</th>\n",
       "      <th>year</th>\n",
       "      <th>age</th>\n",
       "      <th>race</th>\n",
       "      <th>education</th>\n",
       "      <th>jobclass</th>\n",
       "      <th>health</th>\n",
       "      <th>health_ins</th>\n",
       "      <th>Y</th>\n",
       "    </tr>\n",
       "  </thead>\n",
       "  <tbody>\n",
       "    <tr>\n",
       "      <th>0</th>\n",
       "      <td>1</td>\n",
       "      <td>2006</td>\n",
       "      <td>18</td>\n",
       "      <td>1</td>\n",
       "      <td>1</td>\n",
       "      <td>1</td>\n",
       "      <td>1</td>\n",
       "      <td>2</td>\n",
       "      <td>0.0</td>\n",
       "    </tr>\n",
       "    <tr>\n",
       "      <th>1</th>\n",
       "      <td>1</td>\n",
       "      <td>2004</td>\n",
       "      <td>24</td>\n",
       "      <td>1</td>\n",
       "      <td>4</td>\n",
       "      <td>2</td>\n",
       "      <td>2</td>\n",
       "      <td>2</td>\n",
       "      <td>0.0</td>\n",
       "    </tr>\n",
       "    <tr>\n",
       "      <th>2</th>\n",
       "      <td>1</td>\n",
       "      <td>2003</td>\n",
       "      <td>45</td>\n",
       "      <td>1</td>\n",
       "      <td>3</td>\n",
       "      <td>1</td>\n",
       "      <td>1</td>\n",
       "      <td>1</td>\n",
       "      <td>0.0</td>\n",
       "    </tr>\n",
       "    <tr>\n",
       "      <th>3</th>\n",
       "      <td>1</td>\n",
       "      <td>2003</td>\n",
       "      <td>43</td>\n",
       "      <td>3</td>\n",
       "      <td>4</td>\n",
       "      <td>2</td>\n",
       "      <td>2</td>\n",
       "      <td>1</td>\n",
       "      <td>0.0</td>\n",
       "    </tr>\n",
       "    <tr>\n",
       "      <th>4</th>\n",
       "      <td>1</td>\n",
       "      <td>2005</td>\n",
       "      <td>50</td>\n",
       "      <td>1</td>\n",
       "      <td>2</td>\n",
       "      <td>2</td>\n",
       "      <td>1</td>\n",
       "      <td>1</td>\n",
       "      <td>0.0</td>\n",
       "    </tr>\n",
       "  </tbody>\n",
       "</table>\n",
       "</div>"
      ],
      "text/plain": [
       "   num  year  age  race  education  jobclass  health  health_ins    Y\n",
       "0    1  2006   18     1          1         1       1           2  0.0\n",
       "1    1  2004   24     1          4         2       2           2  0.0\n",
       "2    1  2003   45     1          3         1       1           1  0.0\n",
       "3    1  2003   43     3          4         2       2           1  0.0\n",
       "4    1  2005   50     1          2         2       1           1  0.0"
      ]
     },
     "execution_count": 14,
     "metadata": {},
     "output_type": "execute_result"
    }
   ],
   "source": [
    "X.head()"
   ]
  },
  {
   "cell_type": "code",
   "execution_count": null,
   "metadata": {},
   "outputs": [],
   "source": [
    "def g(x,y):\n",
    "    y=np.dot(x,y)\n",
    "    return y\n",
    "\n",
    "def f(x,y):\n",
    "    y=np.dot(x,y)\n",
    "    return y\n",
    "\n",
    "def pi(x,y):\n",
    "    y=expit(g(x,y))\n",
    "    return y\n",
    "\n",
    "def phi(x,y):\n",
    "    y=expit(f(x,y))\n",
    "    return y\n",
    "\n",
    "def I0(y):\n",
    "    if y==0:\n",
    "        return 1"
   ]
  },
  {
   "cell_type": "code",
   "execution_count": null,
   "metadata": {},
   "outputs": [],
   "source": [
    "#E-step\n",
    "def Lih(X,beta):\n",
    "    Ga=np.zeros((N,2))\n",
    "\n",
    "    for i in range(N):#响应度\n",
    "        if Y[i]==1:\n",
    "            Ga[i,0]=0\n",
    "            Ga[i,1]=1\n",
    "        elif Y[i]==0:\n",
    "            a=(expit(np.dot(X[i],beta[0])))\n",
    "            b=(1-a)*(1-expit(np.dot(X[i],beta[1])))\n",
    "            Ga[i,0]=a/(a+b)\n",
    "            Ga[i,1]=1-Ga[i,0]\n",
    "\n",
    "    return Ga"
   ]
  },
  {
   "cell_type": "code",
   "execution_count": null,
   "metadata": {},
   "outputs": [],
   "source": [
    "#M-step\n",
    "def Q(X,Y,beta):\n",
    "    Ga=Lih(X,beta)\n",
    "    A=np.zeros(N)\n",
    "    for i in range(N):\n",
    "        pi=expit(np.dot(beta[0],X[i]))\n",
    "        phi=expit(np.dot(beta[1],X[i]))\n",
    "        if Y[i]==0:\n",
    "            A[i]=(Ga[i,0])*np.log(pi)+(Ga[i,1])*np.log((1-pi)*(1-phi))\n",
    "            #A[i]=Ga[i,0]*np.log(pi)+Ga[i,1]*np.log((1-pi)*(1-phi))\n",
    "            #A[i]=(Ga[i,0]*np.log(pi))+(Ga[i,1]*(np.log(1-pi)+np.log(1-phi)))\n",
    "        else:\n",
    "            A[i]=(Ga[i,1])*np.log((1-pi)*(phi))\n",
    "            #A[i]=Ga[i,0]*np.log(pi)+Ga[i,1]*np.log((1-pi)*(1-phi))\n",
    "            #A[i]=(Ga[i,0]*np.log(pi))+(Ga[i,1]*(np.log(1-pi)+np.log(phi)))\n",
    "        #A[i]=(Ga[i,0]*(1-Y[i])*np.log(pi))+(Ga[i,1]*(np.log(1-pi)+np.log(1-phi)+Y[i]*np.dot(X[i],beta[1])))\n",
    "    Q=np.sum(A)\n",
    "    return Q\n",
    "\n",
    "def grad(X,Y,Ga,beta):\n",
    "    A=np.zeros((N,P))\n",
    "    B=np.zeros((N,P))\n",
    "    for i in range(N):\n",
    "        A[i]=((Ga[i,0]*(1-Y[i]))*(1-expit(np.dot(beta[0],X[i])))-(Ga[i,1]*expit(np.dot(beta[0],X[i]))))*X[i]\n",
    "        B[i]=(Ga[i,1]*(Y[i]-expit(np.dot(beta[1],X[i]))))*X[i]\n",
    "    grad1=np.sum(A,axis=0)\n",
    "    grad2=np.sum(B,axis=0)\n",
    "    grad=np.array([grad1,grad2])\n",
    "    return grad\n",
    "\n"
   ]
  },
  {
   "cell_type": "code",
   "execution_count": null,
   "metadata": {},
   "outputs": [],
   "source": [
    "def dgra(X,Y,ibeta,n=1000,t=0.01,xim=0.6,yim=0.3,zim=0.000001):#梯度下降（回溯梯度下降法）\n",
    "    \n",
    "    L=Lih(X,ibeta)#E-step\n",
    "    for i in range(n):#M-step\n",
    "        lik1=Q(X,Y,ibeta)\n",
    "        ibeta=ibeta+t*grad(X,Y,L,ibeta)\n",
    "        lik=Q(X,Y,ibeta)\n",
    "        d=np.r_[ibeta[0],ibeta[1]]\n",
    "        c=np.dot(d,d)\n",
    "        b=(lik-lik1)\n",
    "        if b>=yim*t*c:\n",
    "            t=xim*t\n",
    "        if c<=zim:\n",
    "            break\n",
    "    return ibeta"
   ]
  },
  {
   "cell_type": "code",
   "execution_count": null,
   "metadata": {},
   "outputs": [],
   "source": []
  }
 ],
 "metadata": {
  "interpreter": {
   "hash": "b3ba2566441a7c06988d0923437866b63cedc61552a5af99d1f4fb67d367b25f"
  },
  "kernelspec": {
   "display_name": "Python 3.8.5 64-bit ('base': conda)",
   "language": "python",
   "name": "python3"
  },
  "language_info": {
   "codemirror_mode": {
    "name": "ipython",
    "version": 3
   },
   "file_extension": ".py",
   "mimetype": "text/x-python",
   "name": "python",
   "nbconvert_exporter": "python",
   "pygments_lexer": "ipython3",
   "version": "3.8.5"
  },
  "orig_nbformat": 4
 },
 "nbformat": 4,
 "nbformat_minor": 2
}
