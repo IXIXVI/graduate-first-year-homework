{
 "cells": [
  {
   "cell_type": "code",
   "execution_count": null,
   "metadata": {},
   "outputs": [],
   "source": [
    "import numpy as np\n",
    "from scipy.special import logit,expit\n",
    "import collections"
   ]
  },
  {
   "cell_type": "code",
   "execution_count": null,
   "metadata": {},
   "outputs": [],
   "source": [
    "N=200\n",
    "P=3\n",
    "betat1=np.array([-0.3 , -0.5 ,-0.7])\n",
    "betat2=np.array([0.5 , 0.7, 0.9])"
   ]
  },
  {
   "cell_type": "code",
   "execution_count": null,
   "metadata": {},
   "outputs": [],
   "source": [
    "np.random.seed(123)\n",
    "mu=np.array([0,0,0])\n",
    "cov=np.array([[2,1,1],[1,2,1],[1,1,2]])\n",
    "X=np.random.multivariate_normal(mu,cov,N,check_valid='raise')"
   ]
  },
  {
   "cell_type": "code",
   "execution_count": null,
   "metadata": {},
   "outputs": [],
   "source": [
    "def g(x,y):\n",
    "    y=np.dot(x,y)\n",
    "    return y\n",
    "\n",
    "def f(x,y):\n",
    "    y=np.dot(x,y)\n",
    "    return y\n",
    "\n",
    "def pi(x,y):\n",
    "    y=expit(g(x,y))\n",
    "    return y\n",
    "\n",
    "def phi(x,y):\n",
    "    y=expit(f(x,y))\n",
    "    return y\n",
    "\n",
    "def I0(y):\n",
    "    if y==0:\n",
    "        return 1"
   ]
  },
  {
   "cell_type": "code",
   "execution_count": null,
   "metadata": {},
   "outputs": [],
   "source": [
    "Y=np.zeros(N)\n",
    "tgroup=np.zeros(N)\n",
    "pgroup=np.zeros((N,2))\n",
    "for i in range(N):\n",
    "    a=np.random.rand()\n",
    "    b=pi(X[i],betat1)\n",
    "    pgroup[i,0]=b\n",
    "    if a>=b:\n",
    "        tgroup[i]=1\n",
    "        c=np.random.rand()\n",
    "        d=phi(X[i],betat2)\n",
    "        pgroup[i,1]=d\n",
    "        if c>=d:\n",
    "            Y[i]=1"
   ]
  },
  {
   "cell_type": "code",
   "execution_count": null,
   "metadata": {},
   "outputs": [],
   "source": [
    "collections.Counter(Y),collections.Counter(tgroup)"
   ]
  },
  {
   "cell_type": "code",
   "execution_count": null,
   "metadata": {},
   "outputs": [],
   "source": [
    "#initial value\n",
    "beta01=[-0.5,-0.5,-0.5]\n",
    "beta02=[0.5,0.5,0.5]\n",
    "beta0=np.array([beta01,beta02])"
   ]
  },
  {
   "cell_type": "code",
   "execution_count": null,
   "metadata": {},
   "outputs": [],
   "source": [
    "#E-step\n",
    "def Lih(X,beta):\n",
    "    Ga=np.zeros((N,2))\n",
    "\n",
    "    for j in range(N):#响应度\n",
    "        a=pi(X[j],beta[0])\n",
    "        a1=a*(Y[j]==0)\n",
    "        a2=(1-a)*phi(X[j],beta[1])\n",
    "        Ga[j,0]=a1/(a1+a2)\n",
    "        Ga[j,1]=a2/(a1+a2)\n",
    "\n",
    "    return Ga"
   ]
  },
  {
   "cell_type": "code",
   "execution_count": null,
   "metadata": {},
   "outputs": [],
   "source": [
    "#M-step\n",
    "gx=n"
   ]
  }
 ],
 "metadata": {
  "interpreter": {
   "hash": "b3ba2566441a7c06988d0923437866b63cedc61552a5af99d1f4fb67d367b25f"
  },
  "kernelspec": {
   "display_name": "Python 3.8.5 64-bit ('base': conda)",
   "language": "python",
   "name": "python3"
  },
  "language_info": {
   "codemirror_mode": {
    "name": "ipython",
    "version": 3
   },
   "file_extension": ".py",
   "mimetype": "text/x-python",
   "name": "python",
   "nbconvert_exporter": "python",
   "pygments_lexer": "ipython3",
   "version": "3.8.5"
  },
  "orig_nbformat": 4
 },
 "nbformat": 4,
 "nbformat_minor": 2
}
