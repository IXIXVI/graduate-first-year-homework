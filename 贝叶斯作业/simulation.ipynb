{
 "cells": [
  {
   "cell_type": "code",
   "execution_count": 1,
   "metadata": {},
   "outputs": [],
   "source": [
    "import numpy as np\n",
    "from scipy.special import logit,expit\n",
    "import collections\n",
    "import matplotlib.pyplot as plt"
   ]
  },
  {
   "cell_type": "markdown",
   "metadata": {},
   "source": [
    "N=200\n",
    "P=3\n",
    "betat1=np.array([1 , 1 , 1])\n",
    "betat2=np.array([3 , 3 , 3])\n",
    "betat=np.array([betat1,betat2])\n",
    "\n",
    "np.random.seed(123)\n",
    "mu=np.array([-1,-1,-1])\n",
    "cov=np.array([[2,0.5,0.5],[0.5,2,0.5],[0.5,0.5,2]])\n",
    "X=np.random.multivariate_normal(mu,cov,N,check_valid='raise')"
   ]
  },
  {
   "cell_type": "code",
   "execution_count": 2,
   "metadata": {},
   "outputs": [],
   "source": [
    "def g(x,y):\n",
    "    y=np.dot(x,y)\n",
    "    return y\n",
    "\n",
    "def f(x,y):\n",
    "    y=np.dot(x,y)\n",
    "    return y\n",
    "\n",
    "def pi(x,y):\n",
    "    y=expit(g(x,y))\n",
    "    return y\n",
    "\n",
    "def phi(x,y):\n",
    "    y=expit(f(x,y))\n",
    "    return y\n",
    "\n",
    "def I0(y):\n",
    "    if y==0:\n",
    "        return 1"
   ]
  },
  {
   "cell_type": "code",
   "execution_count": 3,
   "metadata": {},
   "outputs": [],
   "source": [
    "N=500\n",
    "P=1\n",
    "\n",
    "betat1=np.array(1.27745888)\n",
    "betat2=np.array(-0.07740899)\n",
    "betat=np.array([betat1,betat2])\n",
    "\n",
    "np.random.seed(123)\n",
    "X=5*np.random.rand(N)-2\n",
    "\n",
    "Y=np.zeros(N)\n",
    "tgroup=np.zeros(N)\n",
    "pgroup=np.zeros((N,2))\n",
    "for i in range(N):\n",
    "    a=np.random.rand()\n",
    "    b=pi(X[i],betat1)\n",
    "    pgroup[i,0]=b\n",
    "    if a>=b:\n",
    "        tgroup[i]=1\n",
    "        c=np.random.rand()\n",
    "        d=phi(X[i],betat2)\n",
    "        pgroup[i,1]=d\n",
    "        if c>=d:\n",
    "            Y[i]=1"
   ]
  },
  {
   "cell_type": "code",
   "execution_count": 4,
   "metadata": {},
   "outputs": [],
   "source": [
    "N=500\n",
    "P=1\n",
    "\n",
    "betat3=np.array(0.3)\n",
    "betat4=np.array(1)\n",
    "betatt=np.array([betat3,betat4])\n",
    "\n",
    "np.random.seed(123)\n",
    "X1=np.random.normal(1,1,N)\n",
    "\n",
    "Z=np.zeros(N)\n",
    "Ztgroup=np.zeros(N)\n",
    "Zpgroup=np.zeros((N,2))\n",
    "for i in range(N):\n",
    "    a=np.random.rand()\n",
    "    b=pi(X[i],betat3)\n",
    "    Zpgroup[i,0]=b\n",
    "    if a>=b:\n",
    "        Ztgroup[i]=1\n",
    "        c=np.random.rand()\n",
    "        d=phi(X[i],betat4)\n",
    "        Zpgroup[i,1]=d\n",
    "        if c>=d:\n",
    "            Z[i]=1"
   ]
  },
  {
   "cell_type": "code",
   "execution_count": 5,
   "metadata": {},
   "outputs": [
    {
     "data": {
      "image/png": "[encoded data removed]",
      "text/plain": [
       "<Figure size 432x288 with 1 Axes>"
      ]
     },
     "metadata": {
      "needs_background": "light"
     },
     "output_type": "display_data"
    }
   ],
   "source": [
    "plt.hist(X,bins=30)\n",
    "plt.show()"
   ]
  },
  {
   "cell_type": "code",
   "execution_count": 6,
   "metadata": {},
   "outputs": [
    {
     "data": {
      "text/plain": [
       "(Counter({0.0: 392, 1.0: 108}), Counter({1.0: 213, 0.0: 287}))"
      ]
     },
     "execution_count": 6,
     "metadata": {},
     "output_type": "execute_result"
    }
   ],
   "source": [
    "collections.Counter(Z),collections.Counter(Ztgroup)"
   ]
  },
  {
   "cell_type": "code",
   "execution_count": 7,
   "metadata": {},
   "outputs": [
    {
     "data": {
      "text/plain": [
       "(Counter({0.0: 408, 1.0: 92}), Counter({0.0: 302, 1.0: 198}))"
      ]
     },
     "execution_count": 7,
     "metadata": {},
     "output_type": "execute_result"
    }
   ],
   "source": [
    "collections.Counter(Y),collections.Counter(tgroup)"
   ]
  },
  {
   "cell_type": "code",
   "execution_count": 8,
   "metadata": {},
   "outputs": [],
   "source": [
    "#E-step\n",
    "def Lih(X,beta):\n",
    "    Ga=np.zeros((N,2))\n",
    "\n",
    "    for i in range(N):#响应度\n",
    "        if Y[i]==1:\n",
    "            Ga[i,0]=0\n",
    "            Ga[i,1]=1\n",
    "        elif Y[i]==0:\n",
    "            a=(expit(np.dot(X[i],beta[0])))\n",
    "            b=(1-a)*(1-expit(np.dot(X[i],beta[1])))\n",
    "            Ga[i,0]=a/(a+b)\n",
    "            Ga[i,1]=1-Ga[i,0]\n",
    "\n",
    "    return Ga"
   ]
  },
  {
   "cell_type": "code",
   "execution_count": 9,
   "metadata": {},
   "outputs": [
    {
     "data": {
      "text/plain": [
       "(1, 253)"
      ]
     },
     "execution_count": 9,
     "metadata": {},
     "output_type": "execute_result"
    }
   ],
   "source": [
    "AS=Lih(X1,betat)\n",
    "np.array(np.where(AS[:,0]>=pgroup[:,0])).shape"
   ]
  },
  {
   "cell_type": "code",
   "execution_count": 10,
   "metadata": {},
   "outputs": [],
   "source": [
    "#M-step\n",
    "def Q(X,Y,beta):\n",
    "    Ga=Lih(X,beta)\n",
    "    A=np.zeros(N)\n",
    "    for i in range(N):\n",
    "        pi=expit(np.dot(beta[0],X[i]))\n",
    "        phi=expit(np.dot(beta[1],X[i]))\n",
    "        if Y[i]==0:\n",
    "            A[i]=(Ga[i,0])*np.log(pi)+(Ga[i,1])*np.log((1-pi)*(1-phi))\n",
    "            #A[i]=Ga[i,0]*np.log(pi)+Ga[i,1]*np.log((1-pi)*(1-phi))\n",
    "            #A[i]=(Ga[i,0]*np.log(pi))+(Ga[i,1]*(np.log(1-pi)+np.log(1-phi)))\n",
    "        else:\n",
    "            A[i]=(Ga[i,1])*np.log((1-pi)*(phi))\n",
    "            #A[i]=Ga[i,0]*np.log(pi)+Ga[i,1]*np.log((1-pi)*(1-phi))\n",
    "            #A[i]=(Ga[i,0]*np.log(pi))+(Ga[i,1]*(np.log(1-pi)+np.log(phi)))\n",
    "        #A[i]=(Ga[i,0]*(1-Y[i])*np.log(pi))+(Ga[i,1]*(np.log(1-pi)+np.log(1-phi)+Y[i]*np.dot(X[i],beta[1])))\n",
    "    Q=np.sum(A)\n",
    "    return Q\n",
    "\n",
    "def grad(X,Y,Ga,beta):\n",
    "    A=np.zeros((N,P))\n",
    "    B=np.zeros((N,P))\n",
    "    for i in range(N):\n",
    "        A[i]=((Ga[i,0]*(1-Y[i]))*(1-expit(np.dot(beta[0],X[i])))-(Ga[i,1]*expit(np.dot(beta[0],X[i]))))*X[i]\n",
    "        B[i]=(Ga[i,1]*(Y[i]-expit(np.dot(beta[1],X[i]))))*X[i]\n",
    "    grad1=np.sum(A,axis=0)\n",
    "    grad2=np.sum(B,axis=0)\n",
    "    grad=np.array([grad1,grad2])\n",
    "    return grad\n",
    "\n"
   ]
  },
  {
   "cell_type": "code",
   "execution_count": 66,
   "metadata": {},
   "outputs": [],
   "source": [
    "def dgra(X,Y,ibeta,n=1000,t=0.01,xim=0.6,yim=0.3,zim=0.000001):#梯度下降（回溯梯度下降法）\n",
    "    \n",
    "    L=Lih(X,ibeta)#E-step\n",
    "    for i in range(n):#M-step\n",
    "        lik1=Q(X,Y,ibeta)\n",
    "        ibeta=ibeta+t*grad(X,Y,L,ibeta)\n",
    "        lik=Q(X,Y,ibeta)\n",
    "        d=np.r_[ibeta[0],ibeta[1]]\n",
    "        c=np.dot(d,d)\n",
    "        b=(lik-lik1)\n",
    "        if b>=yim*t*c:\n",
    "            t=xim*t\n",
    "        if c<=zim:\n",
    "            break\n",
    "    return ibeta\n",
    "\n",
    "\n",
    "#def dgra1(X,Y,ibeta,n=1000,a=0.01,yim=0.2,zim=0.001):\n",
    "    \n",
    "    for i in range(n):\n",
    "        lik1=Q(X,Y,ibeta)\n",
    "        L=Lih(X,ibeta)#E-step\n",
    "        ibeta=ibeta+a*grad(X,Y,L,ibeta)\n",
    "        lik=Q(X,Y,ibeta)\n",
    "        d=np.r_[ibeta[0],ibeta[1]]\n",
    "        c=np.dot(d,d)\n",
    "        b=(lik-lik1)\n",
    "        if b>=yim*a*c:\n",
    "            a=0.5*a\n",
    "        if c<=zim:\n",
    "            break\n",
    "    return ibeta"
   ]
  },
  {
   "cell_type": "code",
   "execution_count": 12,
   "metadata": {},
   "outputs": [
    {
     "data": {
      "text/plain": [
       "(array([ 1.27745888, -0.07740899]), array([0.3, 1. ]))"
      ]
     },
     "execution_count": 12,
     "metadata": {},
     "output_type": "execute_result"
    }
   ],
   "source": [
    "betat,betatt"
   ]
  },
  {
   "cell_type": "code",
   "execution_count": 63,
   "metadata": {},
   "outputs": [],
   "source": [
    "#initial value\n",
    "beta01=[2.75]\n",
    "beta02=[1]\n",
    "beta0=np.array([beta01,beta02])"
   ]
  },
  {
   "cell_type": "code",
   "execution_count": 64,
   "metadata": {},
   "outputs": [
    {
     "data": {
      "text/plain": [
       "(-377.3027814418117, -462.8283787291805, -309.41320107165836)"
      ]
     },
     "execution_count": 64,
     "metadata": {},
     "output_type": "execute_result"
    }
   ],
   "source": [
    "Q(X,Y,betat),Q(X,Y,betatt),Q(X,Y,beta0)"
   ]
  },
  {
   "cell_type": "code",
   "execution_count": 68,
   "metadata": {},
   "outputs": [
    {
     "data": {
      "text/plain": [
       "array([[2.06844479],\n",
       "       [0.58320862]])"
      ]
     },
     "execution_count": 68,
     "metadata": {},
     "output_type": "execute_result"
    }
   ],
   "source": [
    "dgra(X,Y,beta0)"
   ]
  },
  {
   "cell_type": "code",
   "execution_count": null,
   "metadata": {},
   "outputs": [],
   "source": []
  },
  {
   "cell_type": "code",
   "execution_count": 69,
   "metadata": {},
   "outputs": [
    {
     "name": "stdout",
     "output_type": "stream",
     "text": [
      "0\n",
      "1\n",
      "2\n",
      "3\n",
      "4\n"
     ]
    },
    {
     "data": {
      "text/plain": [
       "(array([[1.51426631],\n",
       "        [0.40221009]]),\n",
       " -343.8260908389892)"
      ]
     },
     "execution_count": 69,
     "metadata": {},
     "output_type": "execute_result"
    }
   ],
   "source": [
    "EMbeta=beta0\n",
    "for i in range(5):\n",
    "    lik1=Q(X,Y,EMbeta)\n",
    "    EMbeta=dgra(X,Y,EMbeta)\n",
    "    lik=Q(X,Y,EMbeta)\n",
    "    print(i)\n",
    "EMbeta,Q(X,Y,EMbeta)"
   ]
  },
  {
   "cell_type": "code",
   "execution_count": 16,
   "metadata": {},
   "outputs": [],
   "source": [
    "ZX=Lih(X,EMbeta)"
   ]
  },
  {
   "cell_type": "code",
   "execution_count": 17,
   "metadata": {},
   "outputs": [
    {
     "data": {
      "text/plain": [
       "(1, 302)"
      ]
     },
     "execution_count": 17,
     "metadata": {},
     "output_type": "execute_result"
    }
   ],
   "source": [
    "np.array(np.where(tgroup[:]==0)).shape"
   ]
  },
  {
   "cell_type": "code",
   "execution_count": 18,
   "metadata": {},
   "outputs": [
    {
     "data": {
      "text/plain": [
       "(1, 295)"
      ]
     },
     "execution_count": 18,
     "metadata": {},
     "output_type": "execute_result"
    }
   ],
   "source": [
    "np.array(np.where(ZX[:,0]>=ZX[:,1])).shape"
   ]
  },
  {
   "cell_type": "code",
   "execution_count": 19,
   "metadata": {},
   "outputs": [
    {
     "data": {
      "text/plain": [
       "(1, 382)"
      ]
     },
     "execution_count": 19,
     "metadata": {},
     "output_type": "execute_result"
    }
   ],
   "source": [
    "np.array(np.where(AS[:,0]>=AS[:,1])).shape"
   ]
  },
  {
   "cell_type": "code",
   "execution_count": 20,
   "metadata": {},
   "outputs": [
    {
     "data": {
      "text/plain": [
       "(1, 350)"
      ]
     },
     "execution_count": 20,
     "metadata": {},
     "output_type": "execute_result"
    }
   ],
   "source": [
    "np.array(np.where(ZX[:,0]>=pgroup[:,0])).shape"
   ]
  }
 ],
 "metadata": {
  "interpreter": {
   "hash": "b3ba2566441a7c06988d0923437866b63cedc61552a5af99d1f4fb67d367b25f"
  },
  "kernelspec": {
   "display_name": "Python 3.8.5 64-bit ('base': conda)",
   "language": "python",
   "name": "python3"
  },
  "language_info": {
   "codemirror_mode": {
    "name": "ipython",
    "version": 3
   },
   "file_extension": ".py",
   "mimetype": "text/x-python",
   "name": "python",
   "nbconvert_exporter": "python",
   "pygments_lexer": "ipython3",
   "version": "3.8.5"
  },
  "orig_nbformat": 4
 },
 "nbformat": 4,
 "nbformat_minor": 2
}
