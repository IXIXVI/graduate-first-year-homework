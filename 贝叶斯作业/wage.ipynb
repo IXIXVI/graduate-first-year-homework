{
 "cells": [
  {
   "cell_type": "code",
   "execution_count": 155,
   "metadata": {},
   "outputs": [],
   "source": [
    "import numpy as np\n",
    "import pandas as pd\n",
    "from scipy.special import logit,expit\n",
    "import matplotlib.pyplot as plt"
   ]
  },
  {
   "cell_type": "code",
   "execution_count": 143,
   "metadata": {},
   "outputs": [],
   "source": [
    "N=3000\n",
    "P=2"
   ]
  },
  {
   "cell_type": "code",
   "execution_count": 118,
   "metadata": {},
   "outputs": [],
   "source": [
    "data=pd.read_csv('wagedata.csv')"
   ]
  },
  {
   "cell_type": "code",
   "execution_count": 159,
   "metadata": {},
   "outputs": [],
   "source": [
    "data0=pd.read_csv('Wage.csv')"
   ]
  },
  {
   "cell_type": "code",
   "execution_count": 119,
   "metadata": {},
   "outputs": [
    {
     "data": {
      "text/html": [
       "<div>\n",
       "<style scoped>\n",
       "    .dataframe tbody tr th:only-of-type {\n",
       "        vertical-align: middle;\n",
       "    }\n",
       "\n",
       "    .dataframe tbody tr th {\n",
       "        vertical-align: top;\n",
       "    }\n",
       "\n",
       "    .dataframe thead th {\n",
       "        text-align: right;\n",
       "    }\n",
       "</style>\n",
       "<table border=\"1\" class=\"dataframe\">\n",
       "  <thead>\n",
       "    <tr style=\"text-align: right;\">\n",
       "      <th></th>\n",
       "      <th>num</th>\n",
       "      <th>year</th>\n",
       "      <th>age</th>\n",
       "      <th>race</th>\n",
       "      <th>education</th>\n",
       "      <th>jobclass</th>\n",
       "      <th>health</th>\n",
       "      <th>health_ins</th>\n",
       "      <th>Y</th>\n",
       "    </tr>\n",
       "  </thead>\n",
       "  <tbody>\n",
       "    <tr>\n",
       "      <th>0</th>\n",
       "      <td>1</td>\n",
       "      <td>2006</td>\n",
       "      <td>18</td>\n",
       "      <td>1</td>\n",
       "      <td>1</td>\n",
       "      <td>1</td>\n",
       "      <td>1</td>\n",
       "      <td>2</td>\n",
       "      <td>0.0</td>\n",
       "    </tr>\n",
       "    <tr>\n",
       "      <th>1</th>\n",
       "      <td>1</td>\n",
       "      <td>2004</td>\n",
       "      <td>24</td>\n",
       "      <td>1</td>\n",
       "      <td>4</td>\n",
       "      <td>2</td>\n",
       "      <td>2</td>\n",
       "      <td>2</td>\n",
       "      <td>0.0</td>\n",
       "    </tr>\n",
       "    <tr>\n",
       "      <th>2</th>\n",
       "      <td>1</td>\n",
       "      <td>2003</td>\n",
       "      <td>45</td>\n",
       "      <td>1</td>\n",
       "      <td>3</td>\n",
       "      <td>1</td>\n",
       "      <td>1</td>\n",
       "      <td>1</td>\n",
       "      <td>0.0</td>\n",
       "    </tr>\n",
       "    <tr>\n",
       "      <th>3</th>\n",
       "      <td>1</td>\n",
       "      <td>2003</td>\n",
       "      <td>43</td>\n",
       "      <td>3</td>\n",
       "      <td>4</td>\n",
       "      <td>2</td>\n",
       "      <td>2</td>\n",
       "      <td>1</td>\n",
       "      <td>0.0</td>\n",
       "    </tr>\n",
       "    <tr>\n",
       "      <th>4</th>\n",
       "      <td>1</td>\n",
       "      <td>2005</td>\n",
       "      <td>50</td>\n",
       "      <td>1</td>\n",
       "      <td>2</td>\n",
       "      <td>2</td>\n",
       "      <td>1</td>\n",
       "      <td>1</td>\n",
       "      <td>0.0</td>\n",
       "    </tr>\n",
       "  </tbody>\n",
       "</table>\n",
       "</div>"
      ],
      "text/plain": [
       "   num  year  age  race  education  jobclass  health  health_ins    Y\n",
       "0    1  2006   18     1          1         1       1           2  0.0\n",
       "1    1  2004   24     1          4         2       2           2  0.0\n",
       "2    1  2003   45     1          3         1       1           1  0.0\n",
       "3    1  2003   43     3          4         2       2           1  0.0\n",
       "4    1  2005   50     1          2         2       1           1  0.0"
      ]
     },
     "execution_count": 119,
     "metadata": {},
     "output_type": "execute_result"
    }
   ],
   "source": [
    "data.head()"
   ]
  },
  {
   "cell_type": "code",
   "execution_count": null,
   "metadata": {},
   "outputs": [],
   "source": []
  },
  {
   "cell_type": "code",
   "execution_count": 120,
   "metadata": {},
   "outputs": [],
   "source": [
    "Y=np.array(data['Y'])"
   ]
  },
  {
   "cell_type": "code",
   "execution_count": 142,
   "metadata": {},
   "outputs": [],
   "source": [
    "SAM=np.array(data.loc[:,['num','age']])\n",
    "asx=(SAM[:,1]-np.mean(SAM[:,1]))/(np.std(SAM[:,1]))\n",
    "X=np.array([SAM[:,0],asx]).T"
   ]
  },
  {
   "cell_type": "code",
   "execution_count": 122,
   "metadata": {},
   "outputs": [
    {
     "data": {
      "text/plain": [
       "\"\\nSAM=np.array(data.loc[:,['num','age']])\\nasx=(SAM[:,1]-np.mean(SAM[:,1]))/(np.std(SAM[:,1]))\\nX=np.array([SAM[:,0],asx]).T\\n\""
      ]
     },
     "execution_count": 122,
     "metadata": {},
     "output_type": "execute_result"
    }
   ],
   "source": [
    "#np.array(np.where(Y==1)).shape\n",
    "'''\n",
    "SAM=np.array(data.loc[:,['num','age']])\n",
    "asx=(SAM[:,1]-np.mean(SAM[:,1]))/(np.std(SAM[:,1]))\n",
    "X=np.array([SAM[:,0],asx]).T\n",
    "'''"
   ]
  },
  {
   "cell_type": "code",
   "execution_count": 167,
   "metadata": {},
   "outputs": [
    {
     "data": {
      "image/png": "[encoded data removed]",
      "text/plain": [
       "<Figure size 720x432 with 1 Axes>"
      ]
     },
     "metadata": {
      "needs_background": "light"
     },
     "output_type": "display_data"
    }
   ],
   "source": [
    "plt.figure(figsize=(10,6))\n",
    "plt.scatter(data0['age'],data0['wage'])\n",
    "plt.show()"
   ]
  },
  {
   "cell_type": "code",
   "execution_count": 123,
   "metadata": {},
   "outputs": [],
   "source": [
    "#E-step\n",
    "def Lih(X,beta):\n",
    "    Ga=np.zeros((N,2))\n",
    "\n",
    "    for i in range(N):#响应度\n",
    "        if Y[i]==1:\n",
    "            Ga[i,0]=0\n",
    "            Ga[i,1]=1\n",
    "        elif Y[i]==0:\n",
    "            a=(expit(np.dot(X[i],beta[0])))\n",
    "            b=(1-a)*(1-expit(np.dot(X[i],beta[1])))\n",
    "            Ga[i,0]=a/(a+b)\n",
    "            Ga[i,1]=1-Ga[i,0]\n",
    "\n",
    "    return Ga\n",
    "\n",
    "\n",
    "#M-step\n",
    "def Q(X,Y,beta):\n",
    "    Ga=Lih(X,beta)\n",
    "    A=np.zeros(N)\n",
    "    for i in range(N):\n",
    "        pi=expit(np.dot(beta[0],X[i]))\n",
    "        phi=expit(np.dot(beta[1],X[i]))\n",
    "        if Y[i]==0:\n",
    "            A[i]=(Ga[i,0])*np.log(pi)+(Ga[i,1])*np.log((1-pi)*(1-phi))\n",
    "            #A[i]=Ga[i,0]*np.log(pi)+Ga[i,1]*np.log((1-pi)*(1-phi))\n",
    "            #A[i]=(Ga[i,0]*np.log(pi))+(Ga[i,1]*(np.log(1-pi)+np.log(1-phi)))\n",
    "        else:\n",
    "            A[i]=(Ga[i,1])*np.log((1-pi)*(phi))\n",
    "            #A[i]=Ga[i,0]*np.log(pi)+Ga[i,1]*np.log((1-pi)*(1-phi))\n",
    "            #A[i]=(Ga[i,0]*np.log(pi))+(Ga[i,1]*(np.log(1-pi)+np.log(phi)))\n",
    "        #A[i]=(Ga[i,0]*(1-Y[i])*np.log(pi))+(Ga[i,1]*(np.log(1-pi)+np.log(1-phi)+Y[i]*np.dot(X[i],beta[1])))\n",
    "    Q=np.sum(A)\n",
    "    return Q\n",
    "\n",
    "def grad(X,Y,Ga,beta):\n",
    "    A=np.zeros((N,P))\n",
    "    B=np.zeros((N,P))\n",
    "    for i in range(N):\n",
    "        A[i]=((Ga[i,0]*(1-Y[i]))*(1-expit(np.dot(beta[0],X[i])))-(Ga[i,1]*expit(np.dot(beta[0],X[i]))))*X[i]\n",
    "        B[i]=(Ga[i,1]*(Y[i]-expit(np.dot(beta[1],X[i]))))*X[i]\n",
    "    grad1=np.sum(A,axis=0)\n",
    "    grad2=np.sum(B,axis=0)\n",
    "    grad=np.array([grad1,grad2])\n",
    "    return grad\n",
    "\n",
    "\n",
    "#EM\n",
    "def dgra(X,Y,ibeta,n=1000,t=0.001,xim=0.99,yim=0.1):#梯度下降（回溯梯度下降法）xim为步长缩小倍数\n",
    "\n",
    "    L=Lih(X,ibeta)\n",
    "    for i in range(n):#M-step\n",
    "        lik1=Q(X,Y,ibeta)\n",
    "        ibeta1=ibeta\n",
    "        L=Lih(X,ibeta)#E-step\n",
    "        ibeta=ibeta+t*grad(X,Y,L,ibeta)\n",
    "        lik=Q(X,Y,ibeta)\n",
    "        d=np.r_[ibeta[0],ibeta[1]]\n",
    "        c=np.dot(d,d)\n",
    "        b=(lik-lik1)\n",
    "        print('i=',i,'b=',b,'\\tstep=',t)\n",
    "        print('Q=',Q(X,Y,ibeta))\n",
    "        if b>=yim*t*c :\n",
    "            t=xim*t\n",
    "        else:\n",
    "            break\n",
    "    return ibeta\n",
    "\n",
    "\n",
    "#def dgra1(X,Y,ibeta,n=1000,a=0.01,yim=0.2,zim=0.001):\n",
    "    \n",
    "    for i in range(n):\n",
    "        lik1=Q(X,Y,ibeta)\n",
    "        L=Lih(X,ibeta)#E-step\n",
    "        ibeta=ibeta+a*grad(X,Y,L,ibeta)\n",
    "        lik=Q(X,Y,ibeta)\n",
    "        d=np.r_[ibeta[0],ibeta[1]]\n",
    "        c=np.dot(d,d)\n",
    "        b=(lik-lik1)\n",
    "        if b>=yim*a*c:\n",
    "            a=0.5*a\n",
    "        if c<=zim:\n",
    "            break\n",
    "    return ibeta"
   ]
  },
  {
   "cell_type": "code",
   "execution_count": 151,
   "metadata": {},
   "outputs": [
    {
     "data": {
      "text/plain": [
       "-447.778030177502"
      ]
     },
     "execution_count": 151,
     "metadata": {},
     "output_type": "execute_result"
    }
   ],
   "source": [
    "beta01=[3.75,1]\n",
    "beta02=[5,1]\n",
    "beta0=np.array([beta01,beta02])\n",
    "Q(X,Y,beta0)"
   ]
  },
  {
   "cell_type": "code",
   "execution_count": 152,
   "metadata": {},
   "outputs": [
    {
     "data": {
      "text/plain": [
       "array([[3.75, 1.  ],\n",
       "       [5.  , 1.  ]])"
      ]
     },
     "execution_count": 152,
     "metadata": {},
     "output_type": "execute_result"
    }
   ],
   "source": [
    "beta0"
   ]
  },
  {
   "cell_type": "code",
   "execution_count": 153,
   "metadata": {},
   "outputs": [],
   "source": [
    "beta0=np.array([[ 3.72240647 ,-0.43155815],[ 4.99949033 , 1.00211884]])"
   ]
  },
  {
   "cell_type": "code",
   "execution_count": 154,
   "metadata": {},
   "outputs": [
    {
     "name": "stdout",
     "output_type": "stream",
     "text": [
      "i= 0 b= -0.0018596619474351428 \tstep= 0.001\n",
      "Q= -364.86869261089106\n",
      "0\n",
      "[[ 3.72010221 -0.42799747]\n",
      " [ 4.99942942  1.0023254 ]] -364.86869261089106\n",
      "i= 0 b= -0.0030469360656297795 \tstep= 0.001\n",
      "Q= -364.8717395469567\n",
      "1\n",
      "[[ 3.71785847 -0.4246789 ]\n",
      " [ 4.99936619  1.00253488]] -364.8717395469567\n",
      "i= 0 b= -0.00402359331661728 \tstep= 0.001\n",
      "Q= -364.8757631402733\n",
      "2\n",
      "[[ 3.71567915 -0.42158311]\n",
      " [ 4.99930075  1.00274712]] -364.8757631402733\n"
     ]
    }
   ],
   "source": [
    "EMbeta=beta0\n",
    "for i in range(3):\n",
    "    lik1=Q(X,Y,EMbeta)\n",
    "    EMbeta=dgra(X,Y,EMbeta)\n",
    "    lik=Q(X,Y,EMbeta)\n",
    "    print(i)\n",
    "    print(EMbeta,Q(X,Y,EMbeta))"
   ]
  }
 ],
 "metadata": {
  "language_info": {
   "name": "python"
  },
  "orig_nbformat": 4
 },
 "nbformat": 4,
 "nbformat_minor": 2
}
