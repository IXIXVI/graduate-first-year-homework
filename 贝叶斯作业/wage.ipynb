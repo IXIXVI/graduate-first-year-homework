{
 "cells": [
  {
   "cell_type": "code",
   "execution_count": 1,
   "metadata": {},
   "outputs": [],
   "source": [
    "import numpy as np\n",
    "import pandas as pd\n",
    "from scipy.special import logit,expit\n",
    "import matplotlib.pyplot as plt\n",
    "from sklearn.linear_model import LogisticRegression\n",
    "from sklearn.preprocessing import StandardScaler"
   ]
  },
  {
   "cell_type": "code",
   "execution_count": 5,
   "metadata": {},
   "outputs": [
    {
     "data": {
      "text/plain": [
       "1.0725081812542165"
      ]
     },
     "execution_count": 5,
     "metadata": {},
     "output_type": "execute_result"
    }
   ],
   "source": [
    "np.exp(0.07)"
   ]
  },
  {
   "cell_type": "code",
   "execution_count": 2,
   "metadata": {},
   "outputs": [],
   "source": [
    "Ia=np.array([[0,0,0,0,0,0,0],[0,0,0,0,0,0,0],[0,0,1,0,0,0,0],[0,0,0,1,0,0,0],[0,0,0,0,0,0,0],[0,0,0,0,0,0,0],[0,0,0,0,0,0,0]])"
   ]
  },
  {
   "cell_type": "code",
   "execution_count": 3,
   "metadata": {},
   "outputs": [],
   "source": [
    "S=np.array([1,1,1,1,1,1,1])"
   ]
  },
  {
   "cell_type": "code",
   "execution_count": 5,
   "metadata": {},
   "outputs": [],
   "source": [
    "N=3000\n",
    "P=7"
   ]
  },
  {
   "cell_type": "code",
   "execution_count": 6,
   "metadata": {},
   "outputs": [],
   "source": [
    "data=pd.read_csv('wagedata.csv')"
   ]
  },
  {
   "cell_type": "code",
   "execution_count": 7,
   "metadata": {},
   "outputs": [
    {
     "data": {
      "text/html": [
       "<div>\n",
       "<style scoped>\n",
       "    .dataframe tbody tr th:only-of-type {\n",
       "        vertical-align: middle;\n",
       "    }\n",
       "\n",
       "    .dataframe tbody tr th {\n",
       "        vertical-align: top;\n",
       "    }\n",
       "\n",
       "    .dataframe thead th {\n",
       "        text-align: right;\n",
       "    }\n",
       "</style>\n",
       "<table border=\"1\" class=\"dataframe\">\n",
       "  <thead>\n",
       "    <tr style=\"text-align: right;\">\n",
       "      <th></th>\n",
       "      <th>num</th>\n",
       "      <th>year</th>\n",
       "      <th>age</th>\n",
       "      <th>race</th>\n",
       "      <th>education</th>\n",
       "      <th>jobclass</th>\n",
       "      <th>health</th>\n",
       "      <th>health_ins</th>\n",
       "      <th>Y</th>\n",
       "    </tr>\n",
       "  </thead>\n",
       "  <tbody>\n",
       "    <tr>\n",
       "      <th>0</th>\n",
       "      <td>1</td>\n",
       "      <td>2006</td>\n",
       "      <td>18</td>\n",
       "      <td>1</td>\n",
       "      <td>1</td>\n",
       "      <td>1</td>\n",
       "      <td>1</td>\n",
       "      <td>2</td>\n",
       "      <td>0.0</td>\n",
       "    </tr>\n",
       "    <tr>\n",
       "      <th>1</th>\n",
       "      <td>1</td>\n",
       "      <td>2004</td>\n",
       "      <td>24</td>\n",
       "      <td>1</td>\n",
       "      <td>4</td>\n",
       "      <td>2</td>\n",
       "      <td>2</td>\n",
       "      <td>2</td>\n",
       "      <td>0.0</td>\n",
       "    </tr>\n",
       "    <tr>\n",
       "      <th>2</th>\n",
       "      <td>1</td>\n",
       "      <td>2003</td>\n",
       "      <td>45</td>\n",
       "      <td>1</td>\n",
       "      <td>3</td>\n",
       "      <td>1</td>\n",
       "      <td>1</td>\n",
       "      <td>1</td>\n",
       "      <td>0.0</td>\n",
       "    </tr>\n",
       "    <tr>\n",
       "      <th>3</th>\n",
       "      <td>1</td>\n",
       "      <td>2003</td>\n",
       "      <td>43</td>\n",
       "      <td>3</td>\n",
       "      <td>4</td>\n",
       "      <td>2</td>\n",
       "      <td>2</td>\n",
       "      <td>1</td>\n",
       "      <td>0.0</td>\n",
       "    </tr>\n",
       "    <tr>\n",
       "      <th>4</th>\n",
       "      <td>1</td>\n",
       "      <td>2005</td>\n",
       "      <td>50</td>\n",
       "      <td>1</td>\n",
       "      <td>2</td>\n",
       "      <td>2</td>\n",
       "      <td>1</td>\n",
       "      <td>1</td>\n",
       "      <td>0.0</td>\n",
       "    </tr>\n",
       "  </tbody>\n",
       "</table>\n",
       "</div>"
      ],
      "text/plain": [
       "   num  year  age  race  education  jobclass  health  health_ins    Y\n",
       "0    1  2006   18     1          1         1       1           2  0.0\n",
       "1    1  2004   24     1          4         2       2           2  0.0\n",
       "2    1  2003   45     1          3         1       1           1  0.0\n",
       "3    1  2003   43     3          4         2       2           1  0.0\n",
       "4    1  2005   50     1          2         2       1           1  0.0"
      ]
     },
     "execution_count": 7,
     "metadata": {},
     "output_type": "execute_result"
    }
   ],
   "source": [
    "data.head()"
   ]
  },
  {
   "cell_type": "code",
   "execution_count": 8,
   "metadata": {},
   "outputs": [],
   "source": [
    "Y=np.array(data['Y'])\n",
    "X=np.array(data.drop(['Y','num'],axis=1))"
   ]
  },
  {
   "cell_type": "code",
   "execution_count": 9,
   "metadata": {},
   "outputs": [],
   "source": [
    "ss = StandardScaler()\n",
    "xt=ss.fit_transform(X)"
   ]
  },
  {
   "cell_type": "code",
   "execution_count": 10,
   "metadata": {},
   "outputs": [
    {
     "data": {
      "text/plain": [
       "\"\\nSAM=np.array(data.loc[:,['num','age']])\\nasx=(SAM[:,1]-np.mean(SAM[:,1]))/(np.std(SAM[:,1]))\\nX=np.array([SAM[:,0],asx]).T\\n\""
      ]
     },
     "execution_count": 10,
     "metadata": {},
     "output_type": "execute_result"
    }
   ],
   "source": [
    "#np.array(np.where(Y==1)).shape\n",
    "'''\n",
    "SAM=np.array(data.loc[:,['num','age']])\n",
    "asx=(SAM[:,1]-np.mean(SAM[:,1]))/(np.std(SAM[:,1]))\n",
    "X=np.array([SAM[:,0],asx]).T\n",
    "'''"
   ]
  },
  {
   "cell_type": "code",
   "execution_count": 18,
   "metadata": {},
   "outputs": [],
   "source": [
    "#E-step\n",
    "def Lih(X,Y,beta):\n",
    "    Ga=np.zeros((N,2))\n",
    "\n",
    "    for i in range(N):#响应度\n",
    "        if Y[i]==1:\n",
    "            Ga[i,0]=0\n",
    "            Ga[i,1]=1\n",
    "        elif Y[i]==0:\n",
    "            a=(expit(np.dot(X[i],np.dot(beta[0],Ia))))\n",
    "            b=(1-a)*(1-expit(np.dot(X[i],beta[1])))\n",
    "            Ga[i,0]=a/(a+b)\n",
    "            Ga[i,1]=1-Ga[i,0]\n",
    "\n",
    "    return Ga\n",
    "\n",
    "\n",
    "#M-step\n",
    "def Q(X,Y,beta):\n",
    "    Ga=Lih(X,Y,beta)\n",
    "    A=np.zeros(N)\n",
    "    for i in range(N):\n",
    "        pi=expit(np.dot(np.dot(beta[0],Ia),X[i]))\n",
    "        phi=expit(np.dot(beta[1],X[i]))\n",
    "        if Y[i]==0:\n",
    "            A[i]=(Ga[i,0])*np.log(pi)+(Ga[i,1])*np.log((1-pi)*(1-phi))\n",
    "            #A[i]=Ga[i,0]*np.log(pi)+Ga[i,1]*np.log((1-pi)*(1-phi))\n",
    "            #A[i]=(Ga[i,0]*np.log(pi))+(Ga[i,1]*(np.log(1-pi)+np.log(1-phi)))\n",
    "        else:\n",
    "            A[i]=(Ga[i,1])*np.log((1-pi)*(phi))\n",
    "            #A[i]=Ga[i,0]*np.log(pi)+Ga[i,1]*np.log((1-pi)*(1-phi))\n",
    "            #A[i]=(Ga[i,0]*np.log(pi))+(Ga[i,1]*(np.log(1-pi)+np.log(phi)))\n",
    "        #A[i]=(Ga[i,0]*(1-Y[i])*np.log(pi))+(Ga[i,1]*(np.log(1-pi)+np.log(1-phi)+Y[i]*np.dot(X[i],beta[1])))\n",
    "    Q=np.sum(A)\n",
    "    return Q\n",
    "\n",
    "def grad(X,Y,Ga,beta):\n",
    "    A=np.zeros((N,P))\n",
    "    B=np.zeros((N,P))\n",
    "    for i in range(N):\n",
    "        A[i]=((Ga[i,0]*(1-Y[i]))*(1-expit(np.dot(np.dot(beta[0],Ia),X[i])))-(Ga[i,1]*expit(np.dot(np.dot(beta[0],Ia),X[i]))))*np.dot(X[i],Ia)\n",
    "        B[i]=(Ga[i,1]*(Y[i]-expit(np.dot(beta[1],X[i]))))*X[i]\n",
    "    grad1=np.sum(A,axis=0)\n",
    "    grad2=np.sum(B,axis=0)\n",
    "    grad=np.array([grad1,grad2])\n",
    "    return grad\n",
    "\n",
    "\n",
    "#EM\n",
    "def dgra(X,Y,ibeta,n=1000,t=0.01,xim=0.5,yim=0.3):#梯度下降（回溯梯度下降法）xim为步长缩小倍数\n",
    "\n",
    "    for i in range(n):#M-step\n",
    "        lik1=Q(X,Y,ibeta)\n",
    "        ibeta1=ibeta\n",
    "        L=Lih(X,Y,ibeta)#E-step\n",
    "        ibeta=ibeta+t*grad(X,Y,L,ibeta)\n",
    "        lik=Q(X,Y,ibeta)\n",
    "        d=np.r_[np.dot(ibeta[0],Ia),ibeta[1]]\n",
    "        c=np.dot(d,d)\n",
    "        b=(lik-lik1)\n",
    "        print('i=',i,'b=',b,'\\tstep=',t)\n",
    "        print('Q=',Q(X,Y,ibeta))\n",
    "        if b>=yim*t*c :\n",
    "            t=xim*t\n",
    "        else:\n",
    "            break\n",
    "    return ibeta\n",
    "\n",
    "\n",
    "#def dgra1(X,Y,ibeta,n=1000,a=0.01,yim=0.2,zim=0.001):\n",
    "    \n",
    "    for i in range(n):\n",
    "        lik1=Q(X,Y,ibeta)\n",
    "        L=Lih(X,ibeta)#E-step\n",
    "        ibeta=ibeta+a*grad(X,Y,L,ibeta)\n",
    "        lik=Q(X,Y,ibeta)\n",
    "        d=np.r_[ibeta[0],ibeta[1]]\n",
    "        c=np.dot(d,d)\n",
    "        b=(lik-lik1)\n",
    "        if b>=yim*a*c:\n",
    "            a=0.5*a\n",
    "        if c<=zim:\n",
    "            break\n",
    "    return ibeta"
   ]
  },
  {
   "cell_type": "code",
   "execution_count": 44,
   "metadata": {},
   "outputs": [
    {
     "data": {
      "text/plain": [
       "-1042.728803682324"
      ]
     },
     "execution_count": 44,
     "metadata": {},
     "output_type": "execute_result"
    }
   ],
   "source": [
    "beta01=[0,0,4,4,0,0,0]\n",
    "beta02=[1,2,6,5,1,1,1]\n",
    "beta0=np.array([beta01,beta02])\n",
    "Q(xt,Y,beta0)"
   ]
  },
  {
   "cell_type": "code",
   "execution_count": 45,
   "metadata": {},
   "outputs": [
    {
     "name": "stdout",
     "output_type": "stream",
     "text": [
      "i= 0 b= 29.807687830382747 \tstep= 0.01\n",
      "Q= -1012.9211158519413\n",
      "i= 1 b= 1.916393263685336 \tstep= 0.005\n",
      "Q= -1011.004722588256\n",
      "i= 2 b= -0.5068593832130546 \tstep= 0.0025\n",
      "Q= -1011.511581971469\n"
     ]
    }
   ],
   "source": [
    "EMbeta=dgra(xt,Y,beta0)"
   ]
  },
  {
   "cell_type": "code",
   "execution_count": 46,
   "metadata": {},
   "outputs": [
    {
     "data": {
      "text/plain": [
       "array([[0.        , 0.        , 3.74765835, 3.27689726, 0.        ,\n",
       "        0.        , 0.        ],\n",
       "       [0.72189356, 1.20826403, 6.3329544 , 5.13214686, 0.5354318 ,\n",
       "        0.73186409, 0.793924  ]])"
      ]
     },
     "execution_count": 46,
     "metadata": {},
     "output_type": "execute_result"
    }
   ],
   "source": [
    "EMbeta"
   ]
  },
  {
   "cell_type": "code",
   "execution_count": null,
   "metadata": {},
   "outputs": [],
   "source": []
  }
 ],
 "metadata": {
  "interpreter": {
   "hash": "b3ba2566441a7c06988d0923437866b63cedc61552a5af99d1f4fb67d367b25f"
  },
  "kernelspec": {
   "display_name": "Python 3.8.5 64-bit ('base': conda)",
   "language": "python",
   "name": "python3"
  },
  "language_info": {
   "codemirror_mode": {
    "name": "ipython",
    "version": 3
   },
   "file_extension": ".py",
   "mimetype": "text/x-python",
   "name": "python",
   "nbconvert_exporter": "python",
   "pygments_lexer": "ipython3",
   "version": "3.8.5"
  },
  "orig_nbformat": 4
 },
 "nbformat": 4,
 "nbformat_minor": 2
}
