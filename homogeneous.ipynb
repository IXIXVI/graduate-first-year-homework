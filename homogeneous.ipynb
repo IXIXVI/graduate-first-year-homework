{
 "cells": [
  {
   "cell_type": "code",
   "execution_count": 1,
   "source": [
    "import numpy as np\r\n",
    "import matplotlib.pyplot as plt\r\n",
    "from mpl_toolkits.mplot3d import Axes3D"
   ],
   "outputs": [],
   "metadata": {}
  },
  {
   "cell_type": "code",
   "execution_count": 2,
   "source": [
    "np.random.seed(1123)\r\n",
    "beta=np.random.uniform(0,1,2)"
   ],
   "outputs": [],
   "metadata": {}
  },
  {
   "cell_type": "code",
   "execution_count": 3,
   "source": [
    "def normal(x,theta):#一元的正态分布密度函数\r\n",
    "    mu=theta[0]\r\n",
    "    s=theta[1]#标准差\r\n",
    "    result=(1/(np.sqrt(2*np.pi)*s))*np.exp(-1*(x-mu)**2/(2*s**2))\r\n",
    "    return result"
   ],
   "outputs": [],
   "metadata": {}
  },
  {
   "cell_type": "code",
   "execution_count": 12,
   "source": [
    "n=600\r\n",
    "np.random.seed(123)\r\n",
    "data=np.random.normal(0,1,n)"
   ],
   "outputs": [],
   "metadata": {}
  },
  {
   "cell_type": "code",
   "execution_count": 5,
   "source": [
    "plt.hist(data, bins=30,  facecolor=\"blue\", edgecolor=\"black\", alpha=0.7)"
   ],
   "outputs": [
    {
     "output_type": "execute_result",
     "data": {
      "text/plain": [
       "(array([ 1.,  0.,  3.,  4.,  1.,  4.,  7., 16., 18., 26., 30., 27., 42.,\n",
       "        41., 48., 49., 54., 47., 38., 28., 34., 22., 19., 17.,  9.,  6.,\n",
       "         5.,  1.,  2.,  1.]),\n",
       " array([-3.23105501, -3.02473233, -2.81840964, -2.61208696, -2.40576428,\n",
       "        -2.1994416 , -1.99311892, -1.78679624, -1.58047355, -1.37415087,\n",
       "        -1.16782819, -0.96150551, -0.75518283, -0.54886014, -0.34253746,\n",
       "        -0.13621478,  0.0701079 ,  0.27643058,  0.48275326,  0.68907595,\n",
       "         0.89539863,  1.10172131,  1.30804399,  1.51436667,  1.72068936,\n",
       "         1.92701204,  2.13333472,  2.3396574 ,  2.54598008,  2.75230276,\n",
       "         2.95862545]),\n",
       " <BarContainer object of 30 artists>)"
      ]
     },
     "metadata": {},
     "execution_count": 5
    },
    {
     "output_type": "display_data",
     "data": {
      "image/png": "[encoded data removed]",
      "text/plain": [
       "<Figure size 432x288 with 1 Axes>"
      ]
     },
     "metadata": {
      "needs_background": "light"
     }
    }
   ],
   "metadata": {}
  },
  {
   "cell_type": "code",
   "execution_count": 16,
   "source": [
    "smean=np.mean(data)\r\n",
    "sstd=np.std(data)\r\n",
    "svar=np.var(data)\r\n",
    "theta=np.array([smean,sstd])\r\n",
    "theta"
   ],
   "outputs": [
    {
     "output_type": "execute_result",
     "data": {
      "text/plain": [
       "array([-0.014167 ,  1.0024442])"
      ]
     },
     "metadata": {},
     "execution_count": 16
    }
   ],
   "metadata": {}
  },
  {
   "cell_type": "code",
   "execution_count": 8,
   "source": [
    "def likelihood(data):\r\n",
    "    a=data.shape[0]\r\n",
    "    num=1\r\n",
    "    for i in range(a):\r\n",
    "        num += normal(data[i],theta)\r\n",
    "    return num"
   ],
   "outputs": [],
   "metadata": {}
  },
  {
   "cell_type": "code",
   "execution_count": 10,
   "source": [
    "likelihood(data)"
   ],
   "outputs": [
    {
     "output_type": "execute_result",
     "data": {
      "text/plain": [
       "0.0"
      ]
     },
     "metadata": {},
     "execution_count": 10
    }
   ],
   "metadata": {}
  },
  {
   "cell_type": "code",
   "execution_count": 19,
   "source": [
    "a=pow((2*np.pi*svar),(-n/2))*np.exp(-n/2)"
   ],
   "outputs": [
    {
     "output_type": "execute_result",
     "data": {
      "text/plain": [
       "0.0"
      ]
     },
     "metadata": {},
     "execution_count": 19
    }
   ],
   "metadata": {}
  },
  {
   "cell_type": "code",
   "execution_count": 20,
   "source": [
    "beta=[0.1,0.3,0.5]"
   ],
   "outputs": [],
   "metadata": {}
  },
  {
   "cell_type": "code",
   "execution_count": null,
   "source": [],
   "outputs": [],
   "metadata": {}
  }
 ],
 "metadata": {
  "orig_nbformat": 4,
  "language_info": {
   "name": "python",
   "version": "3.8.5",
   "mimetype": "text/x-python",
   "codemirror_mode": {
    "name": "ipython",
    "version": 3
   },
   "pygments_lexer": "ipython3",
   "nbconvert_exporter": "python",
   "file_extension": ".py"
  },
  "kernelspec": {
   "name": "python3",
   "display_name": "Python 3.8.5 64-bit ('base': conda)"
  },
  "interpreter": {
   "hash": "b3ba2566441a7c06988d0923437866b63cedc61552a5af99d1f4fb67d367b25f"
  }
 },
 "nbformat": 4,
 "nbformat_minor": 2
}