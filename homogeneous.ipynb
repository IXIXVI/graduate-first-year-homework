{
 "cells": [
  {
   "cell_type": "code",
   "execution_count": 1,
   "source": [
    "import numpy as np\r\n",
    "from sklearn.linear_model import LinearRegression\r\n",
    "import matplotlib.pyplot as plt\r\n",
    "from mpl_toolkits.mplot3d import Axes3D"
   ],
   "outputs": [],
   "metadata": {}
  },
  {
   "cell_type": "code",
   "execution_count": 2,
   "source": [
    "np.random.seed(1123)\r\n",
    "beta=np.random.uniform(0,1,2)"
   ],
   "outputs": [],
   "metadata": {}
  },
  {
   "cell_type": "code",
   "execution_count": 3,
   "source": [
    "def normal(x,theta):#一元的正态分布密度函数\r\n",
    "    mu=theta[0]\r\n",
    "    s=theta[1]#标准差\r\n",
    "    result=(1/(np.sqrt(2*np.pi)*s))*np.exp(-1*(x-mu)**2/(2*s**2))\r\n",
    "    return result"
   ],
   "outputs": [],
   "metadata": {}
  },
  {
   "cell_type": "code",
   "execution_count": 4,
   "source": [
    "def mixnormal(x,theta1,theta2,a):\r\n",
    "    mu1=theta1[0]\r\n",
    "    s1=theta1[1]#标准差\r\n",
    "    mu2=theta2[0]\r\n",
    "    s2=theta2[1]#标准差\r\n",
    "    result=a*((1/(np.sqrt(2*np.pi)*s1))*np.exp(-1*(x-mu1)**2/(2*s1**2)))+(1-a)*((1/(np.sqrt(2*np.pi)*s2))*np.exp(-1*(x-mu2)**2/(2*s2**2)))\r\n",
    "    return result"
   ],
   "outputs": [],
   "metadata": {}
  },
  {
   "cell_type": "code",
   "execution_count": 5,
   "source": [
    "n=200\r\n",
    "np.random.seed(123)\r\n",
    "data=np.random.normal(0.5,2,n)"
   ],
   "outputs": [],
   "metadata": {}
  },
  {
   "cell_type": "code",
   "execution_count": 6,
   "source": [
    "plt.hist(data, bins=30,  facecolor=\"blue\", edgecolor=\"black\", alpha=0.7)"
   ],
   "outputs": [
    {
     "output_type": "execute_result",
     "data": {
      "text/plain": [
       "(array([ 1.,  0.,  1.,  1.,  1.,  1.,  3.,  3.,  3.,  6.,  7.,  9., 14.,\n",
       "        13., 14., 16., 11., 17., 17.,  8., 11.,  9.,  6.,  7.,  9.,  5.,\n",
       "         1.,  3.,  2.,  1.]),\n",
       " array([-5.96211002, -5.57348609, -5.18486216, -4.79623823, -4.4076143 ,\n",
       "        -4.01899037, -3.63036644, -3.24174251, -2.85311858, -2.46449465,\n",
       "        -2.07587073, -1.6872468 , -1.29862287, -0.90999894, -0.52137501,\n",
       "        -0.13275108,  0.25587285,  0.64449678,  1.03312071,  1.42174464,\n",
       "         1.81036856,  2.19899249,  2.58761642,  2.97624035,  3.36486428,\n",
       "         3.75348821,  4.14211214,  4.53073607,  4.91936   ,  5.30798393,\n",
       "         5.69660785]),\n",
       " <BarContainer object of 30 artists>)"
      ]
     },
     "metadata": {},
     "execution_count": 6
    },
    {
     "output_type": "display_data",
     "data": {
      "image/png": "[encoded data removed]",
      "text/plain": [
       "<Figure size 432x288 with 1 Axes>"
      ]
     },
     "metadata": {
      "needs_background": "light"
     }
    }
   ],
   "metadata": {}
  },
  {
   "cell_type": "code",
   "execution_count": 7,
   "source": [
    "smean=np.mean(data)\r\n",
    "sstd=np.std(data)\r\n",
    "svar=np.var(data)\r\n",
    "stheta0=np.array([smean,sstd])\r\n",
    "stheta0"
   ],
   "outputs": [
    {
     "output_type": "execute_result",
     "data": {
      "text/plain": [
       "array([0.50757351, 2.10476525])"
      ]
     },
     "metadata": {},
     "execution_count": 7
    }
   ],
   "metadata": {}
  },
  {
   "cell_type": "code",
   "execution_count": 8,
   "source": [
    "def ps(x,y,an=0.25):#对方差的惩罚函数\r\n",
    "    z=-an*(np.log(x**2/y**2)+(y**2/x**2)-1)\r\n",
    "    return z\r\n",
    "\r\n",
    "def pa(α,C=1):#对系数的惩罚函数\r\n",
    "    z=C*np.log(1-abs(1-2*α))\r\n",
    "    return z\r\n",
    "\r\n",
    "def ln(x,t1,t2,α):#单个样本的混合正态的对数似然\r\n",
    "    n=x.shape[0]\r\n",
    "    y=np.zeros(n)\r\n",
    "    for i in range(n):\r\n",
    "        y[i]=np.log(mixnormal(x[i],t1,t2,α))\r\n",
    "    return y\r\n",
    "\r\n",
    "def pl(x,t1,t2,α):#混合正态的惩罚联合对数似然\r\n",
    "    y=np.sum(ln(x,t1,t2,α))+ps(t1[1],svar)+ps(t2[1],svar)+pa(α)\r\n",
    "    return y\r\n",
    "\r\n",
    "def ln0(x,th):#原假设下的惩罚对数似然\r\n",
    "    n=x.shape[0]\r\n",
    "    y=np.zeros(n)\r\n",
    "    for i in range(n):\r\n",
    "        y[i]=np.log(normal(x[i],th))\r\n",
    "    z=np.sum(y)\r\n",
    "    return z"
   ],
   "outputs": [],
   "metadata": {}
  },
  {
   "cell_type": "markdown",
   "source": [
    "n2=5\n",
    "m1=5\n",
    "intmu1 = np.linspace(-1,smean,m1)\n",
    "intmu2 = np.linspace(smean+0.01,1,m1)\n",
    "intstd = np.linspace(0.5,1.5,n2)\n",
    "intparameter1 = np.zeros((m1,n2,2))#储存参数\n",
    "intparameter2 = np.zeros((m1,n2,2))\n",
    "for i in range(m1):\n",
    "    for j in range(n2):\n",
    "        intparameter1[i,j,0]=intmu1[i]\n",
    "        intparameter1[i,j,1]=intstd[j]\n",
    "        intparameter2[i,j,0]=intmu2[i]\n",
    "        intparameter2[i,j,1]=intstd[j]\n",
    "\n",
    "ip1 = intparameter1.reshape(1,25,2)[0]\n",
    "ip2 = intparameter2.reshape(1,25,2)[0]"
   ],
   "metadata": {}
  },
  {
   "cell_type": "code",
   "execution_count": 9,
   "source": [
    "#分割坐标轴，测试最好的初值\r\n",
    "n1=5\r\n",
    "n2=5\r\n",
    "intmu = np.linspace(-2,2,n1)\r\n",
    "intstd = np.linspace(0.5,3,n2)\r\n",
    "intparameter = np.zeros((n1,n2,2))\r\n",
    "for i in range(n1):\r\n",
    "    for j in range(n2):\r\n",
    "        intparameter[i,j,0]=intmu[i]\r\n",
    "        intparameter[i,j,1]=intstd[j]\r\n",
    "\r\n",
    "ip=intparameter.reshape(1,n1*n2,2)[0]"
   ],
   "outputs": [],
   "metadata": {}
  },
  {
   "cell_type": "code",
   "execution_count": 10,
   "source": [
    "beta=[0.1,0.3,0.5]\r\n",
    "#intresult储存所有初值的测试结果\r\n",
    "intresult=np.zeros((n1*n2,n1*n2,3))\r\n",
    "for q in range(n1*n2):\r\n",
    "    for w in range(n1*n2):\r\n",
    "        for e in range (3):\r\n",
    "            intresult[q,w,e]=pl(data,ip[q],ip[w],beta[e])\r\n"
   ],
   "outputs": [],
   "metadata": {}
  },
  {
   "cell_type": "code",
   "execution_count": 11,
   "source": [
    "ln0(data,[smean,sstd])"
   ],
   "outputs": [
    {
     "output_type": "execute_result",
     "data": {
      "text/plain": [
       "-432.6284950569455"
      ]
     },
     "metadata": {},
     "execution_count": 11
    }
   ],
   "metadata": {}
  },
  {
   "cell_type": "code",
   "execution_count": 12,
   "source": [
    "np.max(intresult[:,:,2])"
   ],
   "outputs": [
    {
     "output_type": "execute_result",
     "data": {
      "text/plain": [
       "-434.24451880946435"
      ]
     },
     "metadata": {},
     "execution_count": 12
    }
   ],
   "metadata": {}
  },
  {
   "cell_type": "code",
   "execution_count": 13,
   "source": [
    "np.array(np.where(intresult==np.max(intresult[:,:,2]))[:2])[0]"
   ],
   "outputs": [
    {
     "output_type": "execute_result",
     "data": {
      "text/plain": [
       "array([13, 17], dtype=int64)"
      ]
     },
     "metadata": {},
     "execution_count": 13
    }
   ],
   "metadata": {}
  },
  {
   "cell_type": "code",
   "execution_count": 14,
   "source": [
    "#找到三个beta初值下最好的参数位置\r\n",
    "ab=np.zeros((3,2))\r\n",
    "for i in range(2):\r\n",
    "    ab[i]=np.array(np.where(intresult==np.max(intresult[:,:,i]))[:2]).reshape(2)\r\n",
    "ab[2]=np.array(np.where(intresult==np.max(intresult[:,:,2]))[:2])[0]"
   ],
   "outputs": [],
   "metadata": {}
  },
  {
   "cell_type": "code",
   "execution_count": 15,
   "source": [
    "ab"
   ],
   "outputs": [
    {
     "output_type": "execute_result",
     "data": {
      "text/plain": [
       "array([[ 2., 17.],\n",
       "       [ 8., 17.],\n",
       "       [13., 17.]])"
      ]
     },
     "metadata": {},
     "execution_count": 15
    }
   ],
   "metadata": {}
  },
  {
   "cell_type": "code",
   "execution_count": 16,
   "source": [
    "#通过参数位置找到三个beta下对应的参数初值\r\n",
    "weight00=[0.1,0.9]\r\n",
    "mean00=[ip[int(ab[0,0])][0],ip[int(ab[0,1])][0]]\r\n",
    "std00=[ip[int(ab[0,0])][1],ip[int(ab[0,1])][1]]\r\n",
    "theta00=np.array([weight00,mean00,std00])\r\n",
    "\r\n",
    "weight01=[0.3,0.7]\r\n",
    "mean01=[ip[int(ab[1,0])][0],ip[int(ab[1,1])][0]]\r\n",
    "std01=[ip[int(ab[1,0])][1],ip[int(ab[1,1])][1]]\r\n",
    "theta01=np.array([weight01,mean01,std01])\r\n",
    "\r\n",
    "weight02=[0.5,0.5]\r\n",
    "mean02=[ip[int(ab[2,0])][0],ip[int(ab[2,1])][0]]\r\n",
    "std02=[ip[int(ab[2,0])][1],ip[int(ab[2,1])][1]]\r\n",
    "theta02=np.array([weight02,mean02,std02])\r\n",
    "\r\n",
    "theta0=np.zeros((3,3,2))\r\n",
    "theta0[0]=theta00\r\n",
    "theta0[1]=theta01\r\n",
    "theta0[2]=theta02"
   ],
   "outputs": [],
   "metadata": {}
  },
  {
   "cell_type": "code",
   "execution_count": 17,
   "source": [
    "def ModEM(X,theta,C=2,tp=0.25,s=1):#读取sample、order和初值\r\n",
    "    num=X.shape[0]\r\n",
    "    Ga=np.zeros((num,C))\r\n",
    "    c=np.zeros(C)\r\n",
    "    d=np.zeros(C)\r\n",
    "    thetanext=np.zeros((3,C))\r\n",
    "    svar=np.var(X)\r\n",
    "    \r\n",
    "    for j in range(num):#响应度\r\n",
    "        for k in range(C):\r\n",
    "            c[k]=theta[0][k]*normal(X[j],theta[1:,k])\r\n",
    "        Ga[j]=c/np.sum(c)\r\n",
    "\r\n",
    "    for k in range(C):#更新参数\r\n",
    "        d[k]=np.sum(Ga[:,k])\r\n",
    "        thetanext[1,k]=np.dot(Ga[:,k],X[:])/d[k]\r\n",
    "        thetanext[2,k]=np.sqrt((np.dot(Ga[:,k],(X[:]-theta[1,k])**2)+2*tp*svar)/(d[k]+2*tp))#标准差\r\n",
    "        if (d[k]/num) <= 0.5:\r\n",
    "            if (d[k]+s)/(num+s) <= 0.5:\r\n",
    "                thetanext[0,k]=(d[k]+s)/(num+s)\r\n",
    "            else:\r\n",
    "                thetanext[0,k]=0.5\r\n",
    "        else:\r\n",
    "            if ((d[k])/(num+s)) >= 0.5:\r\n",
    "                thetanext[0,k]=(d[k]+C)/(num+s)\r\n",
    "            else:\r\n",
    "                thetanext[0,k]=0.5\r\n",
    "    return thetanext"
   ],
   "outputs": [],
   "metadata": {}
  },
  {
   "cell_type": "code",
   "execution_count": 18,
   "source": [
    "def iterate(X,n,T0,C,tp=0.25):\r\n",
    "    for j in range (n):\r\n",
    "        T0=ModEM(X,T0,C,tp)\r\n",
    "        Mn=2*(pl(X,T0[1:,0],T0[1:,1],T0[0,0])-ln0(X,stheta0))\r\n",
    "        print('\\n','-'*50,'the',j+1,'th is\\n',T0,'\\nM(',j+1,',α0=',beta[i],')=',Mn)"
   ],
   "outputs": [],
   "metadata": {}
  },
  {
   "cell_type": "code",
   "execution_count": 19,
   "source": [
    "theta0"
   ],
   "outputs": [
    {
     "output_type": "execute_result",
     "data": {
      "text/plain": [
       "array([[[ 0.1  ,  0.9  ],\n",
       "        [-2.   ,  1.   ],\n",
       "        [ 1.75 ,  1.75 ]],\n",
       "\n",
       "       [[ 0.3  ,  0.7  ],\n",
       "        [-1.   ,  1.   ],\n",
       "        [ 2.375,  1.75 ]],\n",
       "\n",
       "       [[ 0.5  ,  0.5  ],\n",
       "        [ 0.   ,  1.   ],\n",
       "        [ 2.375,  1.75 ]]])"
      ]
     },
     "metadata": {},
     "execution_count": 19
    }
   ],
   "metadata": {}
  },
  {
   "cell_type": "code",
   "execution_count": 20,
   "source": [
    "tp=n**(1/5)\r\n",
    "for i in range(3):\r\n",
    "    iterate(data,3,theta0[i],2,tp)"
   ],
   "outputs": [
    {
     "output_type": "stream",
     "name": "stdout",
     "text": [
      "\n",
      " -------------------------------------------------- the 1 th is\n",
      " [[ 0.1226036   0.88734665]\n",
      " [-2.16238786  0.86552286]\n",
      " [ 1.62175302  1.87629077]] \n",
      "M( 1 ,α0= 0.1 )= -7.274147984679985\n",
      "\n",
      " -------------------------------------------------- the 2 th is\n",
      " [[ 0.12303135  0.8869189 ]\n",
      " [-2.09970984  0.85856214]\n",
      " [ 1.52562061  1.89172556]] \n",
      "M( 2 ,α0= 0.1 )= -7.8828344164874125\n",
      "\n",
      " -------------------------------------------------- the 3 th is\n",
      " [[ 0.1236409   0.88630935]\n",
      " [-2.07655264  0.85748411]\n",
      " [ 1.45723469  1.90091112]] \n",
      "M( 3 ,α0= 0.1 )= -8.570426335845127\n",
      "\n",
      " -------------------------------------------------- the 1 th is\n",
      " [[ 0.29359304  0.71635721]\n",
      " [-0.74108374  1.01773956]\n",
      " [ 2.23998389  1.81612145]] \n",
      "M( 1 ,α0= 0.3 )= -4.2163516040021705\n",
      "\n",
      " -------------------------------------------------- the 2 th is\n",
      " [[ 0.2941556   0.71579465]\n",
      " [-0.68702823  0.99699511]\n",
      " [ 2.17486828  1.85935053]] \n",
      "M( 2 ,α0= 0.3 )= -3.6095746621394937\n",
      "\n",
      " -------------------------------------------------- the 3 th is\n",
      " [[ 0.29465794  0.71529231]\n",
      " [-0.65727902  0.98597652]\n",
      " [ 2.13869661  1.8856066 ]] \n",
      "M( 3 ,α0= 0.3 )= -3.3836556857443156\n",
      "\n",
      " -------------------------------------------------- the 1 th is\n",
      " [[0.5        0.5       ]\n",
      " [0.04321057 0.96980444]\n",
      " [2.3038277  1.76215775]] \n",
      "M( 1 ,α0= 0.5 )= -2.8485777145017437\n",
      "\n",
      " -------------------------------------------------- the 2 th is\n",
      " [[0.5        0.5       ]\n",
      " [0.06015035 0.95637615]\n",
      " [2.28889997 1.78660511]] \n",
      "M( 2 ,α0= 0.5 )= -2.6204322933014055\n",
      "\n",
      " -------------------------------------------------- the 3 th is\n",
      " [[0.5        0.5       ]\n",
      " [0.07111765 0.94508144]\n",
      " [2.27855578 1.80575707]] \n",
      "M( 3 ,α0= 0.5 )= -2.46874186053617\n"
     ]
    }
   ],
   "metadata": {}
  },
  {
   "cell_type": "code",
   "execution_count": null,
   "source": [],
   "outputs": [],
   "metadata": {}
  }
 ],
 "metadata": {
  "interpreter": {
   "hash": "b3ba2566441a7c06988d0923437866b63cedc61552a5af99d1f4fb67d367b25f"
  },
  "kernelspec": {
   "name": "python3",
   "display_name": "Python 3.8.5 64-bit ('base': conda)"
  },
  "language_info": {
   "codemirror_mode": {
    "name": "ipython",
    "version": 3
   },
   "file_extension": ".py",
   "mimetype": "text/x-python",
   "name": "python",
   "nbconvert_exporter": "python",
   "pygments_lexer": "ipython3",
   "version": "3.8.5"
  }
 },
 "nbformat": 4,
 "nbformat_minor": 2
}