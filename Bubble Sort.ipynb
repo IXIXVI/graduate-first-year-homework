{
 "metadata": {
  "language_info": {
   "codemirror_mode": {
    "name": "ipython",
    "version": 3
   },
   "file_extension": ".py",
   "mimetype": "text/x-python",
   "name": "python",
   "nbconvert_exporter": "python",
   "pygments_lexer": "ipython3",
   "version": "3.7.6-final"
  },
  "orig_nbformat": 2,
  "kernelspec": {
   "name": "Python 3.7.6 64-bit ('base': conda)",
   "display_name": "Python 3.7.6 64-bit ('base': conda)",
   "metadata": {
    "interpreter": {
     "hash": "485035c5b2a6f2b50dc2dc5ca51aeeb931032fbc9adc2e30c7c528d6bf8a9176"
    }
   }
  }
 },
 "nbformat": 4,
 "nbformat_minor": 2,
 "cells": [
  {
   "cell_type": "code",
   "execution_count": 1,
   "metadata": {},
   "outputs": [],
   "source": [
    "import numpy as np"
   ]
  },
  {
   "cell_type": "code",
   "execution_count": 2,
   "metadata": {},
   "outputs": [],
   "source": [
    "cc=np.zeros((20))\n",
    "for i in range(20):\n",
    "    cc[i]=i+1\n",
    "np.random.shuffle(cc)"
   ]
  },
  {
   "cell_type": "code",
   "execution_count": 3,
   "metadata": {},
   "outputs": [],
   "source": [
    "bb=[[0.        , 0.96953918],\n",
    "       [0.        , 0.47148945],\n",
    "       [0.        , 0.80160543],\n",
    "       [0.        , 0.78629224],\n",
    "       [0.        , 0.64445178],\n",
    "       [0.        , 0.56762811],\n",
    "       [1.        , 0.92935431],\n",
    "       [1.        , 1.5428009 ],\n",
    "       [1.        , 1.44315784],\n",
    "       [1.        , 0.48209367]]"
   ]
  },
  {
   "cell_type": "code",
   "execution_count": 4,
   "metadata": {},
   "outputs": [],
   "source": [
    "bb_dic=np.array(bb)"
   ]
  },
  {
   "cell_type": "code",
   "execution_count": 5,
   "metadata": {},
   "outputs": [],
   "source": [
    "bb[9],bb[8]=bb[0],bb[9]"
   ]
  },
  {
   "cell_type": "code",
   "execution_count": 6,
   "metadata": {},
   "outputs": [
    {
     "output_type": "stream",
     "name": "stdout",
     "text": [
      "[[0.0, 0.96953918], [0.0, 0.47148945], [0.0, 0.80160543], [0.0, 0.78629224], [0.0, 0.64445178], [0.0, 0.56762811], [1.0, 0.92935431], [1.0, 1.5428009], [1.0, 0.48209367], [0.0, 0.96953918]]\n"
     ]
    }
   ],
   "source": [
    "print(bb)"
   ]
  },
  {
   "cell_type": "code",
   "execution_count": 7,
   "metadata": {},
   "outputs": [
    {
     "output_type": "execute_result",
     "data": {
      "text/plain": [
       "array([ 1.,  5.,  8., 20.,  6.,  7., 13., 18., 14., 11., 19., 15., 17.,\n",
       "       12.,  9.,  4., 10.,  3., 16.,  2.])"
      ]
     },
     "metadata": {},
     "execution_count": 7
    }
   ],
   "source": [
    "#定义cc_dic，为bb的第二列\n",
    "cc_dic=np.array(cc)#取bb的第二列\n",
    "cc_dic1=np.array(cc)#用于测试\n",
    "cc_dic"
   ]
  },
  {
   "cell_type": "code",
   "execution_count": 8,
   "metadata": {},
   "outputs": [
    {
     "output_type": "execute_result",
     "data": {
      "text/plain": [
       "array([[0.        , 0.96953918],\n",
       "       [0.        , 0.47148945],\n",
       "       [0.        , 0.80160543],\n",
       "       [0.        , 0.78629224],\n",
       "       [0.        , 0.64445178],\n",
       "       [0.        , 0.56762811],\n",
       "       [1.        , 0.92935431],\n",
       "       [1.        , 1.5428009 ],\n",
       "       [1.        , 0.48209367],\n",
       "       [0.        , 0.96953918]])"
      ]
     },
     "metadata": {},
     "execution_count": 8
    }
   ],
   "source": [
    "#定义bb_dic\n",
    "bb_dic=np.array(bb)\n",
    "bb_dic"
   ]
  },
  {
   "cell_type": "code",
   "execution_count": 9,
   "metadata": {},
   "outputs": [
    {
     "output_type": "execute_result",
     "data": {
      "text/plain": [
       "array([ 1.,  2.,  3.,  4.,  5.,  6.,  7.,  8.,  9., 10., 11., 12., 13.,\n",
       "       14., 15., 16., 17., 18., 19., 20.])"
      ]
     },
     "metadata": {},
     "execution_count": 9
    }
   ],
   "source": [
    "#冒泡排序\n",
    "for i in range(len(cc_dic)-1):\n",
    "    #需要排的位数，取n和n-1意义一样，i=k循环次数代表后k位最大的已固定\n",
    "    for j in range(0,len(cc_dic)-1-i):\n",
    "        # j表示每次遍历需要比较的次数，逐渐减小，比上次少1\n",
    "        if cc_dic[j] > cc_dic[j+1]:\n",
    "            temp = cc_dic[j+1]\n",
    "            cc_dic[j+1] = cc_dic[j]\n",
    "            cc_dic[j] = temp\n",
    "            \n",
    "cc_dic#正常排序"
   ]
  },
  {
   "cell_type": "code",
   "execution_count": 10,
   "metadata": {},
   "outputs": [
    {
     "output_type": "execute_result",
     "data": {
      "text/plain": [
       "array([ 1.,  5.,  8., 20.,  6.,  7., 13., 18., 14., 11., 19., 15., 17.,\n",
       "       12.,  9.,  4., 10.,  3., 16.,  2.])"
      ]
     },
     "metadata": {},
     "execution_count": 10
    }
   ],
   "source": [
    "cc_dic1"
   ]
  },
  {
   "cell_type": "code",
   "execution_count": 11,
   "metadata": {},
   "outputs": [
    {
     "output_type": "stream",
     "name": "stdout",
     "text": [
      "j: 19 \t i: 0\n\t 2.0 \t 16.0\nj: 18 \t i: 0\n\t 2.0 \t 3.0\nj: 17 \t i: 0\n\t 2.0 \t 10.0\nj: 16 \t i: 0\n\t 2.0 \t 4.0\nj: 15 \t i: 0\n\t 2.0 \t 9.0\nj: 14 \t i: 0\n\t 2.0 \t 12.0\nj: 13 \t i: 0\n\t 2.0 \t 17.0\nj: 12 \t i: 0\n\t 2.0 \t 15.0\nj: 11 \t i: 0\n\t 2.0 \t 19.0\nj: 10 \t i: 0\n\t 2.0 \t 11.0\nj: 9 \t i: 0\n\t 2.0 \t 14.0\nj: 8 \t i: 0\n\t 2.0 \t 18.0\nj: 7 \t i: 0\n\t 2.0 \t 13.0\nj: 6 \t i: 0\n\t 2.0 \t 7.0\nj: 5 \t i: 0\n\t 2.0 \t 6.0\nj: 4 \t i: 0\n\t 2.0 \t 20.0\nj: 3 \t i: 0\n\t 2.0 \t 8.0\nj: 2 \t i: 0\n\t 2.0 \t 5.0\nj: 1 \t i: 0\nj: 19 \t i: 1\nj: 18 \t i: 1\n\t 3.0 \t 10.0\nj: 17 \t i: 1\n\t 3.0 \t 4.0\nj: 16 \t i: 1\n\t 3.0 \t 9.0\nj: 15 \t i: 1\n\t 3.0 \t 12.0\nj: 14 \t i: 1\n\t 3.0 \t 17.0\nj: 13 \t i: 1\n\t 3.0 \t 15.0\nj: 12 \t i: 1\n\t 3.0 \t 19.0\nj: 11 \t i: 1\n\t 3.0 \t 11.0\nj: 10 \t i: 1\n\t 3.0 \t 14.0\nj: 9 \t i: 1\n\t 3.0 \t 18.0\nj: 8 \t i: 1\n\t 3.0 \t 13.0\nj: 7 \t i: 1\n\t 3.0 \t 7.0\nj: 6 \t i: 1\n\t 3.0 \t 6.0\nj: 5 \t i: 1\n\t 3.0 \t 20.0\nj: 4 \t i: 1\n\t 3.0 \t 8.0\nj: 3 \t i: 1\n\t 3.0 \t 5.0\nj: 2 \t i: 1\n[ 1.  5.  8. 20.  6.  7. 13. 18. 14. 11. 19. 15. 17. 12.  9.  4. 10.  3.\n 16.  2.] \n [ 1.  2.  3.  4.  5.  6.  7.  8.  9. 10. 11. 12. 13. 14. 15. 16. 17. 18.\n 19. 20.] \n [ 1.  2.  3.  5.  8. 20.  6.  7. 13. 18. 14. 11. 19. 15. 17. 12.  9.  4.\n 10. 16.]\n"
     ]
    }
   ],
   "source": [
    "for i in range(2):\n",
    "    #需要排的位数，取n和n-1意义一样(排好后)\n",
    "    for j in range(len(cc_dic1)-1,i,-1):\n",
    "        print(\"j:\",j,'\\t','i:',i)\n",
    "        # j表示每次遍历需要比较的次数，逐渐减小，比上次少1\n",
    "        if cc_dic1[j] < cc_dic1[j-1]:\n",
    "            temp = cc_dic1[j-1]\n",
    "            cc_dic1[j-1] = cc_dic1[j]\n",
    "            cc_dic1[j] = temp\n",
    "            print('\\t',cc_dic1[j-1],'\\t',cc_dic1[j])\n",
    "\n",
    "print(cc,'\\n',cc_dic,'\\n',cc_dic1)"
   ]
  },
  {
   "cell_type": "code",
   "execution_count": 12,
   "metadata": {},
   "outputs": [
    {
     "output_type": "execute_result",
     "data": {
      "text/plain": [
       "[[0.0, 0.47148945],\n",
       " [1.0, 0.48209367],\n",
       " [0.0, 0.56762811],\n",
       " [0.0, 0.64445178],\n",
       " [0.0, 0.78629224],\n",
       " [0.0, 0.96953918],\n",
       " [0.0, 0.80160543],\n",
       " [1.0, 0.92935431],\n",
       " [0.0, 0.96953918],\n",
       " [1.0, 1.5428009]]"
      ]
     },
     "metadata": {},
     "execution_count": 12
    }
   ],
   "source": [
    "for i in range(5):\n",
    "    for j in range(len(bb)-1,i,-1):\n",
    "        # j表示每次遍历需要比较的次数，逐渐减小，比上次少1\n",
    "        if bb[j][1] < bb[j-1][1]:\n",
    "            bb[j],bb[j-1]=bb[j-1],bb[j]\n",
    "            '''\n",
    "            temp = bb_[j-1]\n",
    "            bb[j-1] = bb[j]\n",
    "            bb[j] = temp\n",
    "            '''\n",
    "\n",
    "bb"
   ]
  },
  {
   "cell_type": "code",
   "execution_count": 13,
   "metadata": {},
   "outputs": [
    {
     "output_type": "execute_result",
     "data": {
      "text/plain": [
       "array([[0.        , 0.96953918],\n",
       "       [0.        , 0.96953918],\n",
       "       [0.        , 0.96953918],\n",
       "       [0.        , 0.96953918],\n",
       "       [0.        , 0.96953918],\n",
       "       [0.        , 0.96953918],\n",
       "       [0.        , 0.96953918],\n",
       "       [1.        , 1.5428009 ],\n",
       "       [1.        , 1.5428009 ],\n",
       "       [1.        , 1.5428009 ]])"
      ]
     },
     "metadata": {},
     "execution_count": 13
    }
   ],
   "source": [
    "#冒泡排序\n",
    "for i in range(len(bb_dic)-1):\n",
    "    for j in range(len(bb_dic)-1-i):\n",
    "        # j表示每次遍历需要比较的次数，逐渐减小，比上次少1\n",
    "        if bb_dic[j][1] > bb_dic[j+1][1]:\n",
    "            temp = bb_dic[j+1]\n",
    "            bb_dic[j+1] = bb_dic[j]\n",
    "            bb_dic[j] = temp\n",
    "\n",
    "bb_dic"
   ]
  }
 ]
}